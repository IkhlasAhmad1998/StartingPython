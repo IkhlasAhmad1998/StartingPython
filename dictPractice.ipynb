{
  "nbformat": 4,
  "nbformat_minor": 0,
  "metadata": {
    "colab": {
      "name": "dictPractice.ipynb",
      "provenance": [],
      "collapsed_sections": []
    },
    "kernelspec": {
      "name": "python3",
      "display_name": "Python 3"
    }
  },
  "cells": [
    {
      "cell_type": "markdown",
      "metadata": {
        "id": "iKFL3Hk-Th3i"
      },
      "source": [
        "**Python Program to Add a Key-Value Pair to the Dictionary**"
      ]
    },
    {
      "cell_type": "code",
      "metadata": {
        "id": "zDP2BpGmTdkM",
        "colab": {
          "base_uri": "https://localhost:8080/",
          "height": 68
        },
        "outputId": "aaf41a92-74c0-468f-b940-a09e183c1e44"
      },
      "source": [
        "Key = int(input(\"Enter key (int) to be added: \"))\n",
        "Value = input(\"Enter he value for the key to be added: \")\n",
        "myDict = {}\n",
        "myDict.update({Key: Value})\n",
        "myDict"
      ],
      "execution_count": null,
      "outputs": [
        {
          "output_type": "stream",
          "text": [
            "Enter key (int) to be added: 34\n",
            "Enter he value for the key to be added: 29\n"
          ],
          "name": "stdout"
        },
        {
          "output_type": "execute_result",
          "data": {
            "text/plain": [
              "{34: '29'}"
            ]
          },
          "metadata": {
            "tags": []
          },
          "execution_count": 5
        }
      ]
    },
    {
      "cell_type": "markdown",
      "metadata": {
        "id": "3GhRIYZrU11N"
      },
      "source": [
        "**Python Program to Concatenate Two Dictionaries Into One**"
      ]
    },
    {
      "cell_type": "code",
      "metadata": {
        "id": "IJsUzcRRUPoe",
        "colab": {
          "base_uri": "https://localhost:8080/",
          "height": 88
        },
        "outputId": "2aad580d-298d-408e-c3f2-8be5891ede14"
      },
      "source": [
        "fruits = {}\n",
        "vegetables = {}\n",
        "\n",
        "fruit = [\"Apple\", \"Orange\", \"Grapes\", \"Banana\"]\n",
        "veg = [\"Potato\", \"Tomato\", \"Turnip\"]\n",
        "\n",
        "for i in range(len(fruit)):\n",
        "  fruits.update({i+1: fruit[i]})\n",
        "\n",
        "for j in range(len(veg)):\n",
        "  k = len(fruit)\n",
        "  vegetables.update({k+j+1: veg[j]})\n",
        "\n",
        "print(fruits)\n",
        "print(vegetables)\n",
        "\n",
        "# after cancatenating vegetables dictionary to fruits dictionary\n",
        "\n",
        "for key, value in vegetables.items():\n",
        "  fruits.update({key: value})\n",
        "\n",
        "print(\"Concatenated dictionary is: {}\".format(fruits))"
      ],
      "execution_count": null,
      "outputs": [
        {
          "output_type": "stream",
          "text": [
            "{1: 'Apple', 2: 'Orange', 3: 'Grapes', 4: 'Banana'}\n",
            "{5: 'Potato', 6: 'Tomato', 7: 'Turnip'}\n",
            "Concatenated dictionary is: {1: 'Apple', 2: 'Orange', 3: 'Grapes', 4: 'Banana', 5: 'Potato', 6: 'Tomato', 7: 'Turnip'}\n"
          ],
          "name": "stdout"
        }
      ]
    },
    {
      "cell_type": "markdown",
      "metadata": {
        "id": "GUK7h-7_XJ7C"
      },
      "source": [
        "**Python Program to Check if a Given Key Exists in a Dictionary or Not**"
      ]
    },
    {
      "cell_type": "code",
      "metadata": {
        "id": "VHaFNV-PVwXX",
        "colab": {
          "base_uri": "https://localhost:8080/",
          "height": 51
        },
        "outputId": "63a24f57-c4fe-41fb-ddfc-bfb0bc876640"
      },
      "source": [
        "cars = {1: \"Maclaren\", 2: \"BMW\", 3: \"Mercedez\", 4: \"GLI\", 5: \"V8\", 6: \"Range Rover\"}\n",
        "Key = int(input(\"Enter key to check (int): \"))\n",
        "\n",
        "if Key in cars.keys():\n",
        "  print(f\"{Key} is present and value of the key is: {cars[Key]}\")\n",
        "else:\n",
        "  print(f\"{Key} isn't present!\")"
      ],
      "execution_count": null,
      "outputs": [
        {
          "output_type": "stream",
          "text": [
            "Enter key to check (int): 1\n",
            "1 is present and value of the key is: Maclaren\n"
          ],
          "name": "stdout"
        }
      ]
    },
    {
      "cell_type": "markdown",
      "metadata": {
        "id": "k3W5Gi0QYSkO"
      },
      "source": [
        "**Python Program to Generate a Dictionary that Contains Numbers (between 1 and n) in the Form (x,x*x).**"
      ]
    },
    {
      "cell_type": "code",
      "metadata": {
        "id": "IUjpElYIYT7-",
        "colab": {
          "base_uri": "https://localhost:8080/",
          "height": 71
        },
        "outputId": "f628c372-2afe-4b60-c545-65191027b5d2"
      },
      "source": [
        "sqrDict = {}\n",
        "\n",
        "n = int(input(\"Enter a number: \"))\n",
        "\n",
        "n = n+1 # we have to exculde zero and include the last number\n",
        "\n",
        "for i in range(1,n):\n",
        "  sqrDict.update({i: i*i})\n",
        "\n",
        "print(sqrDict)"
      ],
      "execution_count": null,
      "outputs": [
        {
          "output_type": "stream",
          "text": [
            "Enter a number: 19\n",
            "{1: 1, 2: 4, 3: 9, 4: 16, 5: 25, 6: 36, 7: 49, 8: 64, 9: 81, 10: 100, 11: 121, 12: 144, 13: 169, 14: 196, 15: 225, 16: 256, 17: 289, 18: 324, 19: 361}\n"
          ],
          "name": "stdout"
        }
      ]
    },
    {
      "cell_type": "markdown",
      "metadata": {
        "id": "aksLXfqUZDp3"
      },
      "source": [
        "**Python Program to Sum All the Items in a Dictionary**"
      ]
    },
    {
      "cell_type": "code",
      "metadata": {
        "id": "G0kpDA8WZG3W",
        "colab": {
          "base_uri": "https://localhost:8080/",
          "height": 34
        },
        "outputId": "b73dfc50-be46-4114-e08a-a79a5da9338a"
      },
      "source": [
        "my_list = list(range(1,21))\n",
        "my_dict = {}\n",
        "for i in my_list:\n",
        "  my_dict.update({i-1: i})\n",
        "\n",
        "print(my_dict)\n",
        "\n",
        "Sum = 0\n",
        "\n",
        "for i in my_dict:\n",
        "  Sum = Sum + my_dict[i]\n",
        "\n",
        "print(f\"Total sum of values in the dictionary: {Sum}\")\n"
      ],
      "execution_count": null,
      "outputs": [
        {
          "output_type": "stream",
          "text": [
            "Total sum of values in the dictionary: 210\n"
          ],
          "name": "stdout"
        }
      ]
    },
    {
      "cell_type": "markdown",
      "metadata": {
        "id": "6jBHRjm3aJZi"
      },
      "source": [
        "**Python Program to Multiply All the Items in a Dictionary**"
      ]
    },
    {
      "cell_type": "code",
      "metadata": {
        "id": "JZ50AY4waKdq",
        "colab": {
          "base_uri": "https://localhost:8080/",
          "height": 51
        },
        "outputId": "659c9816-782a-4d7a-b598-59469c33cd75"
      },
      "source": [
        "myList = list(range(1,6))\n",
        "myDict = {}\n",
        "for i in myList:\n",
        "  myDict.update({i-1: i})\n",
        "\n",
        "print(myDict)\n",
        "\n",
        "Product = 1\n",
        "\n",
        "for i in myDict:\n",
        "  Product = Product * myDict[i]\n",
        "\n",
        "print(f\"Total Product of values in the dictionary: {Product}\")"
      ],
      "execution_count": null,
      "outputs": [
        {
          "output_type": "stream",
          "text": [
            "{0: 1, 1: 2, 2: 3, 3: 4, 4: 5}\n",
            "Total Product of values in the dictionary: 120\n"
          ],
          "name": "stdout"
        }
      ]
    },
    {
      "cell_type": "markdown",
      "metadata": {
        "id": "qWgMSF0ia3Ls"
      },
      "source": [
        "**Python Program to Remove the Given Key from a Dictionary**"
      ]
    },
    {
      "cell_type": "code",
      "metadata": {
        "id": "sVyEfgiia4PP",
        "colab": {
          "base_uri": "https://localhost:8080/",
          "height": 85
        },
        "outputId": "5adb3b97-f473-49cc-8ed0-ea457104f066"
      },
      "source": [
        "Cars = {1: \"Maclaren\", 2: \"BMW\", 3: \"Mercedez\", 4: \"GLI\", 5: \"V8\", 6: \"Range Rover\"}\n",
        "\n",
        "print(f\"Initial dictionary:\\n{Cars}\")\n",
        "\n",
        "dKey = int(input(f\"Enter the key to delete {Cars.keys()}\"))\n",
        "\n",
        "if dKey in Cars.keys():\n",
        "  Cars.pop(dKey)\n",
        "  print(f\"Updated dictionary:\\n{Cars}\")\n",
        "else:\n",
        "  print(\"key not found!\")\n"
      ],
      "execution_count": null,
      "outputs": [
        {
          "output_type": "stream",
          "text": [
            "Initial dictionary:\n",
            "{1: 'Maclaren', 2: 'BMW', 3: 'Mercedez', 4: 'GLI', 5: 'V8', 6: 'Range Rover'}\n",
            "Enter the key to delete dict_keys([1, 2, 3, 4, 5, 6])8\n",
            "key not found!\n"
          ],
          "name": "stdout"
        }
      ]
    },
    {
      "cell_type": "markdown",
      "metadata": {
        "id": "ZV5QHVN4cRsv"
      },
      "source": [
        "**Python Program to Map Two Lists into a Dictionary**"
      ]
    },
    {
      "cell_type": "code",
      "metadata": {
        "id": "yI07fXNBcStW",
        "colab": {
          "base_uri": "https://localhost:8080/",
          "height": 170
        },
        "outputId": "bd9da471-3a48-4bc3-f167-43c83da20a2b"
      },
      "source": [
        "L1 = []\n",
        "L2 = []\n",
        "cDict = {}\n",
        "\n",
        "nD = int(input(\"Enter number of elements for dictionary: \"))\n",
        "\n",
        "print(\"for Keys:\")\n",
        "for key in range(nD):\n",
        "  l_item = input(f\"Enter element{key+1}: \")\n",
        "  L1.append(l_item)\n",
        "\n",
        "print(\"for Values:\")\n",
        "for value in range(nD):\n",
        "  l_item = input(f\"Enter element{value+1}: \")\n",
        "  L2.append(l_item)\n",
        "\n",
        "print(\"The dictionary is :\")\n",
        "for items in range(nD):\n",
        "  key = L1[items]\n",
        "  value = L2[items]\n",
        "  cDict.update({key: value})\n",
        "\n",
        "print(cDict)\n"
      ],
      "execution_count": null,
      "outputs": [
        {
          "output_type": "stream",
          "text": [
            "Enter number of elements for dictionary: 2\n",
            "for Keys:\n",
            "Enter element1: 1\n",
            "Enter element2: 2\n",
            "for Values:\n",
            "Enter element1: 3\n",
            "Enter element2: 4\n",
            "The dictionary is :\n",
            "{'1': '3', '2': '4'}\n"
          ],
          "name": "stdout"
        }
      ]
    },
    {
      "cell_type": "markdown",
      "metadata": {
        "id": "nqUklx7u-HAE"
      },
      "source": [
        "**Python Program to Count the Frequency of Words Appearing in a String Using a Dictionary**"
      ]
    },
    {
      "cell_type": "code",
      "metadata": {
        "id": "PjKa1Wzzc0kr",
        "colab": {
          "base_uri": "https://localhost:8080/",
          "height": 51
        },
        "outputId": "eb462ca5-2e72-43c8-b69a-09cad5acd877"
      },
      "source": [
        "usrInput = input(\"Enter string: \")\n",
        "words = usrInput.split()\n",
        "counts = []\n",
        "for word in range(len(words)):\n",
        "  counts.append(words.count(words[word]))\n",
        "\n",
        "zDict = dict(zip(words, counts))\n",
        "\n",
        "print(zDict)\n",
        "\n"
      ],
      "execution_count": null,
      "outputs": [
        {
          "output_type": "stream",
          "text": [
            "Enter string: string:orange banana apple apple orange pineapple\n",
            "{'string:orange': 1, 'banana': 1, 'apple': 2, 'orange': 1, 'pineapple': 1}\n"
          ],
          "name": "stdout"
        }
      ]
    },
    {
      "cell_type": "markdown",
      "metadata": {
        "id": "0IAS6bAlElgS"
      },
      "source": [
        "**Python Program to Create a Dictionary with Key as First Character and Value as Words Starting with that Character**"
      ]
    },
    {
      "cell_type": "code",
      "metadata": {
        "id": "wmhDZOm-EReE",
        "colab": {
          "base_uri": "https://localhost:8080/",
          "height": 170
        },
        "outputId": "ae38ff73-97f2-443a-f88e-1a7fb54c9bc8"
      },
      "source": [
        "user_input = input(\"Enter string: \")\n",
        "my_dict = {}\n",
        "spl_usrinp = user_input.split()\n",
        "for word in spl_usrinp:\n",
        "  if word[0] in my_dict.keys():\n",
        "    my_dict[word[0]].append(word)\n",
        "  else:\n",
        "    my_dict.update({word[0] : [word]})\n",
        "\n",
        "for key, value in my_dict.items():\n",
        "      print(f\"('{key}' : {value})\")"
      ],
      "execution_count": null,
      "outputs": [
        {
          "output_type": "stream",
          "text": [
            "Enter string: python is my most favourite programming language in the entire world\n",
            "('p' : ['python', 'programming'])\n",
            "('i' : ['is', 'in'])\n",
            "('m' : ['my', 'most'])\n",
            "('f' : ['favourite'])\n",
            "('l' : ['language'])\n",
            "('t' : ['the'])\n",
            "('e' : ['entire'])\n",
            "('w' : ['world'])\n"
          ],
          "name": "stdout"
        }
      ]
    }
  ]
}