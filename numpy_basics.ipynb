{
 "cells": [
  {
   "cell_type": "code",
   "execution_count": 1,
   "metadata": {},
   "outputs": [],
   "source": [
    "import numpy as np"
   ]
  },
  {
   "cell_type": "code",
   "execution_count": 2,
   "metadata": {},
   "outputs": [
    {
     "data": {
      "text/plain": [
       "'1.19.3'"
      ]
     },
     "execution_count": 2,
     "metadata": {},
     "output_type": "execute_result"
    }
   ],
   "source": [
    "np.__version__"
   ]
  },
  {
   "cell_type": "code",
   "execution_count": 3,
   "metadata": {},
   "outputs": [
    {
     "name": "stdout",
     "output_type": "stream",
     "text": [
      "1.2 s ± 24.6 ms per loop (mean ± std. dev. of 7 runs, 1 loop each)\n"
     ]
    }
   ],
   "source": [
    "%timeit [i for i in range(20000000)]"
   ]
  },
  {
   "cell_type": "code",
   "execution_count": 4,
   "metadata": {},
   "outputs": [
    {
     "name": "stdout",
     "output_type": "stream",
     "text": [
      "23.2 ms ± 364 µs per loop (mean ± std. dev. of 7 runs, 10 loops each)\n"
     ]
    }
   ],
   "source": [
    "%timeit np.arange(20000000)"
   ]
  },
  {
   "cell_type": "markdown",
   "metadata": {},
   "source": [
    "# Numpy Methods:\n",
    "1.\tarray\n",
    "2.\tasarray\n",
    "3.\tarange\n",
    "4.\tempty\n",
    "5.\temptylike\n",
    "6.\tzero\n",
    "7.\tzerolike\n",
    "8.\tones\n",
    "9.\toneslike\n",
    "10.\tlinspace\n",
    "11.\tfull\n",
    "12.\tfull like\n",
    "13.\teye\n",
    "14.\tidentity\n",
    "15.\tastype\n",
    "16.\trandom\n",
    "17.\trandn\n",
    "18.\trandint\n",
    "19.\tsort\n",
    "20.\tconcatenate\n",
    "21.\tvstack\n",
    "22.\thstack\n",
    "23.\tcolumnstack\n",
    "24.\trowstack\n",
    "25.\tsplit\n",
    "26.\thsplit\n",
    "27.\tvsplit\n",
    "28.\tsum\n",
    "29.\tproduct\n",
    "30.\tmin\n",
    "31.\tmax\n",
    "32.\tmean\n",
    "33.\tstd-dev\n",
    "34.\tvariance\n",
    "35.\tcumsum\n",
    "36.\tcumprod\n",
    "37.\tsqrt\n",
    "38.\tsquare\n",
    "39.\texp\n",
    "40.\tpower\n",
    "41.\tabs\n",
    "42.\tfabs\n",
    "43.\tlog\n",
    "44.\tceil\n",
    "45.\tfloor\n",
    "46.\tany\n",
    "47.\tall\n",
    "48.\twhere\n",
    "49.\tcos\n",
    "50.\ttan\n",
    "51.\tsin"
   ]
  },
  {
   "cell_type": "markdown",
   "metadata": {},
   "source": [
    "# Creating Arrays"
   ]
  },
  {
   "cell_type": "code",
   "execution_count": 2,
   "metadata": {},
   "outputs": [
    {
     "data": {
      "text/plain": [
       "array([[1, 2, 3, 4],\n",
       "       [5, 6, 7, 8]])"
      ]
     },
     "execution_count": 2,
     "metadata": {},
     "output_type": "execute_result"
    }
   ],
   "source": [
    "# Creating array using array method\n",
    "arr = np.array([[1,2,3,4],[5,6,7,8]])\n",
    "arr"
   ]
  },
  {
   "cell_type": "code",
   "execution_count": 98,
   "metadata": {},
   "outputs": [
    {
     "data": {
      "text/plain": [
       "array([           1,            2,            3,            4,\n",
       "                  5,            6,            7,            8,\n",
       "                  9,           22,           55,           88,\n",
       "                 66,           11,           22,            0,\n",
       "                125,      6465465,        54545,        13232,\n",
       "           45454545, 465465465465,       545465], dtype=int64)"
      ]
     },
     "execution_count": 98,
     "metadata": {},
     "output_type": "execute_result"
    }
   ],
   "source": [
    "# another method of creating array from existing list or tuple\n",
    "lst = [1,2,3,4,5,6,7,8,9,22,55,88,66,11,22,0,125,6465465,54545,13232,45454545,465465465465,545465]\n",
    "as_arr = np.asarray(lst, order='C')\n",
    "as_arr"
   ]
  },
  {
   "cell_type": "code",
   "execution_count": 3,
   "metadata": {},
   "outputs": [
    {
     "data": {
      "text/plain": [
       "array([     0,      1,      2, ..., 999997, 999998, 999999])"
      ]
     },
     "execution_count": 3,
     "metadata": {},
     "output_type": "execute_result"
    }
   ],
   "source": [
    "# Creating array using arange method\n",
    "a_arr = np.arange(1000000) # we can also specify start, end and step\n",
    "a_arr"
   ]
  },
  {
   "cell_type": "code",
   "execution_count": 17,
   "metadata": {},
   "outputs": [
    {
     "data": {
      "text/plain": [
       "array([ 0. ,  2.5,  5. ,  7.5, 10. ])"
      ]
     },
     "execution_count": 17,
     "metadata": {},
     "output_type": "execute_result"
    }
   ],
   "source": [
    "# Creating an empty array which intially contains random values\n",
    "e_arr = np.empty(5) # creates an empty of array with 2 elements\n",
    "e_arr"
   ]
  },
  {
   "cell_type": "code",
   "execution_count": 18,
   "metadata": {},
   "outputs": [
    {
     "name": "stdout",
     "output_type": "stream",
     "text": [
      "[[10  4]\n",
      " [14 45]\n",
      " [38 40]]\n",
      "[[520645440       715]\n",
      " [        0         0]\n",
      " [        1         0]]\n"
     ]
    }
   ],
   "source": [
    "# Creating an empty array and getting shape of another array\n",
    "dummy_arr = np.random.randint(0, 50, (3, 2))\n",
    "print(dummy_arr)\n",
    "empty_like_arr = np.empty_like(dummy_arr)\n",
    "print(empty_like_arr)"
   ]
  },
  {
   "cell_type": "code",
   "execution_count": 6,
   "metadata": {},
   "outputs": [
    {
     "data": {
      "text/plain": [
       "array([0., 0., 0., 0., 0., 0., 0., 0., 0., 0.])"
      ]
     },
     "execution_count": 6,
     "metadata": {},
     "output_type": "execute_result"
    }
   ],
   "source": [
    "# Creating an array with all 0's\n",
    "z_arr = np.zeros(10)\n",
    "z_arr"
   ]
  },
  {
   "cell_type": "code",
   "execution_count": 11,
   "metadata": {},
   "outputs": [
    {
     "name": "stdout",
     "output_type": "stream",
     "text": [
      "[[7 9 5]\n",
      " [7 1 1]]\n"
     ]
    },
    {
     "data": {
      "text/plain": [
       "array([[0, 0, 0],\n",
       "       [0, 0, 0]])"
      ]
     },
     "execution_count": 11,
     "metadata": {},
     "output_type": "execute_result"
    }
   ],
   "source": [
    "# Creating an array filled with zero and getting shape of array from another array\n",
    "dummy_arr = np.random.randint(0,10, (2,3))\n",
    "print(dummy_arr)\n",
    "zero_like_array = np.zeros_like(dummy_arr)\n",
    "zero_like_array"
   ]
  },
  {
   "cell_type": "code",
   "execution_count": 10,
   "metadata": {},
   "outputs": [
    {
     "data": {
      "text/plain": [
       "array([1., 1., 1., 1., 1., 1., 1., 1., 1., 1., 1., 1., 1., 1., 1., 1., 1.,\n",
       "       1., 1., 1.])"
      ]
     },
     "execution_count": 10,
     "metadata": {},
     "output_type": "execute_result"
    }
   ],
   "source": [
    "# Creating an array with all 1's\n",
    "o_arr = np.ones(20)\n",
    "o_arr"
   ]
  },
  {
   "cell_type": "code",
   "execution_count": 14,
   "metadata": {},
   "outputs": [
    {
     "name": "stdout",
     "output_type": "stream",
     "text": [
      "[[7 9 5]\n",
      " [7 1 1]]\n"
     ]
    },
    {
     "data": {
      "text/plain": [
       "array([[1, 1, 1],\n",
       "       [1, 1, 1]])"
      ]
     },
     "execution_count": 14,
     "metadata": {},
     "output_type": "execute_result"
    }
   ],
   "source": [
    "# Creating an array of ones but getting shape of array from another array\n",
    "print(dummy_arr)\n",
    "ones_like_arr = np.ones_like(dummy_arr)\n",
    "ones_like_arr"
   ]
  },
  {
   "cell_type": "code",
   "execution_count": 13,
   "metadata": {},
   "outputs": [
    {
     "data": {
      "text/plain": [
       "array([ 0. ,  2.5,  5. ,  7.5, 10. ])"
      ]
     },
     "execution_count": 13,
     "metadata": {},
     "output_type": "execute_result"
    }
   ],
   "source": [
    "# Creating an array with elemnts lineraly spaced in given interval\n",
    "l_arr = np.linspace(0,10, 5) # start, stop and no of linerly spaced elements\n",
    "l_arr"
   ]
  },
  {
   "cell_type": "code",
   "execution_count": 5,
   "metadata": {},
   "outputs": [
    {
     "data": {
      "text/plain": [
       "array([[2, 2, 2],\n",
       "       [2, 2, 2],\n",
       "       [2, 2, 2]])"
      ]
     },
     "execution_count": 5,
     "metadata": {},
     "output_type": "execute_result"
    }
   ],
   "source": [
    "# Creating an array filled with desired elements\n",
    "f_array = np.full((3,3), 2)\n",
    "f_array"
   ]
  },
  {
   "cell_type": "code",
   "execution_count": 8,
   "metadata": {},
   "outputs": [
    {
     "data": {
      "text/plain": [
       "array([[6, 6, 6],\n",
       "       [6, 6, 6],\n",
       "       [6, 6, 6]])"
      ]
     },
     "execution_count": 8,
     "metadata": {},
     "output_type": "execute_result"
    }
   ],
   "source": [
    "# Creating an array that takes the shape from another array and filled with desired values\n",
    "f_like_array = np.full_like(f_array, 6)\n",
    "f_like_array"
   ]
  },
  {
   "cell_type": "markdown",
   "metadata": {},
   "source": [
    "# Identity and Eye methods"
   ]
  },
  {
   "cell_type": "code",
   "execution_count": 9,
   "metadata": {},
   "outputs": [
    {
     "data": {
      "text/plain": [
       "array([[1., 0., 0., 0., 0.],\n",
       "       [0., 1., 0., 0., 0.],\n",
       "       [0., 0., 1., 0., 0.],\n",
       "       [0., 0., 0., 1., 0.],\n",
       "       [0., 0., 0., 0., 1.]])"
      ]
     },
     "execution_count": 9,
     "metadata": {},
     "output_type": "execute_result"
    }
   ],
   "source": [
    "identity_array = np.identity(5)\n",
    "identity_array"
   ]
  },
  {
   "cell_type": "code",
   "execution_count": 11,
   "metadata": {},
   "outputs": [
    {
     "data": {
      "text/plain": [
       "array([[0., 0., 1., 0., 0.],\n",
       "       [0., 0., 0., 1., 0.],\n",
       "       [0., 0., 0., 0., 1.],\n",
       "       [0., 0., 0., 0., 0.],\n",
       "       [0., 0., 0., 0., 0.]])"
      ]
     },
     "execution_count": 11,
     "metadata": {},
     "output_type": "execute_result"
    }
   ],
   "source": [
    "eye_array = np.eye(5, k=2)\n",
    "eye_array"
   ]
  },
  {
   "cell_type": "markdown",
   "metadata": {},
   "source": [
    "# Data Type (dtype) of array"
   ]
  },
  {
   "cell_type": "code",
   "execution_count": 20,
   "metadata": {},
   "outputs": [
    {
     "name": "stdout",
     "output_type": "stream",
     "text": [
      "int32\n"
     ]
    },
    {
     "data": {
      "text/plain": [
       "array([ 0,  5, 10, 15, 20, 25, 30, 35, 40, 45, 50, 55, 60, 65, 70, 75, 80,\n",
       "       85, 90, 95])"
      ]
     },
     "execution_count": 20,
     "metadata": {},
     "output_type": "execute_result"
    }
   ],
   "source": [
    "# Cheaking the data type of array\n",
    "d_arr = np.arange(0, 100, 5)\n",
    "print(d_arr.dtype)\n",
    "d_arr"
   ]
  },
  {
   "cell_type": "code",
   "execution_count": 21,
   "metadata": {},
   "outputs": [
    {
     "name": "stdout",
     "output_type": "stream",
     "text": [
      "float64\n"
     ]
    },
    {
     "data": {
      "text/plain": [
       "array([ 0.,  5., 10., 15., 20., 25., 30., 35., 40., 45., 50., 55., 60.,\n",
       "       65., 70., 75., 80., 85., 90., 95.])"
      ]
     },
     "execution_count": 21,
     "metadata": {},
     "output_type": "execute_result"
    }
   ],
   "source": [
    "# changing the dtype of array\n",
    "d_arr = d_arr.astype(np.float64)\n",
    "print(d_arr.dtype)\n",
    "d_arr"
   ]
  },
  {
   "cell_type": "markdown",
   "metadata": {},
   "source": [
    "# Array Attributes"
   ]
  },
  {
   "cell_type": "code",
   "execution_count": 22,
   "metadata": {},
   "outputs": [
    {
     "name": "stdout",
     "output_type": "stream",
     "text": [
      "[[[ 0  5]\n",
      "  [10 15]\n",
      "  [20 25]\n",
      "  [30 35]]\n",
      "\n",
      " [[40 45]\n",
      "  [50 55]\n",
      "  [60 65]\n",
      "  [70 75]]]\n",
      "Dimensions or axis of our array: 3\n",
      "Rows or columns in our array: (2, 4, 2)\n",
      "Data type of our array: int32\n",
      "Size of length of array: 16\n",
      "Size of individual element in bytes: 4\n",
      "the buffer containing the actual elements of the array: <memory at 0x000002CB5A1AA040>\n"
     ]
    }
   ],
   "source": [
    "n_arr = np.arange(0, 80, 5).reshape(2, 4, 2)\n",
    "print(n_arr)\n",
    "print(\"Dimensions or axis of our array: {}\".format(n_arr.ndim))\n",
    "print(\"Rows or columns in our array: {}\".format(n_arr.shape))\n",
    "print(\"Data type of our array: {}\".format(n_arr.dtype))\n",
    "print(\"Size of length of array: {}\".format(n_arr.size))\n",
    "print(\"Size of individual element in bytes: {}\".format(n_arr.itemsize))\n",
    "print(\"the buffer containing the actual elements of the array: {}\".format(n_arr.data))"
   ]
  },
  {
   "cell_type": "markdown",
   "metadata": {},
   "source": [
    "# Creating array with random numbers"
   ]
  },
  {
   "cell_type": "code",
   "execution_count": 45,
   "metadata": {},
   "outputs": [
    {
     "data": {
      "text/plain": [
       "array([[0.95266268, 0.01989741],\n",
       "       [0.94913543, 0.87260016]])"
      ]
     },
     "execution_count": 45,
     "metadata": {},
     "output_type": "execute_result"
    }
   ],
   "source": [
    "r_arr = np.random.random((2, 2))\n",
    "r_arr"
   ]
  },
  {
   "cell_type": "code",
   "execution_count": 49,
   "metadata": {},
   "outputs": [
    {
     "data": {
      "text/plain": [
       "array([-0.25608468,  0.33608899,  0.99094242])"
      ]
     },
     "execution_count": 49,
     "metadata": {},
     "output_type": "execute_result"
    }
   ],
   "source": [
    "r_arr = np.random.randn(3)\n",
    "r_arr"
   ]
  },
  {
   "cell_type": "code",
   "execution_count": 57,
   "metadata": {},
   "outputs": [
    {
     "name": "stdout",
     "output_type": "stream",
     "text": [
      "[[[[[45  1]\n",
      "    [80 54]]\n",
      "\n",
      "   [[56 47]\n",
      "    [63  4]]\n",
      "\n",
      "   [[66 27]\n",
      "    [66 15]]\n",
      "\n",
      "   [[28 76]\n",
      "    [63 69]]\n",
      "\n",
      "   [[55 82]\n",
      "    [47 37]]]\n",
      "\n",
      "\n",
      "  [[[91 45]\n",
      "    [42 10]]\n",
      "\n",
      "   [[11 67]\n",
      "    [74 93]]\n",
      "\n",
      "   [[20  0]\n",
      "    [27 95]]\n",
      "\n",
      "   [[29 59]\n",
      "    [91 97]]\n",
      "\n",
      "   [[19 64]\n",
      "    [63 18]]]\n",
      "\n",
      "\n",
      "  [[[ 8 15]\n",
      "    [73  4]]\n",
      "\n",
      "   [[24 80]\n",
      "    [92 36]]\n",
      "\n",
      "   [[29 96]\n",
      "    [31 25]]\n",
      "\n",
      "   [[32 29]\n",
      "    [85 97]]\n",
      "\n",
      "   [[48 27]\n",
      "    [82 51]]]]\n",
      "\n",
      "\n",
      "\n",
      " [[[[54 45]\n",
      "    [97  7]]\n",
      "\n",
      "   [[55 37]\n",
      "    [ 6 22]]\n",
      "\n",
      "   [[28 93]\n",
      "    [ 3 75]]\n",
      "\n",
      "   [[17 76]\n",
      "    [42 69]]\n",
      "\n",
      "   [[68 81]\n",
      "    [77 80]]]\n",
      "\n",
      "\n",
      "  [[[ 5 16]\n",
      "    [32 51]]\n",
      "\n",
      "   [[95  3]\n",
      "    [13  1]]\n",
      "\n",
      "   [[20 34]\n",
      "    [16  6]]\n",
      "\n",
      "   [[ 4 82]\n",
      "    [19 70]]\n",
      "\n",
      "   [[86 34]\n",
      "    [91 80]]]\n",
      "\n",
      "\n",
      "  [[[52  7]\n",
      "    [61 55]]\n",
      "\n",
      "   [[28  2]\n",
      "    [31 90]]\n",
      "\n",
      "   [[ 4 67]\n",
      "    [80 13]]\n",
      "\n",
      "   [[82 97]\n",
      "    [10 88]]\n",
      "\n",
      "   [[ 2 98]\n",
      "    [51 17]]]]]\n"
     ]
    }
   ],
   "source": [
    "mult_arr = np.random.randint(0, 100, size=(2, 3, 5, 2 , 2))\n",
    "print(mult_arr)"
   ]
  },
  {
   "cell_type": "code",
   "execution_count": 58,
   "metadata": {},
   "outputs": [
    {
     "data": {
      "text/plain": [
       "array([[10, 15, 17, 16, 15, 13,  1,  6],\n",
       "       [ 5,  1,  5, 12,  2, 16, 10,  7]], dtype=int64)"
      ]
     },
     "execution_count": 58,
     "metadata": {},
     "output_type": "execute_result"
    }
   ],
   "source": [
    "i_arr = np.random.randint(1, 20,(2, 8), dtype=\"int64\")\n",
    "i_arr"
   ]
  },
  {
   "cell_type": "markdown",
   "metadata": {},
   "source": [
    "# Sorting, Concatenating arrays and Spliting Arrays"
   ]
  },
  {
   "cell_type": "code",
   "execution_count": 59,
   "metadata": {},
   "outputs": [
    {
     "data": {
      "text/plain": [
       "array([[ 1,  6, 10, 13, 15, 15, 16, 17],\n",
       "       [ 1,  2,  5,  5,  7, 10, 12, 16]], dtype=int64)"
      ]
     },
     "execution_count": 59,
     "metadata": {},
     "output_type": "execute_result"
    }
   ],
   "source": [
    "i_arr.sort()\n",
    "i_arr"
   ]
  },
  {
   "cell_type": "code",
   "execution_count": 71,
   "metadata": {
    "scrolled": true
   },
   "outputs": [
    {
     "name": "stdout",
     "output_type": "stream",
     "text": [
      "[[15  8  7 17  6  5 14 12]\n",
      " [ 1  2  8 16  8 15  7  5]]\n"
     ]
    },
    {
     "data": {
      "text/plain": [
       "array([[ 1,  6, 10, 13, 15, 15, 16, 17, 15,  8,  7, 17,  6,  5, 14, 12],\n",
       "       [ 1,  2,  5,  5,  7, 10, 12, 16,  1,  2,  8, 16,  8, 15,  7,  5]],\n",
       "      dtype=int64)"
      ]
     },
     "execution_count": 71,
     "metadata": {},
     "output_type": "execute_result"
    }
   ],
   "source": [
    "second_arr = rng.integers(1,20, size=(2,8))\n",
    "print(second_arr)\n",
    "np.concatenate((i_arr, second_arr), axis=1)"
   ]
  },
  {
   "cell_type": "code",
   "execution_count": 80,
   "metadata": {},
   "outputs": [
    {
     "name": "stdout",
     "output_type": "stream",
     "text": [
      "First Array:\n",
      "[[2 8 3]\n",
      " [2 5 7]\n",
      " [8 9 4]]\n",
      "\n",
      "Second Array:\n",
      "[[16 18 19]\n",
      " [15 13 15]\n",
      " [19 19 14]]\n",
      "Concatenation using hstack: \n",
      "[[ 2  8  3 16 18 19]\n",
      " [ 2  5  7 15 13 15]\n",
      " [ 8  9  4 19 19 14]]\n",
      "Concatenation using vstack: \n",
      "[[ 2  8  3]\n",
      " [ 2  5  7]\n",
      " [ 8  9  4]\n",
      " [16 18 19]\n",
      " [15 13 15]\n",
      " [19 19 14]]\n"
     ]
    }
   ],
   "source": [
    "first_array = np.random.randint(1, 10, (3,3))\n",
    "second_array = np.random.randint(11, 20, (3,3))\n",
    "print(\"First Array:\\n{}\\n\\nSecond Array:\\n{}\".format(first_array, second_array))\n",
    "# using vstack and hstack\n",
    "h_stack = np.hstack((first_array, second_array))\n",
    "v_stack = np.vstack((first_array, second_array))\n",
    "print(\"Concatenation using hstack: \\n{}\".format(h_stack))\n",
    "print(\"Concatenation using vstack: \\n{}\".format(v_stack))"
   ]
  },
  {
   "cell_type": "code",
   "execution_count": 91,
   "metadata": {},
   "outputs": [
    {
     "name": "stdout",
     "output_type": "stream",
     "text": [
      "Split using split:\n",
      "[array([[2, 8, 3],\n",
      "       [2, 5, 7],\n",
      "       [8, 9, 4]]), array([[16, 18, 19],\n",
      "       [15, 13, 15],\n",
      "       [19, 19, 14]])]\n",
      "Split using hsplit:\n",
      "[array([[2, 8, 3],\n",
      "       [2, 5, 7],\n",
      "       [8, 9, 4]]), array([[16, 18, 19],\n",
      "       [15, 13, 15],\n",
      "       [19, 19, 14]])]\n",
      "Split using vsplit:\n",
      "[array([[2, 8, 3],\n",
      "       [2, 5, 7]]), array([[ 8,  9,  4],\n",
      "       [16, 18, 19]]), array([[15, 13, 15],\n",
      "       [19, 19, 14]])]\n"
     ]
    }
   ],
   "source": [
    "# Spliting the arrays\n",
    "a_split = np.split(h_stack, [3], axis=1)\n",
    "print(\"Split using split:\\n{}\".format(a_split))\n",
    "h_split = np.hsplit(h_stack, [3])\n",
    "print(\"Split using hsplit:\\n{}\".format(h_split))\n",
    "v_split = np.vsplit(v_stack, 3)\n",
    "print(\"Split using vsplit:\\n{}\".format(v_split))"
   ]
  },
  {
   "cell_type": "code",
   "execution_count": 76,
   "metadata": {},
   "outputs": [
    {
     "name": "stdout",
     "output_type": "stream",
     "text": [
      "Concatenation using column stack:\n",
      "[[ 1  8  1 13 13 17]\n",
      " [ 7  1  7 19 15 15]\n",
      " [ 5  3  9 15 16 17]]\n",
      "Concatenation using row stack:\n",
      "[[ 1  8  1]\n",
      " [ 7  1  7]\n",
      " [ 5  3  9]\n",
      " [13 13 17]\n",
      " [19 15 15]\n",
      " [15 16 17]]\n"
     ]
    }
   ],
   "source": [
    "# Similar behviour using column start and column stack\n",
    "print(\"Concatenation using column stack:\\n{}\".format(np.column_stack((first_array, second_array))))\n",
    "print(\"Concatenation using row stack:\\n{}\".format(np.row_stack((first_array, second_array))))"
   ]
  },
  {
   "cell_type": "markdown",
   "metadata": {},
   "source": [
    "   # Sum, Product, min, max, mean, std-dev, Variance, Cumsum, Cumprod"
   ]
  },
  {
   "cell_type": "code",
   "execution_count": 34,
   "metadata": {},
   "outputs": [
    {
     "name": "stdout",
     "output_type": "stream",
     "text": [
      "Array we are going to use: [[ 8  1  1  3  1 13 10 13]\n",
      " [ 5 12 15  8  9 19 16 19]]\n",
      "Sum: 153\n",
      "Cummulative Sum: [[  8   9  10  13  14  27  37  50]\n",
      " [  5  17  32  40  49  68  84 103]]\n",
      "Product: 15180991488000\n",
      "Commulative Product: [[  8   1   1   3   1  13  10  13]\n",
      " [ 40  12  15  24   9 247 160 247]]\n",
      "Minimum: 1\n",
      "Maximum: 19\n",
      "Mean: 9.5625\n",
      "Standard Deviation: 5.957859829670382\n",
      "Variance: 35.49609375\n"
     ]
    }
   ],
   "source": [
    "print(\"Array we are going to use: {}\".format(second_arr))\n",
    "# sum of all elements in an array\n",
    "print(\"Sum: {}\".format(second_arr.sum()))\n",
    "# commulative sum of array\n",
    "print(\"Cummulative Sum: {}\".format(second_arr.cumsum(axis=1)))\n",
    "# product of all elements in an array\n",
    "print(\"Product: {}\".format(second_arr.prod()))\n",
    "# Commulative Product of array\n",
    "print(\"Commulative Product: {}\".format(second_arr.cumprod(axis=0)))\n",
    "# Minimum number in an array\n",
    "print(\"Minimum: {}\".format(second_arr.min()))\n",
    "# Maximum number in an array\n",
    "print(\"Maximum: {}\".format(second_arr.max()))\n",
    "# Mean of the array\n",
    "print(\"Mean: {}\".format(second_arr.mean()))\n",
    "# Standard Deviation of the array\n",
    "print(\"Standard Deviation: {}\".format(second_arr.std()))\n",
    "# Variance of the array\n",
    "print(\"Variance: {}\".format(second_arr.var()))"
   ]
  },
  {
   "cell_type": "markdown",
   "metadata": {},
   "source": [
    "# Square, Square Root and Exponent of an array"
   ]
  },
  {
   "cell_type": "code",
   "execution_count": 15,
   "metadata": {},
   "outputs": [
    {
     "name": "stdout",
     "output_type": "stream",
     "text": [
      "Main array:\n",
      "[[8 6 6]\n",
      " [4 3 8]\n",
      " [8 7 1]]\n",
      "Square array:\n",
      "[[64 36 36]\n",
      " [16  9 64]\n",
      " [64 49  1]]\n",
      "Square root array:\n",
      "[[2.82842712 2.44948974 2.44948974]\n",
      " [2.         1.73205081 2.82842712]\n",
      " [2.82842712 2.64575131 1.        ]]\n",
      "2 Power array:\n",
      "[[256.  64.  64.]\n",
      " [ 16.   8. 256.]\n",
      " [256. 128.   2.]]\n",
      "Power array:\n",
      "[[512 216 216]\n",
      " [ 64  27 512]\n",
      " [512 343   1]]\n"
     ]
    }
   ],
   "source": [
    "number_array = np.random.randint(1, 10, (3,3))\n",
    "print(\"Main array:\\n{}\".format(number_array))\n",
    "print(\"Square array:\\n{}\".format(np.square(number_array)))\n",
    "print(\"Square root array:\\n{}\".format(np.sqrt(number_array)))\n",
    "print(\"2 Power array:\\n{}\".format(np.exp2(number_array)))\n",
    "print(\"Power array:\\n{}\".format(np.power(number_array, 3)))"
   ]
  },
  {
   "cell_type": "markdown",
   "metadata": {},
   "source": [
    "# abs, fabs"
   ]
  },
  {
   "cell_type": "code",
   "execution_count": 16,
   "metadata": {},
   "outputs": [
    {
     "name": "stdout",
     "output_type": "stream",
     "text": [
      "Negative array\n",
      "[[-2 -5 -2]\n",
      " [-5 -8 -2]\n",
      " [-6 -8 -8]]\n",
      "Absolute array\n",
      "[[2 5 2]\n",
      " [5 8 2]\n",
      " [6 8 8]]\n",
      "F Absolute array\n",
      "[[2. 5. 2.]\n",
      " [5. 8. 2.]\n",
      " [6. 8. 8.]]\n"
     ]
    }
   ],
   "source": [
    "neg_array = np.random.randint(-10, -1, (3,3))\n",
    "print(\"Negative array\\n{}\".format(neg_array))\n",
    "print(\"Absolute array\\n{}\".format(np.abs(neg_array)))\n",
    "print(\"F Absolute array\\n{}\".format(np.fabs(neg_array)))"
   ]
  },
  {
   "cell_type": "markdown",
   "metadata": {},
   "source": [
    "# log, ceil , floor"
   ]
  },
  {
   "cell_type": "code",
   "execution_count": 19,
   "metadata": {},
   "outputs": [
    {
     "name": "stdout",
     "output_type": "stream",
     "text": [
      "Log array:\n",
      "[[3.77420461 4.45069835 2.84673879]\n",
      " [4.93566507 3.94259524 3.87003637]\n",
      " [4.92761567 4.99379052 4.83257565]]\n",
      "Ceil values of log array:\n",
      "[[4. 5. 3.]\n",
      " [5. 4. 4.]\n",
      " [5. 5. 5.]]\n",
      "Floor values of log array:\n",
      "[[3. 4. 2.]\n",
      " [4. 3. 3.]\n",
      " [4. 4. 4.]]\n"
     ]
    }
   ],
   "source": [
    "gen_array = np.random.ranf((3,3))\n",
    "another_array = np.random.randint(10, 150, (3,3))\n",
    "log_array = np.log(gen_array + another_array)\n",
    "print(\"Log array:\\n{}\".format(log_array))\n",
    "print(\"Ceil values of log array:\\n{}\".format(np.ceil(log_array)))\n",
    "print(\"Floor values of log array:\\n{}\".format(np.floor(log_array)))"
   ]
  },
  {
   "cell_type": "markdown",
   "metadata": {},
   "source": [
    "# any, all and where"
   ]
  },
  {
   "cell_type": "code",
   "execution_count": 27,
   "metadata": {},
   "outputs": [
    {
     "name": "stdout",
     "output_type": "stream",
     "text": [
      "Main array:\n",
      "[[ 4 14  3 15  6  5 15 14 18 11]\n",
      " [ 1  0  0 13  4 13  5 17 11 16]]\n",
      "Any returns:True\n",
      "All returns:False\n",
      "Where returns:\n",
      "[['small' 'Greater' 'small' 'Greater' 'Greater' 'small' 'Greater'\n",
      "  'Greater' 'Greater' 'Greater']\n",
      " ['small' 'small' 'small' 'Greater' 'small' 'Greater' 'small' 'Greater'\n",
      "  'Greater' 'Greater']]\n"
     ]
    }
   ],
   "source": [
    "numbers = np.random.randint(0, 20, (2, 10))\n",
    "print(\"Main array:\\n{}\".format(numbers))\n",
    "print(\"Any returns:{}\".format(np.any(numbers>5)))\n",
    "print(\"All returns:{}\".format(np.all(numbers>5)))\n",
    "print(\"Where returns:\\n{}\".format(np.where(numbers>5, \"Greater\", \"small\")))"
   ]
  },
  {
   "cell_type": "markdown",
   "metadata": {},
   "source": [
    "# sin, cos and tan"
   ]
  },
  {
   "cell_type": "code",
   "execution_count": 30,
   "metadata": {},
   "outputs": [
    {
     "name": "stdout",
     "output_type": "stream",
     "text": [
      "theta values: [  0  90 180 270 360]\n",
      "Sin values: [ 0.  1. -1. -0.  1.]\n",
      "Cos values: [ 1. -0. -1.  1. -0.]\n",
      "tan values: [ 0. -2.  1. -0. -3.]\n"
     ]
    }
   ],
   "source": [
    "theta_array  = np.array([0, 90, 180, 270, 360])\n",
    "print(\"theta values: {}\".format(theta_array))\n",
    "print(\"Sin values: {}\".format(np.rint(np.sin(theta_array))))\n",
    "print(\"Cos values: {}\".format(np.rint(np.cos(theta_array))))\n",
    "print(\"tan values: {}\".format(np.rint(np.tan(theta_array))))"
   ]
  }
 ],
 "metadata": {
  "kernelspec": {
   "display_name": "Python 3",
   "language": "python",
   "name": "python3"
  },
  "language_info": {
   "codemirror_mode": {
    "name": "ipython",
    "version": 3
   },
   "file_extension": ".py",
   "mimetype": "text/x-python",
   "name": "python",
   "nbconvert_exporter": "python",
   "pygments_lexer": "ipython3",
   "version": "3.8.3"
  }
 },
 "nbformat": 4,
 "nbformat_minor": 4
}
