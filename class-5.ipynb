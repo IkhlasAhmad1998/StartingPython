{
 "cells": [
  {
   "cell_type": "code",
   "execution_count": 6,
   "metadata": {},
   "outputs": [
    {
     "name": "stdout",
     "output_type": "stream",
     "text": [
      "same [1, 2, 5, 6, 7, 8, 9]\n",
      "unique: [3, 4, 11]\n"
     ]
    }
   ],
   "source": [
    "lst1 = [1,2,3,4,5,6,7,8,9,11]\n",
    "lst2 = [5,6,7,8,9,1,2]\n",
    "\n",
    "same = []\n",
    "unique = []\n",
    "\n",
    "for L1 in lst1:\n",
    "    for L2 in lst2:\n",
    "        if L1 == L2:\n",
    "            same.append(L1)\n",
    "            break\n",
    "    else:\n",
    "        unique.append(L1)\n",
    "\n",
    "print(\"same {}\\nunique: {}\".format(same, unique))"
   ]
  },
  {
   "cell_type": "markdown",
   "metadata": {},
   "source": [
    "# Sets  "
   ]
  },
  {
   "cell_type": "code",
   "execution_count": 20,
   "metadata": {},
   "outputs": [
    {
     "name": "stdout",
     "output_type": "stream",
     "text": [
      "{1, 2, 3, 4, 5, 6, 7, 8, 9, 10, 11}\n"
     ]
    }
   ],
   "source": [
    "s1 = {1,2,3,4,5,6,7,8,9,11}\n",
    "s2 = {5,6,7,8,9,1,2,10}\n",
    "\n",
    "s3 = s1.union(s2)\n",
    "print(s3)"
   ]
  },
  {
   "cell_type": "code",
   "execution_count": 22,
   "metadata": {},
   "outputs": [
    {
     "name": "stdout",
     "output_type": "stream",
     "text": [
      "{1, 2, 5, 6, 7, 8, 9}\n",
      "{11, 10, 3, 4}\n"
     ]
    }
   ],
   "source": [
    "same = s1.intersection(s2)\n",
    "print(same)\n",
    "d1 = s1.difference(s2)\n",
    "d2 = s2.difference(s1)\n",
    "unique = d1.union(d2)\n",
    "print(unique) "
   ]
  },
  {
   "cell_type": "code",
   "execution_count": 23,
   "metadata": {},
   "outputs": [
    {
     "name": "stdout",
     "output_type": "stream",
     "text": [
      "{1, 2, 3, 4, 5, 6, 7, 8, 9}\n"
     ]
    }
   ],
   "source": [
    "numbers = [1,2,1,1,1,2,3,5,7,8,7,4,5,2,9,6]\n",
    "u_numbers = set(numbers)\n",
    "print(u_numbers)"
   ]
  },
  {
   "cell_type": "markdown",
   "metadata": {},
   "source": [
    "# Task  \n",
    "count number of duplicated values"
   ]
  },
  {
   "cell_type": "code",
   "execution_count": 27,
   "metadata": {},
   "outputs": [
    {
     "name": "stdout",
     "output_type": "stream",
     "text": [
      "Enter letter: b\n",
      "You entered a consonant\n"
     ]
    }
   ],
   "source": [
    "letter = input(\"Enter letter: \")\n",
    "if letter in ['a', 'e', 'i', 'o', 'u']:\n",
    "    print(\"You entered a vowel letter\")\n",
    "else:\n",
    "    print(\"You entered a consonant\")"
   ]
  },
  {
   "cell_type": "code",
   "execution_count": 49,
   "metadata": {},
   "outputs": [
    {
     "name": "stdout",
     "output_type": "stream",
     "text": [
      "________________________________________________________________________________\n",
      "|\n",
      "|Name: ikhlas                        Father Name: M.Ishfaq                      \n",
      "|Roll No: 46137                      Institute: HU                            \n",
      "|\n"
     ]
    }
   ],
   "source": [
    "name = 'ikhlas'\n",
    "f_name = 'M.Ishfaq'\n",
    "roll_no = 46137\n",
    "ins = \"HU\"\n",
    "print(\"_\"*80)\n",
    "print(\"|\")\n",
    "print(\"|Name: {:<30}Father Name: {:30}\".format(name, f_name))\n",
    "print(\"|Roll No: {:<27}Institute: {:30}\".format(roll_no, ins))\n",
    "print(\"|\")"
   ]
  },
  {
   "cell_type": "code",
   "execution_count": 53,
   "metadata": {},
   "outputs": [
    {
     "name": "stdout",
     "output_type": "stream",
     "text": [
      "{1, 2, 3, 4, 5, 6, 99, 8}\n",
      "{1, 2, 3, 4, 5, 6, 99, 8}\n",
      "{1, 2, 3, 4, 5, 6, 99, 8}\n",
      "{1, 2, 3, 4, 5, 6, 99, 8}\n",
      "{1, 2, 3, 4, 5, 6, 99, 8}\n",
      "{1, 2, 3, 4, 5, 6, 99, 8}\n",
      "{1, 2, 3, 4, 5, 6, 99, 8}\n",
      "{1, 2, 3, 4, 5, 6, 99, 8}\n"
     ]
    }
   ],
   "source": [
    "se = {1,2,4,5,6,3,8,99}\n",
    "for i in se:\n",
    "    print(se)"
   ]
  },
  {
   "cell_type": "code",
   "execution_count": 57,
   "metadata": {},
   "outputs": [
    {
     "name": "stdout",
     "output_type": "stream",
     "text": [
      "{2, 3, 4, 5, 6, 99, 8, 55}\n"
     ]
    },
    {
     "ename": "TypeError",
     "evalue": "pop() takes no arguments (1 given)",
     "output_type": "error",
     "traceback": [
      "\u001b[1;31m---------------------------------------------------------------------------\u001b[0m",
      "\u001b[1;31mTypeError\u001b[0m                                 Traceback (most recent call last)",
      "\u001b[1;32m<ipython-input-57-61565fc1b5b2>\u001b[0m in \u001b[0;36m<module>\u001b[1;34m\u001b[0m\n\u001b[0;32m      1\u001b[0m \u001b[0mse\u001b[0m\u001b[1;33m.\u001b[0m\u001b[0madd\u001b[0m\u001b[1;33m(\u001b[0m\u001b[1;36m55\u001b[0m\u001b[1;33m)\u001b[0m\u001b[1;33m\u001b[0m\u001b[1;33m\u001b[0m\u001b[0m\n\u001b[0;32m      2\u001b[0m \u001b[0mprint\u001b[0m\u001b[1;33m(\u001b[0m\u001b[0mse\u001b[0m\u001b[1;33m)\u001b[0m\u001b[1;33m\u001b[0m\u001b[1;33m\u001b[0m\u001b[0m\n\u001b[1;32m----> 3\u001b[1;33m \u001b[0me\u001b[0m \u001b[1;33m=\u001b[0m \u001b[0mse\u001b[0m\u001b[1;33m.\u001b[0m\u001b[0mpop\u001b[0m\u001b[1;33m(\u001b[0m\u001b[1;36m3\u001b[0m\u001b[1;33m)\u001b[0m\u001b[1;33m\u001b[0m\u001b[1;33m\u001b[0m\u001b[0m\n\u001b[0m\u001b[0;32m      4\u001b[0m \u001b[0mprint\u001b[0m\u001b[1;33m(\u001b[0m\u001b[0mse\u001b[0m\u001b[1;33m)\u001b[0m\u001b[1;33m\u001b[0m\u001b[1;33m\u001b[0m\u001b[0m\n\u001b[0;32m      5\u001b[0m \u001b[0mprint\u001b[0m\u001b[1;33m(\u001b[0m\u001b[0me\u001b[0m\u001b[1;33m)\u001b[0m\u001b[1;33m\u001b[0m\u001b[1;33m\u001b[0m\u001b[0m\n",
      "\u001b[1;31mTypeError\u001b[0m: pop() takes no arguments (1 given)"
     ]
    }
   ],
   "source": [
    "se.add(55)\n",
    "print(se)\n",
    "e = se.pop()\n",
    "print(se)\n",
    "print(e)"
   ]
  },
  {
   "cell_type": "markdown",
   "metadata": {},
   "source": [
    "# Tasks  \n",
    "factorial of given number  \n",
    "number is prime or not  2 3 5 7 11 13 17 19  \n",
    "fibonacci series  0 1 1 2 3 5 8  "
   ]
  },
  {
   "cell_type": "markdown",
   "metadata": {},
   "source": [
    "# Covered Topic\n",
    "print()  \n",
    "input()  \n",
    "variable  \n",
    "data types  \n",
    "conditonal statements  \n",
    "loops: for loop  \n",
    "list  \n",
    "tuple  \n",
    "set  "
   ]
  }
 ],
 "metadata": {
  "kernelspec": {
   "display_name": "Python 3",
   "language": "python",
   "name": "python3"
  },
  "language_info": {
   "codemirror_mode": {
    "name": "ipython",
    "version": 3
   },
   "file_extension": ".py",
   "mimetype": "text/x-python",
   "name": "python",
   "nbconvert_exporter": "python",
   "pygments_lexer": "ipython3",
   "version": "3.8.3"
  }
 },
 "nbformat": 4,
 "nbformat_minor": 4
}
