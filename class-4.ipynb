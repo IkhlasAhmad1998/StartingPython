{
 "cells": [
  {
   "cell_type": "code",
   "execution_count": 66,
   "metadata": {},
   "outputs": [
    {
     "name": "stdout",
     "output_type": "stream",
     "text": [
      "mango\n",
      "apple\n",
      "banana\n",
      "grapes\n",
      "berries\n"
     ]
    }
   ],
   "source": [
    "fruits = ['mango', 'apple', 'banana', 'grapes', 'berries']\n",
    "length = len(fruits) \n",
    "for i in range(length):\n",
    "    print(fruits[i])"
   ]
  },
  {
   "cell_type": "code",
   "execution_count": 67,
   "metadata": {},
   "outputs": [
    {
     "name": "stdout",
     "output_type": "stream",
     "text": [
      "mango\n",
      "apple\n",
      "banana\n",
      "grapes\n",
      "berries\n"
     ]
    }
   ],
   "source": [
    "for item in fruits:\n",
    "    print(item)\n"
   ]
  },
  {
   "cell_type": "markdown",
   "metadata": {},
   "source": [
    "Marks of all subject\n",
    "\n",
    "DMC: 7=7"
   ]
  },
  {
   "cell_type": "code",
   "execution_count": 31,
   "metadata": {},
   "outputs": [
    {
     "name": "stdout",
     "output_type": "stream",
     "text": [
      "Enter your eng marks: 80\n",
      "Enter your urdu marks: 64\n",
      "Enter your maths marks: 100\n",
      "Enter your cs marks: 95\n",
      "[80, 64, 100, 95]\n"
     ]
    }
   ],
   "source": [
    "# eng = int(input(\"Enter your English Marks: \"))\n",
    "# urdu = int(input(\"Enter your Urdu Marks: \"))\n",
    "# math = int(input(\"Enter your Math Marks: \"))\n",
    "# cs = int(input(\"Enter your CS Marks: \"))\n",
    "\n",
    "subjects = ['eng', 'urdu', 'maths', 'cs']\n",
    "marks = []\n",
    "for subject in subjects:\n",
    "    mark = int(input(\"Enter your {} marks: \".format(subject)))\n",
    "    marks.append(mark)\n",
    "print(marks)"
   ]
  },
  {
   "cell_type": "code",
   "execution_count": 33,
   "metadata": {},
   "outputs": [
    {
     "data": {
      "text/plain": [
       "84.75"
      ]
     },
     "execution_count": 33,
     "metadata": {},
     "output_type": "execute_result"
    }
   ],
   "source": [
    "# total_marks = 400\n",
    "# percentage = ((eng + urdu + math + cs) / 400) * 100\n",
    "\n",
    "total_marks = len(marks) * 100\n",
    "percentage = (sum(marks) / total_marks) * 100"
   ]
  },
  {
   "cell_type": "code",
   "execution_count": 34,
   "metadata": {},
   "outputs": [],
   "source": [
    "if percentage >= 90:\n",
    "    grade = \"A+\"\n",
    "elif percentage >= 80:\n",
    "    grade = \"A\"\n",
    "elif percentage >= 70:\n",
    "    grade = \"B\"\n",
    "elif percentage >= 60:\n",
    "    grade = \"C\"\n",
    "elif percentage >= 50:\n",
    "    grade = \"D\"\n",
    "else:\n",
    "    grade = 'Fail'"
   ]
  },
  {
   "cell_type": "code",
   "execution_count": 40,
   "metadata": {},
   "outputs": [
    {
     "name": "stdout",
     "output_type": "stream",
     "text": [
      "Hazara University\n",
      "====================\n",
      "eng Marks: 80\n",
      "urdu Marks: 64\n",
      "maths Marks: 100\n",
      "cs Marks: 95\n",
      "====================\n",
      "Percentage: 84.75\n",
      "Grade: A\n"
     ]
    }
   ],
   "source": [
    "# print(\"English Marks: {}\".format(eng))\n",
    "# print(\"Urdu Marks: {}\".format(urdu))\n",
    "# print(\"Math Marks: {}\".format(math))\n",
    "# print(\"Cs Marks: {}\".format(cs))\n",
    "\n",
    "print(\"Hazara University\")\n",
    "print(\"=\"*20)\n",
    "length = len(subjects)\n",
    "for i in range(length):\n",
    "    print(\"{} Marks: {}\".format(subjects[i], marks[i]))\n",
    "\n",
    "print(\"=\"*20)\n",
    "print(\"Percentage: {}\".format(percentage))\n",
    "print(\"Grade: {}\".format(grade))"
   ]
  },
  {
   "cell_type": "markdown",
   "metadata": {},
   "source": [
    "Tuple: hetrogenious data, immutable"
   ]
  },
  {
   "cell_type": "code",
   "execution_count": 49,
   "metadata": {},
   "outputs": [
    {
     "name": "stdout",
     "output_type": "stream",
     "text": [
      "(46137, 'name', 'Institue')\n",
      "<class 'tuple'>\n"
     ]
    }
   ],
   "source": [
    "x = (46137, \"name\", \"Institue\")\n",
    "print(x)\n",
    "print(type(x))"
   ]
  },
  {
   "cell_type": "code",
   "execution_count": 51,
   "metadata": {},
   "outputs": [
    {
     "name": "stdout",
     "output_type": "stream",
     "text": [
      "(1, 2, 3, 4, 5)\n",
      "<class 'tuple'>\n"
     ]
    }
   ],
   "source": [
    "y = 1,2,3,4,5\n",
    "print(y)\n",
    "print(type(y))"
   ]
  },
  {
   "cell_type": "code",
   "execution_count": 52,
   "metadata": {},
   "outputs": [
    {
     "name": "stdout",
     "output_type": "stream",
     "text": [
      "(46137, 'name', 'Institue')\n"
     ]
    }
   ],
   "source": [
    "print(x)"
   ]
  },
  {
   "cell_type": "code",
   "execution_count": 57,
   "metadata": {},
   "outputs": [
    {
     "name": "stdout",
     "output_type": "stream",
     "text": [
      "46137\n",
      "46137\n",
      "name\n",
      "Institue\n"
     ]
    }
   ],
   "source": [
    "print(x[0])\n",
    "for i in x:\n",
    "    print(i)"
   ]
  },
  {
   "cell_type": "code",
   "execution_count": 58,
   "metadata": {},
   "outputs": [
    {
     "name": "stdout",
     "output_type": "stream",
     "text": [
      "(1, 2, 3, ['abc', 'def', 'ghi'])\n"
     ]
    }
   ],
   "source": [
    "a = (1 , 2 , 3 ,[\"abc\", 'def', 'ghi'])\n",
    "print(a)"
   ]
  },
  {
   "cell_type": "code",
   "execution_count": 60,
   "metadata": {},
   "outputs": [
    {
     "name": "stdout",
     "output_type": "stream",
     "text": [
      "[1, 2, 3, (4, 5, 6)]\n"
     ]
    }
   ],
   "source": [
    "b= [1,2,3,(4,5,6)]\n",
    "print(b)"
   ]
  },
  {
   "cell_type": "markdown",
   "metadata": {},
   "source": [
    "# Task  \n",
    "l1 = [1,2,3,4,5,6,7,8,9]  \n",
    "l2 = [5,6,7,8,9,1,2, 10]  \n",
    "print(same and different items in both lists)"
   ]
  }
 ],
 "metadata": {
  "kernelspec": {
   "display_name": "Python 3",
   "language": "python",
   "name": "python3"
  },
  "language_info": {
   "codemirror_mode": {
    "name": "ipython",
    "version": 3
   },
   "file_extension": ".py",
   "mimetype": "text/x-python",
   "name": "python",
   "nbconvert_exporter": "python",
   "pygments_lexer": "ipython3",
   "version": "3.8.3"
  }
 },
 "nbformat": 4,
 "nbformat_minor": 4
}
