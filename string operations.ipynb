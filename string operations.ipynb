{
 "cells": [
  {
   "cell_type": "markdown",
   "metadata": {},
   "source": [
    "pallindrome  \n",
    "aba = aba  \n",
    "civic  \n",
    "rotor  \n",
    "madam  "
   ]
  },
  {
   "cell_type": "code",
   "execution_count": 6,
   "metadata": {},
   "outputs": [
    {
     "name": "stdout",
     "output_type": "stream",
     "text": [
      "Enter string to check it is pallindrome or not: abc\n",
      "2\n",
      "string is not a pallindrome\n"
     ]
    }
   ],
   "source": [
    "string = input(\"Enter string to check it is pallindrome or not: \")\n",
    "\n",
    "length = len(string)\n",
    "length -= 1\n",
    "print(length)\n",
    "rev = \"\"\n",
    "for i in range(length, -1, -1):\n",
    "    rev += string[i] # rev = rev + string[i]\n",
    "\n",
    "if string == rev:\n",
    "    print(\"string is pallindrome\")\n",
    "else:\n",
    "    print(\"string is not a pallindrome\")"
   ]
  },
  {
   "cell_type": "code",
   "execution_count": 13,
   "metadata": {},
   "outputs": [
    {
     "name": "stdout",
     "output_type": "stream",
     "text": [
      "ab\n",
      "33\n",
      "r\n"
     ]
    }
   ],
   "source": [
    "print(\"a\"+\"b\") # concatenation\n",
    "print(\"3\"+\"3\")\n",
    "\n",
    "x = \"car\"\n",
    "print(x[-1])"
   ]
  },
  {
   "cell_type": "code",
   "execution_count": 17,
   "metadata": {},
   "outputs": [
    {
     "name": "stdout",
     "output_type": "stream",
     "text": [
      "rac\n"
     ]
    }
   ],
   "source": [
    "x = \"car\"\n",
    "print(x[::-1])"
   ]
  },
  {
   "cell_type": "code",
   "execution_count": 19,
   "metadata": {},
   "outputs": [
    {
     "name": "stdout",
     "output_type": "stream",
     "text": [
      "Enter string to check it is pallindrome or not: abc\n",
      "String is not a pallindrome\n"
     ]
    }
   ],
   "source": [
    "string = input(\"Enter string to check it is pallindrome or not: \")\n",
    "\n",
    "if string == string[::-1]:\n",
    "    print(\"string is pallindrome\")\n",
    "else:\n",
    "    print(\"String is not a pallindrome\")"
   ]
  },
  {
   "cell_type": "markdown",
   "metadata": {},
   "source": [
    "numbers separated with comma  1,2,9,7,6,5  \n",
    "return sorted numbers"
   ]
  },
  {
   "cell_type": "code",
   "execution_count": 40,
   "metadata": {},
   "outputs": [
    {
     "name": "stdout",
     "output_type": "stream",
     "text": [
      "Enter numbers to sort separate with comma: 8,8,5,3,6,3,2,0\n",
      "[0, 2, 3, 3, 5, 6, 8, 8]\n"
     ]
    }
   ],
   "source": [
    "numbers = input(\"Enter numbers to sort separate with comma: \")\n",
    "numList = numbers.split(\",\")\n",
    "numList = list(map(int, numList))\n",
    "print(sorted(numList))"
   ]
  },
  {
   "cell_type": "markdown",
   "metadata": {},
   "source": [
    "# print(alphabets small and capital)  "
   ]
  },
  {
   "cell_type": "code",
   "execution_count": 45,
   "metadata": {},
   "outputs": [
    {
     "name": "stdout",
     "output_type": "stream",
     "text": [
      "Enter number: 1 2 3 4 5 6 7 8\n",
      "1 2 3 4 5 6 7 8\n",
      "1,2,3,4,5,6,7,8\n"
     ]
    }
   ],
   "source": [
    "user_input = input(\"Enter number: \")\n",
    "print(user_input)\n",
    "splited = user_input.replace(\" \", \",\")\n",
    "print(splited)"
   ]
  },
  {
   "cell_type": "code",
   "execution_count": 53,
   "metadata": {},
   "outputs": [
    {
     "name": "stdout",
     "output_type": "stream",
     "text": [
      "['__abs__', '__add__', '__and__', '__bool__', '__ceil__', '__class__', '__delattr__', '__dir__', '__divmod__', '__doc__', '__eq__', '__float__', '__floor__', '__floordiv__', '__format__', '__ge__', '__getattribute__', '__getnewargs__', '__gt__', '__hash__', '__index__', '__init__', '__init_subclass__', '__int__', '__invert__', '__le__', '__lshift__', '__lt__', '__mod__', '__mul__', '__ne__', '__neg__', '__new__', '__or__', '__pos__', '__pow__', '__radd__', '__rand__', '__rdivmod__', '__reduce__', '__reduce_ex__', '__repr__', '__rfloordiv__', '__rlshift__', '__rmod__', '__rmul__', '__ror__', '__round__', '__rpow__', '__rrshift__', '__rshift__', '__rsub__', '__rtruediv__', '__rxor__', '__setattr__', '__sizeof__', '__str__', '__sub__', '__subclasshook__', '__truediv__', '__trunc__', '__xor__', 'as_integer_ratio', 'bit_length', 'conjugate', 'denominator', 'from_bytes', 'imag', 'numerator', 'real', 'to_bytes']\n",
      "Help on method_descriptor:\n",
      "\n",
      "strip(self, chars=None, /)\n",
      "    Return a copy of the string with leading and trailing whitespace removed.\n",
      "    \n",
      "    If chars is given and not None, remove characters in chars instead.\n",
      "\n",
      "None\n"
     ]
    }
   ],
   "source": [
    "print(dir(int))\n",
    "print(help(str.strip))"
   ]
  },
  {
   "cell_type": "code",
   "execution_count": 54,
   "metadata": {},
   "outputs": [
    {
     "name": "stdout",
     "output_type": "stream",
     "text": [
      "Enter your name:                    ikhlas           \n",
      "ikhlas\n"
     ]
    }
   ],
   "source": [
    "name = input(\"Enter your name: \").strip()\n",
    "print(name)"
   ]
  },
  {
   "cell_type": "code",
   "execution_count": 81,
   "metadata": {},
   "outputs": [
    {
     "name": "stdout",
     "output_type": "stream",
     "text": [
      "['200', '700', '460', '600', '2600']\n"
     ]
    }
   ],
   "source": [
    "price = [\"$200\", \"$700\", \"$460\", \"$600\", \"$2600\"]\n",
    "\n",
    "def clean(x):\n",
    "    return x.lstrip(\"$\")\n",
    "\n",
    "price = list(map(clean, price))\n",
    "print(price)\n",
    "\n",
    "# c = []\n",
    "# length = len(price)\n",
    "# for i in range(length):\n",
    "#     price[i] = price[i].lstrip(\"$\")\n",
    "#     c.append(i.lstrip(\"$\"))\n",
    "\n",
    "# print(price)"
   ]
  },
  {
   "cell_type": "code",
   "execution_count": 102,
   "metadata": {},
   "outputs": [
    {
     "name": "stdout",
     "output_type": "stream",
     "text": [
      "ikhlas ahmad\n"
     ]
    }
   ],
   "source": [
    "names = [\"ikhlas\", \"ahmad\"]\n",
    "fullname = \" \".join(names)\n",
    "print(fullname)"
   ]
  }
 ],
 "metadata": {
  "kernelspec": {
   "display_name": "Python 3",
   "language": "python",
   "name": "python3"
  },
  "language_info": {
   "codemirror_mode": {
    "name": "ipython",
    "version": 3
   },
   "file_extension": ".py",
   "mimetype": "text/x-python",
   "name": "python",
   "nbconvert_exporter": "python",
   "pygments_lexer": "ipython3",
   "version": "3.8.3"
  }
 },
 "nbformat": 4,
 "nbformat_minor": 4
}
