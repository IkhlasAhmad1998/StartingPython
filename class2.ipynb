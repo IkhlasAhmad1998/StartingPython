{
 "cells": [
  {
   "cell_type": "code",
   "execution_count": 3,
   "metadata": {},
   "outputs": [
    {
     "name": "stdout",
     "output_type": "stream",
     "text": [
      "7.75\n"
     ]
    }
   ],
   "source": [
    "print(2/2*9-5/4)"
   ]
  },
  {
   "cell_type": "code",
   "execution_count": 4,
   "metadata": {},
   "outputs": [
    {
     "name": "stdout",
     "output_type": "stream",
     "text": [
      "Enter Your Name: \n",
      "ikhlas\n",
      "Enter Your Age: \n",
      "22\n",
      "ikhlas  your age is:  22\n"
     ]
    }
   ],
   "source": [
    "print(\"Enter Your Name: \")\n",
    "name = input()\n",
    "print(\"Enter Your Age: \")\n",
    "age = input()\n",
    "print(name, \" your age is: \", age)"
   ]
  },
  {
   "cell_type": "code",
   "execution_count": 5,
   "metadata": {},
   "outputs": [
    {
     "name": "stdout",
     "output_type": "stream",
     "text": [
      "Enter Your Name: ikhlas ahmad\n",
      "Enter Your Age: 22\n",
      "ikhlas ahmad  your age is:  22\n"
     ]
    }
   ],
   "source": [
    "name = input(\"Enter Your Name: \")\n",
    "age = input(\"Enter Your Age: \")\n",
    "print(name, \" your age is: \", age)"
   ]
  },
  {
   "cell_type": "code",
   "execution_count": 8,
   "metadata": {},
   "outputs": [
    {
     "name": "stdout",
     "output_type": "stream",
     "text": [
      "ikhlas ahmad\n",
      "22\n",
      "<class 'str'> <class 'str'>\n"
     ]
    }
   ],
   "source": [
    "# Type Casting\n",
    "print(name)\n",
    "print(age)\n",
    "print(type(name), type(age))"
   ]
  },
  {
   "cell_type": "code",
   "execution_count": 19,
   "metadata": {},
   "outputs": [
    {
     "name": "stdout",
     "output_type": "stream",
     "text": [
      "Enter Your Name: ikhlas ahmad\n",
      "Enter Your Age: 17\n"
     ]
    }
   ],
   "source": [
    "# str()\n",
    "# int()\n",
    "# float()\n",
    "name = input(\"Enter Your Name: \")\n",
    "age = int(input(\"Enter Your Age: \"))\n",
    "# print(name, \" your age is: \", age)"
   ]
  },
  {
   "cell_type": "code",
   "execution_count": 16,
   "metadata": {},
   "outputs": [
    {
     "name": "stdout",
     "output_type": "stream",
     "text": [
      "<class 'str'> <class 'int'>\n"
     ]
    }
   ],
   "source": [
    "print(type(name), type(age))"
   ]
  },
  {
   "cell_type": "markdown",
   "metadata": {},
   "source": [
    "if (condition):\n",
    "    body\n",
    "    body\n",
    "    body\n",
    "    body\n",
    "this is not a body of if\n",
    "    "
   ]
  },
  {
   "cell_type": "code",
   "execution_count": 23,
   "metadata": {},
   "outputs": [
    {
     "name": "stdout",
     "output_type": "stream",
     "text": [
      "Enter Your Name: ikhlas\n",
      "Enter Your Age: 17\n",
      "You can't vote\n"
     ]
    }
   ],
   "source": [
    "name = input(\"Enter Your Name: \")\n",
    "age = int(input(\"Enter Your Age: \"))\n",
    "if age>=18:\n",
    "    print(\"You can vote\")\n",
    "else:\n",
    "    print(\"You can't vote\")\n",
    "    \n",
    "# name you can vote or can't vote"
   ]
  },
  {
   "cell_type": "code",
   "execution_count": 34,
   "metadata": {},
   "outputs": [
    {
     "name": "stdout",
     "output_type": "stream",
     "text": [
      "Enter number1: 99999999999999999999999999999999999999999999\n",
      "Enter number2: 88888888888888888888888888\n",
      "Enter the operation: +\n",
      "your answer is:  100000000000000000088888888888888888888888887\n"
     ]
    }
   ],
   "source": [
    "# take two numbers\n",
    "# take operation\n",
    "# perform that on those two numbers and return result\n",
    "\n",
    "num1 = int(input(\"Enter number1: \"))\n",
    "num2 = int(input(\"Enter number2: \"))\n",
    "op = input(\"Enter the operation: \")\n",
    "\n",
    "if op=='+':\n",
    "    result = num1 + num2\n",
    "#     print(result)\n",
    "elif op=='-':\n",
    "    result = num1 - num2\n",
    "#     print(result)\n",
    "elif op=='*':\n",
    "    result = num1 * num2\n",
    "#     print(result)\n",
    "else:\n",
    "    result = num1 // num2 # returns int / returns float\n",
    "#     print(result)\n",
    "\n",
    "print('your answer is: ',result)"
   ]
  },
  {
   "cell_type": "code",
   "execution_count": 45,
   "metadata": {},
   "outputs": [
    {
     "name": "stdout",
     "output_type": "stream",
     "text": [
      "ikhlas  your age is:  17\n",
      "========================================\n",
      "ikhlas your age is: 17\n"
     ]
    }
   ],
   "source": [
    "### string operations\n",
    "print(name, \" your age is: \", age)\n",
    "print(\"=\"*40)\n",
    "print(\"{} your age is: {}\".format(name, age)) # best"
   ]
  },
  {
   "cell_type": "code",
   "execution_count": 51,
   "metadata": {},
   "outputs": [
    {
     "name": "stdout",
     "output_type": "stream",
     "text": [
      "Welcome to\n",
      "HU\n",
      "Welcome to\tHU\n",
      "Welcome to\bHU\n"
     ]
    }
   ],
   "source": [
    "# Escape characters\n",
    "print('Welcome to\\nHU')\n",
    "print('Welcome to\\tHU')\n",
    "print('Welcome to\\bHU')"
   ]
  },
  {
   "cell_type": "markdown",
   "metadata": {},
   "source": [
    "# Tasks\n",
    "\n",
    "1: if character is Vowel or not  \n",
    "2: vote or can't vote output='ikhlas you can vote'  \n",
    "3: Write a C program to check whether a number is even or odd.  \n",
    "4: Write a C program to find maximum between two numbers.  \n",
    "5: program to find maximum between three numbers.  \n",
    "6: program to check whether a number is negative, positive or zero.  \n",
    "7: program to check whether a number is divisible by 5 and 11 or not.  \n",
    "8: program to check whether a number is even or odd.  \n",
    "9: program to check whether a year is leap year or not.  \n",
    "10: program to check whether a character is alphabet or not.  \n",
    "11: program to input any alphabet and check whether it is vowel or consonant.  "
   ]
  }
 ],
 "metadata": {
  "kernelspec": {
   "display_name": "Python 3",
   "language": "python",
   "name": "python3"
  },
  "language_info": {
   "codemirror_mode": {
    "name": "ipython",
    "version": 3
   },
   "file_extension": ".py",
   "mimetype": "text/x-python",
   "name": "python",
   "nbconvert_exporter": "python",
   "pygments_lexer": "ipython3",
   "version": "3.8.3"
  }
 },
 "nbformat": 4,
 "nbformat_minor": 4
}
