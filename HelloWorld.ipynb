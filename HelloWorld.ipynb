{
 "cells": [
  {
   "cell_type": "code",
   "execution_count": 5,
   "metadata": {},
   "outputs": [
    {
     "name": "stdout",
     "output_type": "stream",
     "text": [
      "Hello World2 12 5.89\n"
     ]
    }
   ],
   "source": [
    "print(\"Hello World2\", 12, 5.89)"
   ]
  },
  {
   "cell_type": "code",
   "execution_count": 6,
   "metadata": {},
   "outputs": [
    {
     "name": "stdout",
     "output_type": "stream",
     "text": [
      "i AM IN HAZARA UNIVERSITY\n"
     ]
    }
   ],
   "source": [
    "print(\"i AM IN HAZARA UNIVERSITY\")"
   ]
  },
  {
   "cell_type": "code",
   "execution_count": 11,
   "metadata": {},
   "outputs": [
    {
     "name": "stdout",
     "output_type": "stream",
     "text": [
      "i am\n",
      "Ikhlas\n",
      "i am\tIkhlas\n",
      "i am\b Ikhlas\n",
      "i am \"ikhlas\"\n"
     ]
    }
   ],
   "source": [
    "print(\"i am\\nIkhlas\")\n",
    "print(\"i am\\tIkhlas\")\n",
    "print(\"i am\\b Ikhlas\")\n",
    "print('i am \"ikhlas\"')"
   ]
  },
  {
   "cell_type": "code",
   "execution_count": 21,
   "metadata": {},
   "outputs": [
    {
     "name": "stdout",
     "output_type": "stream",
     "text": [
      "hello world125121255.8125Good\n"
     ]
    }
   ],
   "source": [
    "print(\"hello world\", 12, 5.8, \"Good\", sep=\"\\n\")"
   ]
  },
  {
   "cell_type": "code",
   "execution_count": 26,
   "metadata": {},
   "outputs": [
    {
     "name": "stdout",
     "output_type": "stream",
     "text": [
      "12\n",
      "3\n"
     ]
    }
   ],
   "source": [
    "print(1, end=\"\")\n",
    "print(2)\n",
    "print(3)"
   ]
  },
  {
   "cell_type": "code",
   "execution_count": 29,
   "metadata": {},
   "outputs": [
    {
     "name": "stdout",
     "output_type": "stream",
     "text": [
      "ikram\n",
      "1\n",
      "1.5\n"
     ]
    }
   ],
   "source": [
    "name = \"ikram\"\n",
    "print(name)\n",
    "name = 1\n",
    "print(name)\n",
    "name = 1.5\n",
    "print(name)"
   ]
  },
  {
   "cell_type": "code",
   "execution_count": 40,
   "metadata": {},
   "outputs": [
    {
     "name": "stdout",
     "output_type": "stream",
     "text": [
      "ikram 22\n"
     ]
    }
   ],
   "source": [
    "name = \"ikram\"\n",
    "age = 22\n",
    "print(\"ikram\" + \" \" + \"22\")"
   ]
  },
  {
   "cell_type": "code",
   "execution_count": 53,
   "metadata": {},
   "outputs": [
    {
     "name": "stdout",
     "output_type": "stream",
     "text": [
      "Enter your name:\n",
      "ikram\n",
      "Enter your age:\n",
      "22\n",
      "Your name is: ikram\n",
      "and age is: 22\n"
     ]
    }
   ],
   "source": [
    "print(\"Enter your name:\")\n",
    "name = input()\n",
    "print(\"Enter your age:\")\n",
    "age = int(input())\n",
    "# printing\n",
    "print( \"Your name is: \" +  name + \"\\nand age is: \" + str(age))"
   ]
  },
  {
   "cell_type": "code",
   "execution_count": 2,
   "metadata": {},
   "outputs": [
    {
     "name": "stdout",
     "output_type": "stream",
     "text": [
      "Enter you name: ikram\n",
      "Enter your age: 22\n",
      "Your name is: ikram\n",
      "and age is: 22\n"
     ]
    }
   ],
   "source": [
    "name = input(\"Enter you name: \")\n",
    "age = int(input(\"Enter your age: \"))\n",
    "print(\"Your name is: \" +  name + \"\\nand age is: \" + str(age))"
   ]
  },
  {
   "cell_type": "markdown",
   "metadata": {},
   "source": [
    "# .format"
   ]
  },
  {
   "cell_type": "code",
   "execution_count": 19,
   "metadata": {},
   "outputs": [
    {
     "name": "stdout",
     "output_type": "stream",
     "text": [
      "Enter you name: ikram\n",
      "Enter your age: 22\n",
      "Your name is: ikram\n",
      "and your age is: 22\n",
      "Your name is: ikram and your age is: 22\n"
     ]
    }
   ],
   "source": [
    "name = input(\"Enter you name: \")\n",
    "age = int(input(\"Enter your age: \"))\n",
    "print(\"Your name is: {}\\nand your age is: {}\".format(name, age))\n",
    "print(f\"Your name is: {name} and your age is: {age}\")"
   ]
  },
  {
   "cell_type": "markdown",
   "metadata": {},
   "source": [
    "# int(for converting into integer)\n",
    "# float(for converting into float)\n",
    "# str(for converting into str)"
   ]
  },
  {
   "cell_type": "code",
   "execution_count": 16,
   "metadata": {},
   "outputs": [
    {
     "name": "stdout",
     "output_type": "stream",
     "text": [
      "1\n"
     ]
    }
   ],
   "source": [
    "x = \"1\"\n",
    "print(x)"
   ]
  },
  {
   "cell_type": "markdown",
   "metadata": {},
   "source": [
    "# Comments\n"
   ]
  },
  {
   "cell_type": "code",
   "execution_count": 20,
   "metadata": {},
   "outputs": [],
   "source": [
    "# this is a comment"
   ]
  },
  {
   "cell_type": "code",
   "execution_count": 1,
   "metadata": {},
   "outputs": [
    {
     "ename": "SyntaxError",
     "evalue": "invalid syntax (<ipython-input-1-3eb7b0554acb>, line 2)",
     "output_type": "error",
     "traceback": [
      "\u001b[1;36m  File \u001b[1;32m\"<ipython-input-1-3eb7b0554acb>\"\u001b[1;36m, line \u001b[1;32m2\u001b[0m\n\u001b[1;33m    print(,,,)\u001b[0m\n\u001b[1;37m          ^\u001b[0m\n\u001b[1;31mSyntaxError\u001b[0m\u001b[1;31m:\u001b[0m invalid syntax\n"
     ]
    }
   ],
   "source": []
  }
 ],
 "metadata": {
  "kernelspec": {
   "display_name": "Python 3",
   "language": "python",
   "name": "python3"
  },
  "language_info": {
   "codemirror_mode": {
    "name": "ipython",
    "version": 3
   },
   "file_extension": ".py",
   "mimetype": "text/x-python",
   "name": "python",
   "nbconvert_exporter": "python",
   "pygments_lexer": "ipython3",
   "version": "3.8.3"
  }
 },
 "nbformat": 4,
 "nbformat_minor": 4
}
