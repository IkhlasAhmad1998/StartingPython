{
 "cells": [
  {
   "cell_type": "code",
   "execution_count": 7,
   "metadata": {},
   "outputs": [
    {
     "name": "stdout",
     "output_type": "stream",
     "text": [
      "Enter your name: ikhlas\n",
      "Please enter integer or decimal values\n",
      "Your Name is: ikhlas\n",
      "1.0\n",
      "Enter your English marks: seventy\n",
      "Please enter integer or decimal values\n",
      "Your Name is: ikhlas\n",
      "1.0\n",
      "Enter your English marks: 76\n",
      "Your Name is: ikhlas\n"
     ]
    }
   ],
   "source": [
    "name = input(\"Enter your name: \")\n",
    "a = 0\n",
    "while True:\n",
    "    try:\n",
    "        print(5/a)\n",
    "        eng = int(input(\"Enter your English marks: \"))\n",
    "    except:\n",
    "        print(\"Please enter integer or decimal values\")\n",
    "        a=5\n",
    "    else:\n",
    "        break\n",
    "    finally:\n",
    "        print(\"Your Name is: {}\".format(name))"
   ]
  },
  {
   "cell_type": "code",
   "execution_count": 8,
   "metadata": {},
   "outputs": [
    {
     "ename": "ZeroDivisionError",
     "evalue": "division by zero",
     "output_type": "error",
     "traceback": [
      "\u001b[1;31m---------------------------------------------------------------------------\u001b[0m",
      "\u001b[1;31mZeroDivisionError\u001b[0m                         Traceback (most recent call last)",
      "\u001b[1;32m<ipython-input-8-fad870a50e27>\u001b[0m in \u001b[0;36m<module>\u001b[1;34m\u001b[0m\n\u001b[1;32m----> 1\u001b[1;33m \u001b[0mprint\u001b[0m\u001b[1;33m(\u001b[0m\u001b[1;36m5\u001b[0m\u001b[1;33m/\u001b[0m\u001b[1;36m0\u001b[0m\u001b[1;33m)\u001b[0m\u001b[1;33m\u001b[0m\u001b[1;33m\u001b[0m\u001b[0m\n\u001b[0m",
      "\u001b[1;31mZeroDivisionError\u001b[0m: division by zero"
     ]
    }
   ],
   "source": [
    "print(5/0)"
   ]
  },
  {
   "cell_type": "code",
   "execution_count": null,
   "metadata": {},
   "outputs": [],
   "source": [
    "a = 0\n",
    "while True:\n",
    "    try:\n",
    "        print(5/a)\n",
    "        int(\"y\")\n",
    "    except Exception as e:\n",
    "        print(type(e), e)\n",
    "        a = 5"
   ]
  },
  {
   "cell_type": "code",
   "execution_count": 15,
   "metadata": {},
   "outputs": [
    {
     "name": "stdout",
     "output_type": "stream",
     "text": [
      "1.0\n",
      "1.0\n"
     ]
    }
   ],
   "source": [
    "a = 0\n",
    "b = \"y\"\n",
    "while True:\n",
    "    try:\n",
    "        print(5/a)\n",
    "        int(b)\n",
    "    except ZeroDivisionError:\n",
    "        a = 5\n",
    "    except ValueError:\n",
    "        b=\"7\"\n",
    "    else:\n",
    "        break\n",
    "    "
   ]
  },
  {
   "cell_type": "code",
   "execution_count": 21,
   "metadata": {},
   "outputs": [
    {
     "name": "stdout",
     "output_type": "stream",
     "text": [
      "Enter your name: ikhlas\n",
      "Enter your rollno: 46137\n"
     ]
    }
   ],
   "source": [
    "import csv\n",
    "std_name = input(\"Enter your name: \")\n",
    "std_rollno = int(input(\"Enter your rollno: \"))\n",
    "std_details = [std_name, std_rollno]\n",
    "with open(\"std_info.csv\", \"a\") as file:\n",
    "    writer = csv.writer(file)\n",
    "    writer.writerow(std_details)"
   ]
  },
  {
   "cell_type": "code",
   "execution_count": 22,
   "metadata": {},
   "outputs": [
    {
     "name": "stdout",
     "output_type": "stream",
     "text": [
      "24\n"
     ]
    }
   ],
   "source": [
    "from factorial import factorial\n",
    "\n",
    "print(factorial(4))"
   ]
  },
  {
   "cell_type": "code",
   "execution_count": 25,
   "metadata": {},
   "outputs": [
    {
     "name": "stdout",
     "output_type": "stream",
     "text": [
      "120\n"
     ]
    }
   ],
   "source": [
    "!python modulesimp.py"
   ]
  },
  {
   "cell_type": "code",
   "execution_count": 32,
   "metadata": {},
   "outputs": [],
   "source": [
    "l = ['apple', 'mango', 'banana']"
   ]
  },
  {
   "cell_type": "code",
   "execution_count": 37,
   "metadata": {},
   "outputs": [
    {
     "name": "stdout",
     "output_type": "stream",
     "text": [
      "1\n"
     ]
    }
   ],
   "source": [
    "print(l.index('mango', 0, -1))"
   ]
  },
  {
   "cell_type": "code",
   "execution_count": 39,
   "metadata": {},
   "outputs": [
    {
     "name": "stdout",
     "output_type": "stream",
     "text": [
      "['ikhlas', '46137']\n",
      "[]\n",
      "['ikhlas', '46137']\n",
      "[]\n"
     ]
    }
   ],
   "source": [
    "file = open(\"std_info.csv\", 'r')\n",
    "\n",
    "reader = csv.reader(file)\n",
    "for i in reader:\n",
    "    print(i)\n",
    "file.close()"
   ]
  },
  {
   "cell_type": "code",
   "execution_count": 44,
   "metadata": {},
   "outputs": [],
   "source": [
    "while True:\n",
    "    try:\n",
    "        writer = csv.writer(file)\n",
    "        writer.writerow(['junaid', \"46142\"])\n",
    "        file.close()\n",
    "        break\n",
    "    except:\n",
    "        file = open(\"std_info.csv\", 'a')"
   ]
  },
  {
   "cell_type": "markdown",
   "metadata": {},
   "source": [
    "# task\n",
    "\n",
    "1 2  -------  5 6   \n",
    "3 4  -------  7 8  \n",
    "\n",
    "matrix multiplication without using numpy   "
   ]
  },
  {
   "cell_type": "code",
   "execution_count": 64,
   "metadata": {},
   "outputs": [
    {
     "name": "stdout",
     "output_type": "stream",
     "text": [
      "1 2 \n",
      "3 4 \n"
     ]
    }
   ],
   "source": [
    "l1 = [1,2,3,4]\n",
    "j = 0\n",
    "for i in l1:\n",
    "    print(i, end=\" \")\n",
    "    j+=1\n",
    "    if j%2 == 0:\n",
    "        print()"
   ]
  },
  {
   "cell_type": "code",
   "execution_count": 63,
   "metadata": {},
   "outputs": [
    {
     "name": "stdout",
     "output_type": "stream",
     "text": [
      "5 6 \n",
      "7 8 "
     ]
    }
   ],
   "source": [
    "l2 = [5,6,7,8]\n",
    "j = 4\n",
    "for i in l2:\n",
    "    print(i, end=\" \")\n",
    "    j+=1\n",
    "    if j%3 == 0:\n",
    "        print()"
   ]
  }
 ],
 "metadata": {
  "kernelspec": {
   "display_name": "Python 3",
   "language": "python",
   "name": "python3"
  },
  "language_info": {
   "codemirror_mode": {
    "name": "ipython",
    "version": 3
   },
   "file_extension": ".py",
   "mimetype": "text/x-python",
   "name": "python",
   "nbconvert_exporter": "python",
   "pygments_lexer": "ipython3",
   "version": "3.8.3"
  }
 },
 "nbformat": 4,
 "nbformat_minor": 4
}
