{
 "cells": [
  {
   "cell_type": "markdown",
   "metadata": {},
   "source": [
    "# Task  \n",
    "50 : GP = 1  \n",
    "1.1, 1.2, ....., 1.9  \n",
    "60 : GP = 2  \n",
    "2.1, 2.2, ...., 2.9  \n",
    "70 : GP = 3  \n",
    "80 : GP = 4  \n",
    "\n",
    "write a program to find these GPs  \n",
    "GPA  "
   ]
  },
  {
   "cell_type": "code",
   "execution_count": 2,
   "metadata": {},
   "outputs": [
    {
     "name": "stdout",
     "output_type": "stream",
     "text": [
      "4966.666666666667\n",
      "6945.333333333333\n",
      "6945.333333333333\n",
      "4966.666666666667\n"
     ]
    }
   ],
   "source": [
    "shop1 = [9500, 400, 5000]\n",
    "\n",
    "\n",
    "avg1 = sum(shop1) / 3\n",
    "# detail of shop 1\n",
    "shop2 = [8500, 6004, 6332]\n",
    "shop3 = [8500, 6004, 6332]\n",
    "shop4 = [9500, 400, 5000]\n",
    "\n",
    "avg2 = sum(shop2) / 3\n",
    "avg3 = sum(shop3) / 3\n",
    "avg4 = sum(shop4) / 3\n",
    "\n",
    "print(avg1)\n",
    "print(avg2)\n",
    "print(avg3)\n",
    "print(avg4)"
   ]
  },
  {
   "cell_type": "code",
   "execution_count": null,
   "metadata": {},
   "outputs": [],
   "source": [
    "# st 1\n",
    "# percentage\n",
    "# if percentage >80:\n",
    "#    print(\"A+\")\n",
    "# print\n",
    "\n",
    "# std 2\n",
    "# percentage\n",
    "# if percentage >80:\n",
    "#    print(\"A+\")"
   ]
  },
  {
   "cell_type": "code",
   "execution_count": 3,
   "metadata": {},
   "outputs": [],
   "source": [
    "# Function"
   ]
  },
  {
   "cell_type": "markdown",
   "metadata": {},
   "source": [
    "syntax  \n",
    "def function_name(parameters):    \n",
    "    body\n",
    "    body\n",
    "    body\n",
    "\n",
    "function_name()\n",
    "function ends"
   ]
  },
  {
   "cell_type": "code",
   "execution_count": 9,
   "metadata": {},
   "outputs": [
    {
     "name": "stdout",
     "output_type": "stream",
     "text": [
      "B\n",
      "C\n"
     ]
    }
   ],
   "source": [
    "def grade(percentage): # parameters\n",
    "    if percentage > 90:\n",
    "        print(\"A+\")\n",
    "    elif percentage > 80:\n",
    "        print(\"A\")\n",
    "    elif percentage > 70:\n",
    "        print(\"B\")\n",
    "    elif percentage > 60:\n",
    "        print(\"C\")\n",
    "    else:\n",
    "        print(\"fail\")\n",
    "        \n",
    "marks1 = [70, 80, 90, 75]\n",
    "percentage = (sum(marks1) / 400) * 100\n",
    "grade(percentage) # arguments\n",
    "\n",
    "marks2 = [80, 85, 44, 36]\n",
    "percentage2 = (sum(marks2) / 400) * 100\n",
    "grade(percentage2)"
   ]
  },
  {
   "cell_type": "markdown",
   "metadata": {},
   "source": [
    "global variables  \n",
    "local variables  "
   ]
  },
  {
   "cell_type": "code",
   "execution_count": 46,
   "metadata": {},
   "outputs": [
    {
     "name": "stdout",
     "output_type": "stream",
     "text": [
      "in function:  20\n",
      "out of function 10\n"
     ]
    }
   ],
   "source": [
    "a = 10\n",
    "\n",
    "def update_a(b):\n",
    "    b += 10\n",
    "    print(\"in function: \", b)\n",
    "\n",
    "update_a(a)\n",
    "print(\"out of function\", a)"
   ]
  },
  {
   "cell_type": "code",
   "execution_count": 47,
   "metadata": {},
   "outputs": [
    {
     "name": "stdout",
     "output_type": "stream",
     "text": [
      "in function:  20\n",
      "out of function 20\n"
     ]
    }
   ],
   "source": [
    "a = 10\n",
    "\n",
    "def update_a():\n",
    "    global a\n",
    "    a += 10\n",
    "    print(\"in function: \", a)\n",
    "\n",
    "update_a()\n",
    "print(\"out of function\", a)"
   ]
  },
  {
   "cell_type": "code",
   "execution_count": 22,
   "metadata": {},
   "outputs": [
    {
     "name": "stdout",
     "output_type": "stream",
     "text": [
      "Welcome muhammad usman aftab\n"
     ]
    }
   ],
   "source": [
    "def greetings(f_name, m_name, l_name):\n",
    "    print(\"Welcome {} {} {}\".format(f_name, m_name, l_name))\n",
    "\n",
    "# greetings(\"muhammad\", \"aftab\", \"usman\") # positonal arguments\n",
    "greetings(l_name=\"aftab\", m_name=\"usman\", f_name=\"muhammad\") # keyword arguments"
   ]
  },
  {
   "cell_type": "markdown",
   "metadata": {},
   "source": [
    "returning functions  : return   \n",
    "non-returning function  : not return anything"
   ]
  },
  {
   "cell_type": "code",
   "execution_count": 30,
   "metadata": {},
   "outputs": [
    {
     "name": "stdout",
     "output_type": "stream",
     "text": [
      "B\n",
      "None\n"
     ]
    }
   ],
   "source": [
    "def grade(percentage): # parameters\n",
    "    if percentage > 90:\n",
    "        print(\"A+\")\n",
    "    elif percentage > 80:\n",
    "        print(\"A\")\n",
    "    elif percentage > 70:\n",
    "        print(\"B\")\n",
    "    elif percentage > 60:\n",
    "        print(\"C\")\n",
    "    else:\n",
    "        print(\"fail\")\n",
    "        \n",
    "marks1 = [70, 80, 90, 75]\n",
    "percentage = (sum(marks1) / 400) * 100\n",
    "print(grade(percentage))"
   ]
  },
  {
   "cell_type": "code",
   "execution_count": 37,
   "metadata": {},
   "outputs": [
    {
     "name": "stdout",
     "output_type": "stream",
     "text": [
      "\n"
     ]
    }
   ],
   "source": [
    "def grade(percentage): # parameters\n",
    "    if percentage > 90:\n",
    "        return \"A+\"\n",
    "    elif percentage > 80:\n",
    "        return \"A\"\n",
    "    elif percentage > 70:\n",
    "        return \"B\"\n",
    "    elif percentage > 60:\n",
    "        return \"C\"\n",
    "    else:\n",
    "        return \"fail\"\n",
    "        \n",
    "marks1 = [70, 80, 90, 75]\n",
    "percentage = (sum(marks1) / 400) * 100\n",
    "print(grade(percentage))\n",
    "grade = grade(percentage)\n",
    "print(grade)"
   ]
  },
  {
   "cell_type": "code",
   "execution_count": 42,
   "metadata": {},
   "outputs": [
    {
     "name": "stdout",
     "output_type": "stream",
     "text": [
      "<class 'list'>\n",
      "36\n",
      "<class 'set'>\n",
      "36\n"
     ]
    }
   ],
   "source": [
    "a = [1,2,3,4,5,6,7,8]\n",
    "print(type(a))\n",
    "print(sum(a))\n",
    "\n",
    "s = {1,2,3,4,5,6,7,8}\n",
    "print(type(s))\n",
    "print(sum(s))"
   ]
  }
 ],
 "metadata": {
  "kernelspec": {
   "display_name": "Python 3",
   "language": "python",
   "name": "python3"
  },
  "language_info": {
   "codemirror_mode": {
    "name": "ipython",
    "version": 3
   },
   "file_extension": ".py",
   "mimetype": "text/x-python",
   "name": "python",
   "nbconvert_exporter": "python",
   "pygments_lexer": "ipython3",
   "version": "3.8.3"
  }
 },
 "nbformat": 4,
 "nbformat_minor": 4
}
