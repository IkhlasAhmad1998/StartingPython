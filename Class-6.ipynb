{
 "cells": [
  {
   "cell_type": "markdown",
   "metadata": {},
   "source": [
    "# Dictionary  \n",
    "hetrogenious data  \n",
    "key, value pairs  \n",
    "{key: value}  \n",
    "key must be immutable  int, str, float, not a list  \n",
    "mutable"
   ]
  },
  {
   "cell_type": "code",
   "execution_count": 13,
   "metadata": {},
   "outputs": [
    {
     "name": "stdout",
     "output_type": "stream",
     "text": [
      "<class 'dict'>\n",
      "5\n",
      "h\n",
      "[1, 2, 3, 4, 5, 6, 7]\n"
     ]
    }
   ],
   "source": [
    "d = {\"a\": 4, \"b\": '5', 6: \"h\", \"l\": [1,2,3,4,5,6,7], \"a\": 5}\n",
    "print(type(d))\n",
    "print(d['a'])\n",
    "print(d[6])\n",
    "print(d[\"l\"])"
   ]
  },
  {
   "cell_type": "code",
   "execution_count": 14,
   "metadata": {},
   "outputs": [
    {
     "name": "stdout",
     "output_type": "stream",
     "text": [
      "eng 45\n",
      "urdu 67\n",
      "math 89\n"
     ]
    }
   ],
   "source": [
    "subject = ['eng', 'urdu', 'math']\n",
    "marks = [45, 67, 89]\n",
    "for i in range(3):\n",
    "    print(subject[i], marks[i])\n",
    "    "
   ]
  },
  {
   "cell_type": "code",
   "execution_count": 17,
   "metadata": {},
   "outputs": [
    {
     "name": "stdout",
     "output_type": "stream",
     "text": [
      "{'english': 45, 'urdu': 90, 'maths': 92}\n"
     ]
    }
   ],
   "source": [
    "subject_marks = {'english': 45, \"urdu\": 90, \"maths\": 92}\n",
    "print(subject_marks)"
   ]
  },
  {
   "cell_type": "code",
   "execution_count": 18,
   "metadata": {},
   "outputs": [
    {
     "name": "stdout",
     "output_type": "stream",
     "text": [
      "{'a': 5, 'b': '5', 6: 'h', 'l': [1, 2, 3, 4, 5, 6, 7]}\n"
     ]
    }
   ],
   "source": [
    "print(d)"
   ]
  },
  {
   "cell_type": "code",
   "execution_count": 22,
   "metadata": {},
   "outputs": [
    {
     "name": "stdout",
     "output_type": "stream",
     "text": [
      "dict_keys(['a', 'b', 6, 'l'])\n",
      "dict_values([5, '5', 'h', [1, 2, 3, 4, 5, 6, 7]])\n",
      "[1, 2, 3, 4, 5, 6, 7]\n",
      "{'a': 5, 'b': '5', 6: 'h'}\n"
     ]
    }
   ],
   "source": [
    "print(d.keys())\n",
    "print(d.values())\n",
    "print(d.pop(\"l\"))\n",
    "print(d)"
   ]
  },
  {
   "cell_type": "code",
   "execution_count": 24,
   "metadata": {},
   "outputs": [
    {
     "name": "stdout",
     "output_type": "stream",
     "text": [
      "{'a': 5, 'b': '5', 6: 'h', 'z': 45}\n",
      "{'a': 5, 'b': '5', 6: 'h', 'z': 45, 'x': 89}\n"
     ]
    }
   ],
   "source": [
    "d['z'] = 45\n",
    "print(d)\n",
    "d.update({\"x\":89})\n",
    "print(d)"
   ]
  },
  {
   "cell_type": "code",
   "execution_count": 28,
   "metadata": {},
   "outputs": [
    {
     "name": "stdout",
     "output_type": "stream",
     "text": [
      "a : 5\n",
      "b : 5\n",
      "6 : h\n",
      "z : 45\n",
      "x : 89\n"
     ]
    }
   ],
   "source": [
    "for i in d:\n",
    "    print(\"{} : {}\".format(i, d[i]))"
   ]
  },
  {
   "cell_type": "code",
   "execution_count": 41,
   "metadata": {},
   "outputs": [
    {
     "name": "stdout",
     "output_type": "stream",
     "text": [
      "a : 5\n",
      "b : 5\n",
      "6 : h\n",
      "z : 45\n",
      "x : 89\n"
     ]
    }
   ],
   "source": [
    "for key, value in d.items():\n",
    "    print(\"{} : {}\".format(key, value))"
   ]
  },
  {
   "cell_type": "code",
   "execution_count": 33,
   "metadata": {},
   "outputs": [
    {
     "name": "stdout",
     "output_type": "stream",
     "text": [
      "<class 'tuple'>\n",
      "2 4 3\n"
     ]
    }
   ],
   "source": [
    "x = (2, 4, 3)\n",
    "print(type(x))\n",
    "\n",
    "a, b, c = x # unpacking \n",
    "print(a, b, c)"
   ]
  },
  {
   "cell_type": "code",
   "execution_count": 42,
   "metadata": {},
   "outputs": [
    {
     "name": "stdout",
     "output_type": "stream",
     "text": [
      "dict_items([('a', 5), ('b', '5'), (6, 'h'), ('z', 45), ('x', 89)])\n"
     ]
    }
   ],
   "source": [
    "b = d.items()\n",
    "print(b)"
   ]
  },
  {
   "cell_type": "code",
   "execution_count": 45,
   "metadata": {},
   "outputs": [
    {
     "name": "stdout",
     "output_type": "stream",
     "text": [
      "Enter marks of eng: 98\n",
      "Enter marks of urdu: 88\n",
      "Enter marks of maths: 88\n",
      "Enter marks of cs: 88\n",
      "Enter marks of IT: 88\n",
      "{'eng': 98, 'urdu': 88, 'maths': 88, 'cs': 88, 'IT': 88}\n"
     ]
    }
   ],
   "source": [
    "subject_marks = {'eng': 0, 'urdu': 0, \"maths\": 0, \"cs\": 0, \"IT\": 0}\n",
    "\n",
    "for key, value in subject_marks.items():\n",
    "    mark = int(input(\"Enter marks of {}: \".format(key)))\n",
    "    subject_marks.update({key: mark})\n",
    "\n",
    "print(subject_marks)"
   ]
  },
  {
   "cell_type": "code",
   "execution_count": 49,
   "metadata": {},
   "outputs": [
    {
     "name": "stdout",
     "output_type": "stream",
     "text": [
      "{1: 6, 2: 4, 3: 5, 4: 4, 5: 4, 6: 1, 7: 2, 8: 1}\n"
     ]
    }
   ],
   "source": [
    "l = [1,1,1,1,1,1,2,2,2,2,3,4,5,6,7,8,3,3,4,5,3,4,5,3,4,5,7]\n",
    "\n",
    "c = {}\n",
    "for i in l:\n",
    "    if i not in c.keys():\n",
    "        c.update({i: 1})\n",
    "    else:\n",
    "        c[i]+=1\n",
    "\n",
    "print(c)"
   ]
  },
  {
   "cell_type": "markdown",
   "metadata": {},
   "source": [
    "functions  \n",
    "methods  \n",
    "\n",
    "sum(1,2,3,4,5,6,7,8, [1,23455,7,8)  \n"
   ]
  },
  {
   "cell_type": "code",
   "execution_count": 53,
   "metadata": {},
   "outputs": [
    {
     "name": "stdout",
     "output_type": "stream",
     "text": [
      "<class 'set'>\n",
      "10\n",
      "10\n"
     ]
    }
   ],
   "source": [
    "s = {1,2,3,4}\n",
    "l = [1,2,3,4]\n",
    "# s.difference()\n",
    "# l.\n",
    "print(type(s))\n",
    "print(sum(l))\n",
    "print(sum(s))\n",
    "# s1.difference(s2)\n",
    "(1, 2.3, 3)"
   ]
  }
 ],
 "metadata": {
  "kernelspec": {
   "display_name": "Python 3",
   "language": "python",
   "name": "python3"
  },
  "language_info": {
   "codemirror_mode": {
    "name": "ipython",
    "version": 3
   },
   "file_extension": ".py",
   "mimetype": "text/x-python",
   "name": "python",
   "nbconvert_exporter": "python",
   "pygments_lexer": "ipython3",
   "version": "3.8.3"
  }
 },
 "nbformat": 4,
 "nbformat_minor": 4
}
