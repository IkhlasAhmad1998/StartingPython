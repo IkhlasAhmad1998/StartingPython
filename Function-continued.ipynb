{
 "cells": [
  {
   "cell_type": "code",
   "execution_count": 23,
   "metadata": {},
   "outputs": [
    {
     "name": "stdout",
     "output_type": "stream",
     "text": [
      "Enter Your Dip marks: 95\n",
      "Enter Your Programming marks: 78\n",
      "Enter Your ITC marks: 64\n",
      "Enter Your Psy marks: 58\n",
      "Enter Your Isl marks: 80\n",
      "Enter Your ML marks: 72\n",
      "{'Dip': [95], 'Programming': [78], 'ITC': [64], 'Psy': [58], 'Isl': [80], 'ML': [72]}\n"
     ]
    }
   ],
   "source": [
    "sub_marks = {'Dip': [0], \"Programming\": [0], \"ITC\": [0],\n",
    "            'Psy': [0], 'Isl': [0], 'ML': [0]}\n",
    "\n",
    "for sub in sub_marks.keys():\n",
    "    mark = int(input(\"Enter Your {} marks: \".format(sub)))\n",
    "    sub_marks[sub][0] = mark\n",
    "\n",
    "print(sub_marks)"
   ]
  },
  {
   "cell_type": "code",
   "execution_count": 24,
   "metadata": {},
   "outputs": [
    {
     "name": "stdout",
     "output_type": "stream",
     "text": [
      "{'Dip': [95, 4], 'Programming': [78, 3.8], 'ITC': [64, 2.4], 'Psy': [58, 1.8], 'Isl': [80, 4], 'ML': [72, 3.2]}\n",
      "Obtain_gp 19.2\n"
     ]
    }
   ],
   "source": [
    "for key, value in sub_marks.items():\n",
    "    if value[0] < 50:\n",
    "        gp = 0\n",
    "    elif 50 <= value[0] < 80:\n",
    "        gp = (value[0] - 40) / 10\n",
    "    else:\n",
    "        gp = 4\n",
    "    \n",
    "    sub_marks[key].append(gp)\n",
    "\n",
    "print(sub_marks)\n",
    "\n",
    "obtain_gp = 0\n",
    "for key, value in sub_marks.items():\n",
    "    obtain_gp += value[1]\n",
    "\n",
    "print(\"Obtain_gp\", obtain_gp)"
   ]
  },
  {
   "cell_type": "code",
   "execution_count": 25,
   "metadata": {},
   "outputs": [
    {
     "name": "stdout",
     "output_type": "stream",
     "text": [
      "3.1999999999999997\n"
     ]
    }
   ],
   "source": [
    "gpa = obtain_gp / len(sub_marks.keys())\n",
    "print(gpa)"
   ]
  },
  {
   "cell_type": "code",
   "execution_count": 37,
   "metadata": {
    "scrolled": true
   },
   "outputs": [
    {
     "name": "stdout",
     "output_type": "stream",
     "text": [
      "Welcome: Qazi usman aftab\n"
     ]
    }
   ],
   "source": [
    "def greetings(fname, lname, mname):\n",
    "    print(\"Welcome: {} {} {}\".format(fname, mname, lname))\n",
    "\n",
    "# greetings(fname=\"Qazi\", lname='aftab', mname=\"usman\")\n",
    "greetings(\"Qazi\", \"aftab\", mname='usman')"
   ]
  },
  {
   "cell_type": "code",
   "execution_count": 46,
   "metadata": {},
   "outputs": [
    {
     "name": "stdout",
     "output_type": "stream",
     "text": [
      "Enter your first name: qazi\n",
      "Enter your middle name: usman\n",
      "Enter your last name: aftab\n",
      "Welcome: qazi usman aftab\n"
     ]
    }
   ],
   "source": [
    "def greetings(fname, mname, lname=\"\"):\n",
    "    print(\"Welcome: {} {} {}\".format(fname, mname, lname))\n",
    "\n",
    "# greetings(fname=\"Qazi\", lname='aftab', mname=\"usman\")\n",
    "# greetings(\"Qazi\", \"usman\", \"aftab\")\n",
    "\n",
    "fn = input(\"Enter your first name: \")\n",
    "mn = input(\"Enter your middle name: \")\n",
    "ln = input(\"Enter your last name: \")\n",
    "\n",
    "greetings(fn, mn, ln)"
   ]
  },
  {
   "cell_type": "code",
   "execution_count": 55,
   "metadata": {},
   "outputs": [
    {
     "name": "stdout",
     "output_type": "stream",
     "text": [
      "berfor function: [0, 1, 2, 3, 4, 5, 6, 7, 8, 9]\n",
      "[5, 5, 5, 5, 5, 5, 5, 5, 5, 5]\n",
      "After function: [0, 1, 2, 3, 4, 5, 6, 7, 8, 9]\n"
     ]
    }
   ],
   "source": [
    "l = list(range(10))\n",
    "\n",
    "print(\"berfor function: {}\".format(l))\n",
    "\n",
    "def alter(l):\n",
    "    a = l.copy()\n",
    "    for i in range(10):\n",
    "        a[i] = 5      \n",
    "    \n",
    "    print(a)\n",
    "\n",
    "alter(l)\n",
    "print(\"After function: {}\".format(l))"
   ]
  },
  {
   "cell_type": "code",
   "execution_count": 53,
   "metadata": {},
   "outputs": [
    {
     "name": "stdout",
     "output_type": "stream",
     "text": [
      "True\n"
     ]
    }
   ],
   "source": [
    "c = l\n",
    "print(c is l)"
   ]
  },
  {
   "cell_type": "code",
   "execution_count": 54,
   "metadata": {},
   "outputs": [
    {
     "name": "stdout",
     "output_type": "stream",
     "text": [
      "False\n"
     ]
    }
   ],
   "source": [
    "d = l.copy()\n",
    "print(d is l)"
   ]
  },
  {
   "cell_type": "code",
   "execution_count": 57,
   "metadata": {},
   "outputs": [
    {
     "name": "stdout",
     "output_type": "stream",
     "text": [
      "20\n",
      "10\n"
     ]
    }
   ],
   "source": [
    "x = 10\n",
    "y = 20\n",
    "\n",
    "x, y = y , x\n",
    "\n",
    "print(x)\n",
    "print(y)"
   ]
  },
  {
   "cell_type": "code",
   "execution_count": 8,
   "metadata": {},
   "outputs": [
    {
     "name": "stdout",
     "output_type": "stream",
     "text": [
      "Enter num1: 56\n",
      "Enter num2: 77\n",
      "Enter num3: 0\n",
      "Enter num4: 0\n",
      "The sum is : 133\n"
     ]
    }
   ],
   "source": [
    "def add(x, y, z, a):\n",
    "    return x+y+z+a\n",
    "\n",
    "num1 = int(input(\"Enter num1: \"))\n",
    "num2 = int(input(\"Enter num2: \"))\n",
    "num3 = int(input(\"Enter num3: \"))\n",
    "num4 = int(input(\"Enter num4: \"))\n",
    "result = add(num1, num2, num3, num4)\n",
    "print(\"The sum is : {}\".format(result))"
   ]
  },
  {
   "cell_type": "code",
   "execution_count": 21,
   "metadata": {},
   "outputs": [
    {
     "name": "stdout",
     "output_type": "stream",
     "text": [
      "your sum is : 3\n"
     ]
    }
   ],
   "source": [
    "# arbitrary arguments\n",
    "def add(*numbers):\n",
    "    result = 0\n",
    "    for i in numbers:\n",
    "        result += i   # result = result + i\n",
    "    return result\n",
    "\n",
    "result = add(3, 4)\n",
    "print(\"your sum is : {}\".format(result))"
   ]
  },
  {
   "cell_type": "code",
   "execution_count": 31,
   "metadata": {},
   "outputs": [
    {
     "name": "stdout",
     "output_type": "stream",
     "text": [
      "write end to end input\n",
      "Enter number: 3\n",
      "Enter number: 4\n",
      "Enter number: 5\n",
      "Enter number: end\n",
      "your sum is : 12\n"
     ]
    }
   ],
   "source": [
    "def add(*numbers):\n",
    "    result = 0\n",
    "    for i in numbers:\n",
    "        result += i   # result = result + i\n",
    "    return result\n",
    "\n",
    "number = []\n",
    "print(\"write end to end input\")\n",
    "while True:\n",
    "    num = input(\"Enter number: \")\n",
    "    if num == 'end':\n",
    "        break\n",
    "    else:\n",
    "        number.append(int(num))\n",
    "\n",
    "\n",
    "result = add(*number)\n",
    "print(\"your sum is : {}\".format(result))"
   ]
  },
  {
   "cell_type": "code",
   "execution_count": 43,
   "metadata": {},
   "outputs": [
    {
     "name": "stdout",
     "output_type": "stream",
     "text": [
      "hello-your\tworld\n"
     ]
    }
   ],
   "source": [
    "print(\"hello\", \"your\", end=\"\\t\", sep=\"-\")\n",
    "print('world')"
   ]
  },
  {
   "cell_type": "code",
   "execution_count": 47,
   "metadata": {},
   "outputs": [
    {
     "name": "stdout",
     "output_type": "stream",
     "text": [
      "x:  5\n",
      "x: 5\n"
     ]
    }
   ],
   "source": [
    "x = 5\n",
    "print(\"x: \", x)\n",
    "print(\"x: {}\".format(x))"
   ]
  },
  {
   "cell_type": "markdown",
   "metadata": {},
   "source": [
    "name: ikhlas  \n",
    "roll no: 46137  \n",
    "\n",
    "name: junaid  \n",
    "roll n0: 1234  \n",
    "institute: hu  \n",
    "\n",
    "name : khizer\n",
    "\n",
    "\n",
    "name : noman  \n",
    "roll no:  \n",
    "inst:  \n",
    "address:  \n",
    "cnic:  \n",
    "phone:  "
   ]
  },
  {
   "cell_type": "code",
   "execution_count": 80,
   "metadata": {},
   "outputs": [
    {
     "name": "stdout",
     "output_type": "stream",
     "text": [
      "write end for label to end input\n",
      "Enter label: name\n",
      "Enter your Name: ikhlas\n",
      "Enter label: roll no\n",
      "Enter your Roll no: 46137\n",
      "Enter label: institute\n",
      "Enter your Institute: hu\n",
      "Enter label: end\n",
      "\n",
      " ====================\n",
      "Name : Ikhlas\n",
      "Roll no : 46137\n",
      "Institute : Hu\n"
     ]
    }
   ],
   "source": [
    "def display(**detail):  \n",
    "    for key, value in detail.items():\n",
    "        print(\"{} : {}\".format(key, value))\n",
    "\n",
    "\n",
    "details = {}\n",
    "print(\"write end for label to end input\")\n",
    "while True:\n",
    "    key = input(\"Enter label: \")\n",
    "    key = key.capitalize()\n",
    "    if key.lower() == 'end':\n",
    "        break\n",
    "    else:\n",
    "        value = input(\"Enter your {}: \".format(key))\n",
    "        if value.isnumeric():\n",
    "            value = int(value)\n",
    "        else:\n",
    "            value = value.capitalize()\n",
    "        details.update({key: value})\n",
    "\n",
    "print(\"\\n\", \"=\"*20)\n",
    "display(**details)"
   ]
  },
  {
   "cell_type": "code",
   "execution_count": 83,
   "metadata": {},
   "outputs": [
    {
     "name": "stdout",
     "output_type": "stream",
     "text": [
      "<class 'int'>\n"
     ]
    }
   ],
   "source": [
    "print(type(details['Roll no']))"
   ]
  },
  {
   "cell_type": "code",
   "execution_count": 89,
   "metadata": {},
   "outputs": [
    {
     "name": "stdout",
     "output_type": "stream",
     "text": [
      "{'Name': 'Ikhlas', 'Roll no': 46137, 'Institute': 'Hu'}\n",
      "{1: 'A', 2: 'B'}\n"
     ]
    }
   ],
   "source": [
    "print(details)\n",
    "d = {1: \"A\", 2: \"B\"}\n",
    "print(d)"
   ]
  },
  {
   "cell_type": "code",
   "execution_count": 94,
   "metadata": {},
   "outputs": [
    {
     "name": "stdout",
     "output_type": "stream",
     "text": [
      "{'Name': 'Ikhlas', 'Roll no': 46137, 'Institute': 'Hu', 1: 'A', 2: 'B'}\n"
     ]
    }
   ],
   "source": [
    "a = {**details, **d}\n",
    "print(a)"
   ]
  },
  {
   "cell_type": "code",
   "execution_count": 97,
   "metadata": {},
   "outputs": [
    {
     "name": "stdout",
     "output_type": "stream",
     "text": [
      "[1, 2, 3, 4]\n"
     ]
    }
   ],
   "source": [
    "a = [1,2]\n",
    "b = [3,4]\n",
    "c = [*a,*b]\n",
    "print(c)"
   ]
  },
  {
   "cell_type": "code",
   "execution_count": 4,
   "metadata": {
    "scrolled": true
   },
   "outputs": [
    {
     "name": "stdout",
     "output_type": "stream",
     "text": [
      "{'x': 10, 'y': 9.6, 'z': 'doing good', 'u': 'its ramadan'}\n"
     ]
    }
   ],
   "source": [
    "def show(**info):\n",
    "    print(info)\n",
    "\n",
    "x = 10\n",
    "y = 9.6\n",
    "z = 'doing good'\n",
    "u = 'its ramadan'\n",
    "\n",
    "show(x=10, y=9.6, z=\"doing good\", u='its ramadan')"
   ]
  }
 ],
 "metadata": {
  "kernelspec": {
   "display_name": "Python 3",
   "language": "python",
   "name": "python3"
  },
  "language_info": {
   "codemirror_mode": {
    "name": "ipython",
    "version": 3
   },
   "file_extension": ".py",
   "mimetype": "text/x-python",
   "name": "python",
   "nbconvert_exporter": "python",
   "pygments_lexer": "ipython3",
   "version": "3.8.3"
  }
 },
 "nbformat": 4,
 "nbformat_minor": 4
}
