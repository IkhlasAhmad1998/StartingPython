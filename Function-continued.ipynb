{
 "cells": [
  {
   "cell_type": "code",
   "execution_count": 23,
   "metadata": {},
   "outputs": [
    {
     "name": "stdout",
     "output_type": "stream",
     "text": [
      "Enter Your Dip marks: 95\n",
      "Enter Your Programming marks: 78\n",
      "Enter Your ITC marks: 64\n",
      "Enter Your Psy marks: 58\n",
      "Enter Your Isl marks: 80\n",
      "Enter Your ML marks: 72\n",
      "{'Dip': [95], 'Programming': [78], 'ITC': [64], 'Psy': [58], 'Isl': [80], 'ML': [72]}\n"
     ]
    }
   ],
   "source": [
    "sub_marks = {'Dip': [0], \"Programming\": [0], \"ITC\": [0],\n",
    "            'Psy': [0], 'Isl': [0], 'ML': [0]}\n",
    "\n",
    "for sub in sub_marks.keys():\n",
    "    mark = int(input(\"Enter Your {} marks: \".format(sub)))\n",
    "    sub_marks[sub][0] = mark\n",
    "\n",
    "print(sub_marks)"
   ]
  },
  {
   "cell_type": "code",
   "execution_count": 24,
   "metadata": {},
   "outputs": [
    {
     "name": "stdout",
     "output_type": "stream",
     "text": [
      "{'Dip': [95, 4], 'Programming': [78, 3.8], 'ITC': [64, 2.4], 'Psy': [58, 1.8], 'Isl': [80, 4], 'ML': [72, 3.2]}\n",
      "Obtain_gp 19.2\n"
     ]
    }
   ],
   "source": [
    "for key, value in sub_marks.items():\n",
    "    if value[0] < 50:\n",
    "        gp = 0\n",
    "    elif 50 <= value[0] < 80:\n",
    "        gp = (value[0] - 40) / 10\n",
    "    else:\n",
    "        gp = 4\n",
    "    \n",
    "    sub_marks[key].append(gp)\n",
    "\n",
    "print(sub_marks)\n",
    "\n",
    "obtain_gp = 0\n",
    "for key, value in sub_marks.items():\n",
    "    obtain_gp += value[1]\n",
    "\n",
    "print(\"Obtain_gp\", obtain_gp)"
   ]
  },
  {
   "cell_type": "code",
   "execution_count": 25,
   "metadata": {},
   "outputs": [
    {
     "name": "stdout",
     "output_type": "stream",
     "text": [
      "3.1999999999999997\n"
     ]
    }
   ],
   "source": [
    "gpa = obtain_gp / len(sub_marks.keys())\n",
    "print(gpa)"
   ]
  },
  {
   "cell_type": "code",
   "execution_count": 37,
   "metadata": {
    "scrolled": true
   },
   "outputs": [
    {
     "name": "stdout",
     "output_type": "stream",
     "text": [
      "Welcome: Qazi usman aftab\n"
     ]
    }
   ],
   "source": [
    "def greetings(fname, lname, mname):\n",
    "    print(\"Welcome: {} {} {}\".format(fname, mname, lname))\n",
    "\n",
    "# greetings(fname=\"Qazi\", lname='aftab', mname=\"usman\")\n",
    "greetings(\"Qazi\", \"aftab\", mname='usman')"
   ]
  },
  {
   "cell_type": "code",
   "execution_count": 46,
   "metadata": {},
   "outputs": [
    {
     "name": "stdout",
     "output_type": "stream",
     "text": [
      "Enter your first name: qazi\n",
      "Enter your middle name: usman\n",
      "Enter your last name: aftab\n",
      "Welcome: qazi usman aftab\n"
     ]
    }
   ],
   "source": [
    "def greetings(fname, mname, lname=\"\"):\n",
    "    print(\"Welcome: {} {} {}\".format(fname, mname, lname))\n",
    "\n",
    "# greetings(fname=\"Qazi\", lname='aftab', mname=\"usman\")\n",
    "# greetings(\"Qazi\", \"usman\", \"aftab\")\n",
    "\n",
    "fn = input(\"Enter your first name: \")\n",
    "mn = input(\"Enter your middle name: \")\n",
    "ln = input(\"Enter your last name: \")\n",
    "\n",
    "greetings(fn, mn, ln)"
   ]
  },
  {
   "cell_type": "code",
   "execution_count": 55,
   "metadata": {},
   "outputs": [
    {
     "name": "stdout",
     "output_type": "stream",
     "text": [
      "berfor function: [0, 1, 2, 3, 4, 5, 6, 7, 8, 9]\n",
      "[5, 5, 5, 5, 5, 5, 5, 5, 5, 5]\n",
      "After function: [0, 1, 2, 3, 4, 5, 6, 7, 8, 9]\n"
     ]
    }
   ],
   "source": [
    "l = list(range(10))\n",
    "\n",
    "print(\"berfor function: {}\".format(l))\n",
    "\n",
    "def alter(l):\n",
    "    a = l.copy()\n",
    "    for i in range(10):\n",
    "        a[i] = 5      \n",
    "    \n",
    "    print(a)\n",
    "\n",
    "alter(l)\n",
    "print(\"After function: {}\".format(l))"
   ]
  },
  {
   "cell_type": "code",
   "execution_count": 53,
   "metadata": {},
   "outputs": [
    {
     "name": "stdout",
     "output_type": "stream",
     "text": [
      "True\n"
     ]
    }
   ],
   "source": [
    "c = l\n",
    "print(c is l)"
   ]
  },
  {
   "cell_type": "code",
   "execution_count": 54,
   "metadata": {},
   "outputs": [
    {
     "name": "stdout",
     "output_type": "stream",
     "text": [
      "False\n"
     ]
    }
   ],
   "source": [
    "d = l.copy()\n",
    "print(d is l)"
   ]
  },
  {
   "cell_type": "code",
   "execution_count": 57,
   "metadata": {},
   "outputs": [
    {
     "name": "stdout",
     "output_type": "stream",
     "text": [
      "20\n",
      "10\n"
     ]
    }
   ],
   "source": [
    "x = 10\n",
    "y = 20\n",
    "\n",
    "x, y = y , x\n",
    "\n",
    "print(x)\n",
    "print(y)"
   ]
  },
  {
   "cell_type": "code",
   "execution_count": null,
   "metadata": {},
   "outputs": [],
   "source": []
  }
 ],
 "metadata": {
  "kernelspec": {
   "display_name": "Python 3",
   "language": "python",
   "name": "python3"
  },
  "language_info": {
   "codemirror_mode": {
    "name": "ipython",
    "version": 3
   },
   "file_extension": ".py",
   "mimetype": "text/x-python",
   "name": "python",
   "nbconvert_exporter": "python",
   "pygments_lexer": "ipython3",
   "version": "3.8.3"
  }
 },
 "nbformat": 4,
 "nbformat_minor": 4
}
