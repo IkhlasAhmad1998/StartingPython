{
 "cells": [
  {
   "cell_type": "markdown",
   "metadata": {},
   "source": [
    "Getting Input from User:   \n",
    "Three numbers stored in variables \n",
    "**num1, num2 and num3**\n",
    "respectively"
   ]
  },
  {
   "cell_type": "code",
   "execution_count": 10,
   "metadata": {
    "scrolled": true
   },
   "outputs": [
    {
     "name": "stdout",
     "output_type": "stream",
     "text": [
      "Enter num1: 1\n",
      "Enter num2: 8\n",
      "Enter num3: 5\n"
     ]
    }
   ],
   "source": [
    "num1 = int(input(\"Enter num1: \"))\n",
    "num2 = int(input(\"Enter num2: \"))\n",
    "num3 = int(input(\"Enter num3: \"))"
   ]
  },
  {
   "cell_type": "markdown",
   "metadata": {},
   "source": [
    "Now we check that among these three numbers which number is smaller   \n",
    "firstly, we check whether **num1 is smaller** than num2 and num3:"
   ]
  },
  {
   "cell_type": "code",
   "execution_count": 11,
   "metadata": {},
   "outputs": [
    {
     "name": "stdout",
     "output_type": "stream",
     "text": [
      "1 is smaller than 5 which is smaller than 8\n"
     ]
    }
   ],
   "source": [
    "if num1 < num2 and num1 < num3:\n",
    "    # we enter in the block where num1 is smallest\n",
    "    # now we need to check whether \n",
    "    # num2 is smaller than num3 or num3 is smaller than num2\n",
    "    # for that we again use if else\n",
    "    if num2 < num3:\n",
    "        # In this block we come to the point where num1<num2<num3\n",
    "        # so we print\n",
    "        print(\"{} is smaller than {} which is smaller than {}\".format(num1, num2, num3))\n",
    "    else:\n",
    "        # if num2 is not smaller than num3 then definitely num3 is smaller than num2\n",
    "        # so we print\n",
    "        print(\"{} is smaller than {} which is smaller than {}\".format(num1, num3, num2))\n",
    "        \n",
    "        \n",
    "# Secondly, we check whether **num2 is smaller** than num1 and num3:\n",
    "elif num2 < num1 and num2 < num3:\n",
    "    # we enter in the block where num2 is smallest\n",
    "    # now we need to check whehter\n",
    "    # num1 is smaller than num3 or num3 is smaller than num1\n",
    "    # for that we again use if else\n",
    "    if num1 < num3:\n",
    "        # In this block we come to the point where num2<num1<num3\n",
    "        # so we print\n",
    "        print(\"{} is smaller than {} which is smaller than {}\".format(num2, num1, num3))\n",
    "    else:\n",
    "        # if num1 is not smaller than definitely num3 is smaller\n",
    "        # so we print\n",
    "        print(\"{} is smaller than {} which is smaller than {}\".format(num2, num3, num2))\n",
    "        \n",
    "# And lastly if num1 and num2 are not smallest then definitely num3 is smallest   \n",
    "# so we use else \n",
    "else:\n",
    "    # we enter in the block where num3 is smallest\n",
    "    # now we need to check whether\n",
    "    # num1 is smaller than num2 or num2 is smaller than num1\n",
    "    # for that we again use if else\n",
    "    if num1 < num2:\n",
    "        # In this block we come to the point wherer num3<num1<num2\n",
    "        # so we print\n",
    "        print(\"{} is smaller than {} which is smaller than {}\".format(num3, num1, num2))\n",
    "    else:\n",
    "        # if num1 is not smaller than definitely num2 is smaller\n",
    "        # so we print\n",
    "        print(\"{} is smaller than {} which is smaller than {}\".format(num3, num2, num1))"
   ]
  },
  {
   "cell_type": "markdown",
   "metadata": {},
   "source": [
    "Note\n",
    ": For descending order use the same logic with greater than sign"
   ]
  }
 ],
 "metadata": {
  "kernelspec": {
   "display_name": "Python 3",
   "language": "python",
   "name": "python3"
  },
  "language_info": {
   "codemirror_mode": {
    "name": "ipython",
    "version": 3
   },
   "file_extension": ".py",
   "mimetype": "text/x-python",
   "name": "python",
   "nbconvert_exporter": "python",
   "pygments_lexer": "ipython3",
   "version": "3.8.3"
  }
 },
 "nbformat": 4,
 "nbformat_minor": 4
}
