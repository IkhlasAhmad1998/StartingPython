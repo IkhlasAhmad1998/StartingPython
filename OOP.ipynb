{
 "cells": [
  {
   "cell_type": "markdown",
   "metadata": {},
   "source": [
    "functional    small parts function  \n",
    "oop  classes and objects\n",
    "  \n",
    "Class: group of objects with similar behaviour/ properties  \n",
    "Object:  member of a Class   \n",
    "  \n",
    "## Class  \n",
    "1: properties  name, rollno, semester  \n",
    "2: methods    different methods  \n",
    "3: Constructor  "
   ]
  },
  {
   "cell_type": "code",
   "execution_count": 16,
   "metadata": {},
   "outputs": [
    {
     "name": "stdout",
     "output_type": "stream",
     "text": [
      "Name: Ikhlas\n",
      "Roll no: 46137\n",
      "Semester: 8th\n",
      "Name: Noman\n",
      "Roll no: 46151\n",
      "Semester: 8th\n"
     ]
    }
   ],
   "source": [
    "class Student():\n",
    "    \n",
    "    def __init__(self, name, rollno, semester):\n",
    "        self.name = name\n",
    "        self.rollno = rollno\n",
    "        self.semester = semester\n",
    "    \n",
    "    def show_info(self):\n",
    "        print(\"Name: {}\\nRoll no: {}\\nSemester: {}\".format(self.name, self.rollno, self.semester))\n",
    "    \n",
    "    def set_name(self, name):\n",
    "        self.name = name\n",
    "    \n",
    "    def set_rollno(self, rollno):\n",
    "        self.rollno = rollno\n",
    "\n",
    "std1 = Student(\"Ikhlas\", 46137, \"8th\")\n",
    "std2 = Student(\"Noman\", 46151, \"8th\")\n",
    "# print(std1.name, std1.rollno, std1.semester)\n",
    "# print(std2.name)\n",
    "std1.show_info()\n",
    "std2.show_info()"
   ]
  },
  {
   "cell_type": "code",
   "execution_count": 17,
   "metadata": {},
   "outputs": [
    {
     "name": "stdout",
     "output_type": "stream",
     "text": [
      "Name: Ikhlas Ahmad\n",
      "Roll no: 46137\n",
      "Semester: 8th\n"
     ]
    }
   ],
   "source": [
    "std1.set_name(\"Ikhlas Ahmad\")\n",
    "std1.show_info()"
   ]
  },
  {
   "cell_type": "code",
   "execution_count": 18,
   "metadata": {},
   "outputs": [
    {
     "name": "stdout",
     "output_type": "stream",
     "text": [
      "Name: Ikhlas Ahmad\n",
      "Roll no: 46138\n",
      "Semester: 8th\n"
     ]
    }
   ],
   "source": [
    "std1.set_rollno(46138)\n",
    "std1.show_info()"
   ]
  },
  {
   "cell_type": "code",
   "execution_count": null,
   "metadata": {},
   "outputs": [],
   "source": [
    "def d(name, rollno, semester):\n",
    "    pass\n",
    "\n",
    "d(\"ikhlas\", 46137, \"8th\")\n",
    "d('noman', 46151, '8th')"
   ]
  },
  {
   "cell_type": "code",
   "execution_count": 25,
   "metadata": {},
   "outputs": [
    {
     "name": "stdout",
     "output_type": "stream",
     "text": [
      "0 1 2 3 4 5 6 7 8 9 10 11 12 13 14 15 16 17 18 19 20 21 "
     ]
    },
    {
     "ename": "ValueError",
     "evalue": "",
     "output_type": "error",
     "traceback": [
      "\u001b[1;31m---------------------------------------------------------------------------\u001b[0m",
      "\u001b[1;31mValueError\u001b[0m                                Traceback (most recent call last)",
      "\u001b[1;32m<ipython-input-25-a81dc59f1c4c>\u001b[0m in \u001b[0;36m<module>\u001b[1;34m\u001b[0m\n\u001b[0;32m      3\u001b[0m     \u001b[0mprint\u001b[0m\u001b[1;33m(\u001b[0m\u001b[0mi\u001b[0m\u001b[1;33m,\u001b[0m \u001b[0mend\u001b[0m\u001b[1;33m=\u001b[0m\u001b[1;34m\" \"\u001b[0m\u001b[1;33m)\u001b[0m\u001b[1;33m\u001b[0m\u001b[1;33m\u001b[0m\u001b[0m\n\u001b[0;32m      4\u001b[0m     \u001b[1;32mif\u001b[0m \u001b[0mi\u001b[0m\u001b[1;33m>\u001b[0m\u001b[1;36m20\u001b[0m\u001b[1;33m:\u001b[0m\u001b[1;33m\u001b[0m\u001b[1;33m\u001b[0m\u001b[0m\n\u001b[1;32m----> 5\u001b[1;33m         \u001b[1;32mraise\u001b[0m \u001b[0mValueError\u001b[0m\u001b[1;33m\u001b[0m\u001b[1;33m\u001b[0m\u001b[0m\n\u001b[0m\u001b[0;32m      6\u001b[0m     \u001b[0mi\u001b[0m\u001b[1;33m+=\u001b[0m\u001b[1;36m1\u001b[0m\u001b[1;33m\u001b[0m\u001b[1;33m\u001b[0m\u001b[0m\n",
      "\u001b[1;31mValueError\u001b[0m: "
     ]
    }
   ],
   "source": [
    "i = 0\n",
    "while i>=0:\n",
    "    print(i, end=\" \")\n",
    "    if i>20:\n",
    "        raise ValueError\n",
    "    i+=1"
   ]
  },
  {
   "cell_type": "code",
   "execution_count": 22,
   "metadata": {},
   "outputs": [],
   "source": [
    "l = [ ]"
   ]
  },
  {
   "cell_type": "code",
   "execution_count": 26,
   "metadata": {},
   "outputs": [
    {
     "name": "stdout",
     "output_type": "stream",
     "text": [
      "Help on method_descriptor:\n",
      "\n",
      "append(self, object, /)\n",
      "    Append object to the end of the list.\n",
      "\n"
     ]
    }
   ],
   "source": [
    "help(list.append) "
   ]
  }
 ],
 "metadata": {
  "kernelspec": {
   "display_name": "Python 3",
   "language": "python",
   "name": "python3"
  },
  "language_info": {
   "codemirror_mode": {
    "name": "ipython",
    "version": 3
   },
   "file_extension": ".py",
   "mimetype": "text/x-python",
   "name": "python",
   "nbconvert_exporter": "python",
   "pygments_lexer": "ipython3",
   "version": "3.8.3"
  }
 },
 "nbformat": 4,
 "nbformat_minor": 4
}
