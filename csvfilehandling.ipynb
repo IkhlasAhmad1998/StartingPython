{
 "cells": [
  {
   "cell_type": "code",
   "execution_count": 9,
   "metadata": {},
   "outputs": [
    {
     "name": "stdout",
     "output_type": "stream",
     "text": [
      "5.0\n"
     ]
    }
   ],
   "source": [
    "import math\n",
    "\n",
    "print(math.sqrt(25))"
   ]
  },
  {
   "cell_type": "code",
   "execution_count": 11,
   "metadata": {},
   "outputs": [
    {
     "name": "stdout",
     "output_type": "stream",
     "text": [
      "['__doc__', '__loader__', '__name__', '__package__', '__spec__', 'acos', 'acosh', 'asin', 'asinh', 'atan', 'atan2', 'atanh', 'ceil', 'comb', 'copysign', 'cos', 'cosh', 'degrees', 'dist', 'e', 'erf', 'erfc', 'exp', 'expm1', 'fabs', 'factorial', 'floor', 'fmod', 'frexp', 'fsum', 'gamma', 'gcd', 'hypot', 'inf', 'isclose', 'isfinite', 'isinf', 'isnan', 'isqrt', 'ldexp', 'lgamma', 'log', 'log10', 'log1p', 'log2', 'modf', 'nan', 'perm', 'pi', 'pow', 'prod', 'radians', 'remainder', 'sin', 'sinh', 'sqrt', 'tan', 'tanh', 'tau', 'trunc']\n"
     ]
    }
   ],
   "source": [
    "print(dir(math))"
   ]
  },
  {
   "cell_type": "code",
   "execution_count": 13,
   "metadata": {},
   "outputs": [
    {
     "name": "stdout",
     "output_type": "stream",
     "text": [
      "5.0\n"
     ]
    }
   ],
   "source": [
    "from math import sqrt\n",
    "\n",
    "print(sqrt(25))"
   ]
  },
  {
   "cell_type": "code",
   "execution_count": 15,
   "metadata": {},
   "outputs": [
    {
     "name": "stdout",
     "output_type": "stream",
     "text": [
      "6.0\n"
     ]
    }
   ],
   "source": [
    "from math import sqrt as s\n",
    "\n",
    "print(s(36))"
   ]
  },
  {
   "cell_type": "code",
   "execution_count": 14,
   "metadata": {},
   "outputs": [
    {
     "name": "stdout",
     "output_type": "stream",
     "text": [
      "5.0\n"
     ]
    }
   ],
   "source": [
    "import math as m\n",
    "\n",
    "print(m.sqrt(25))"
   ]
  },
  {
   "cell_type": "code",
   "execution_count": 22,
   "metadata": {},
   "outputs": [
    {
     "name": "stdout",
     "output_type": "stream",
     "text": [
      "7.750470905699148\n"
     ]
    }
   ],
   "source": [
    "from math import *  # everthing\n",
    "\n",
    "print(tan(36))"
   ]
  },
  {
   "cell_type": "code",
   "execution_count": 28,
   "metadata": {},
   "outputs": [
    {
     "name": "stdout",
     "output_type": "stream",
     "text": [
      "roll no, name, institute, departement, \n",
      "46137, ikhlas, hu, IT, \n",
      "46142, junaid, hu, IT, \n"
     ]
    }
   ],
   "source": [
    "import csv\n",
    "\n",
    "with open(\"student_info.csv\", 'r') as file:\n",
    "    contents = csv.reader(file)\n",
    "    for line in contents:\n",
    "        for word in line:\n",
    "            print(word, end=\", \")\n",
    "        print()"
   ]
  },
  {
   "cell_type": "code",
   "execution_count": 38,
   "metadata": {},
   "outputs": [],
   "source": [
    "with open(\"newcsv.csv\", 'w', newline=\"\") as file:\n",
    "    writer = csv.writer(file)\n",
    "    writer.writerow([\"this is new line\", \"new word\"])\n",
    "    writer.writerow([\"this is another new line\"])"
   ]
  },
  {
   "cell_type": "code",
   "execution_count": 39,
   "metadata": {},
   "outputs": [],
   "source": [
    "with open(\"newcsv.csv\", 'w', newline=\"\") as file:\n",
    "    writer = csv.writer(file)\n",
    "    l = [[\"apples\", 'mangoes', 'banana'],\n",
    "         [\"onion\", 'tomatoe', 'potatoe']]\n",
    "    writer.writerows(l)"
   ]
  },
  {
   "cell_type": "code",
   "execution_count": 41,
   "metadata": {},
   "outputs": [],
   "source": [
    "with open(\"newcsv.csv\", 'w', newline=\"\") as file:\n",
    "    writer = csv.writer(file)\n",
    "    l = [[\"apples\", 'mangoes', 'banana'],\n",
    "         [\"onion\", 'tomatoe', 'potatoe']]\n",
    "    for line in l:\n",
    "        writer.writerow(line)"
   ]
  },
  {
   "cell_type": "code",
   "execution_count": 42,
   "metadata": {},
   "outputs": [],
   "source": [
    "with open(\"student_info.csv\", 'a') as file:  # appending to a file\n",
    "    writer = csv.writer(file)\n",
    "    writer.writerow([46125, \"Ayaz\", \"hu\", \"IT\"])"
   ]
  },
  {
   "cell_type": "markdown",
   "metadata": {},
   "source": [
    "# json  \n",
    "javascript object notation  \n",
    "\n",
    "dictionary:   "
   ]
  },
  {
   "cell_type": "code",
   "execution_count": 43,
   "metadata": {},
   "outputs": [],
   "source": [
    "import json"
   ]
  },
  {
   "cell_type": "code",
   "execution_count": 48,
   "metadata": {},
   "outputs": [],
   "source": [
    "d =  {\"Name\": \"Ikhlas\", \"Roll no\": 46137, \"Institute\": \"HU\"}\n",
    "fruits = [\"apples\", 'mangoes', 'banana']\n",
    "with open(\"json.json\", 'w') as file:\n",
    "    json.dump(d, file)\n",
    "    json.dump(fruits, file) "
   ]
  },
  {
   "cell_type": "code",
   "execution_count": 55,
   "metadata": {},
   "outputs": [],
   "source": [
    "d =  {\"Name\": \"Ikhlas\", \"Roll no\": 46137, \"Institute\": \"HU\"}\n",
    "fruits = [\"apples\", 'mangoes', 'banana']\n",
    "contents = [d, fruits]\n",
    "with open(\"json.json\", 'w') as file:\n",
    "    json.dump(contents, file)"
   ]
  },
  {
   "cell_type": "code",
   "execution_count": 58,
   "metadata": {},
   "outputs": [
    {
     "name": "stdout",
     "output_type": "stream",
     "text": [
      "[{'Name': 'Ikhlas', 'Roll no': 46137, 'Institute': 'HU'}, ['apples', 'mangoes', 'banana']]\n"
     ]
    }
   ],
   "source": [
    "with open(\"json.json\", 'r') as file:\n",
    "    dct = json.loads(file.read())\n",
    "    print(dct)"
   ]
  },
  {
   "cell_type": "code",
   "execution_count": 66,
   "metadata": {},
   "outputs": [
    {
     "name": "stdout",
     "output_type": "stream",
     "text": [
      "Ikhlas\n",
      "['apples', 'mangoes', 'banana']\n"
     ]
    }
   ],
   "source": [
    "print(dct[0])\n",
    "print(dct[1])"
   ]
  },
  {
   "cell_type": "code",
   "execution_count": 65,
   "metadata": {},
   "outputs": [
    {
     "name": "stdout",
     "output_type": "stream",
     "text": [
      "Name: Ikhlas\n",
      "Roll no: 46137\n",
      "Institute: HU\n"
     ]
    }
   ],
   "source": [
    "for key, value in dct[0].items():\n",
    "#     print(\"{}: {}\".format(key, value))\n",
    "    print(f\"{key}: {value}\")"
   ]
  },
  {
   "cell_type": "code",
   "execution_count": 71,
   "metadata": {},
   "outputs": [
    {
     "name": "stdout",
     "output_type": "stream",
     "text": [
      "Enter Your Name: ikhlas\n",
      "Enter Your Age: twenty two\n",
      "Plese enter numeric values\n",
      "Enter Your Age: twnty two\n",
      "Plese enter numeric values\n",
      "Enter Your Age: dfdf\n",
      "Plese enter numeric values\n",
      "Enter Your Age: 22\n",
      "Your name is ikhlas\n",
      "Your age is 22\n"
     ]
    }
   ],
   "source": [
    "name = input(\"Enter Your Name: \")\n",
    "\n",
    "while True: \n",
    "    age = input(\"Enter Your Age: \")\n",
    "    if age.isnumeric():\n",
    "        age = int(age)\n",
    "        break\n",
    "    else:\n",
    "        print(\"Plese enter numeric values\")\n",
    "\n",
    "print(\"Your name is {}\\nYour age is {}\".format(name, age))"
   ]
  },
  {
   "cell_type": "markdown",
   "metadata": {},
   "source": [
    "# Exception Handling\n",
    "  \n",
    "try:   \n",
    "except:  \n",
    "else:  \n",
    "finaly:  "
   ]
  }
 ],
 "metadata": {
  "kernelspec": {
   "display_name": "Python 3",
   "language": "python",
   "name": "python3"
  },
  "language_info": {
   "codemirror_mode": {
    "name": "ipython",
    "version": 3
   },
   "file_extension": ".py",
   "mimetype": "text/x-python",
   "name": "python",
   "nbconvert_exporter": "python",
   "pygments_lexer": "ipython3",
   "version": "3.8.3"
  }
 },
 "nbformat": 4,
 "nbformat_minor": 4
}
