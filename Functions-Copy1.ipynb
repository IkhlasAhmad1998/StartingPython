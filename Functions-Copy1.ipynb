{
 "cells": [
  {
   "cell_type": "code",
   "execution_count": 3,
   "metadata": {},
   "outputs": [
    {
     "name": "stdout",
     "output_type": "stream",
     "text": [
      "Mr.  Ikhlas\n"
     ]
    }
   ],
   "source": [
    "# Default value parameters\n",
    "def fullName(first = \"\", last = \"\", middle = \" \"):\n",
    "    print(first + middle + last)\n",
    "\n",
    "fullName(\"Mr.\", \"Ikhlas\", middle = \"  \")"
   ]
  },
  {
   "cell_type": "code",
   "execution_count": 12,
   "metadata": {},
   "outputs": [
    {
     "name": "stdout",
     "output_type": "stream",
     "text": [
      "5.0\n"
     ]
    }
   ],
   "source": [
    "def add(num1 = 0.0, num2 = 0):\n",
    "    print(num1 + num2)\n",
    "\n",
    "add(num2 = 5)"
   ]
  },
  {
   "cell_type": "markdown",
   "metadata": {},
   "source": [
    "# Dealing with *args and *kwarg(key word arguments) both used for arbitratry number of arguments"
   ]
  },
  {
   "cell_type": "code",
   "execution_count": 6,
   "metadata": {},
   "outputs": [
    {
     "name": "stdout",
     "output_type": "stream",
     "text": [
      "49.5\n"
     ]
    }
   ],
   "source": [
    "def add(*oArgs):\n",
    "    Sum = 0\n",
    "    for i in oArgs:\n",
    "        Sum = Sum + i\n",
    "    print(Sum)\n",
    "    \n",
    "add(12,5,9,2,4,3,4,5,3,2.5)"
   ]
  },
  {
   "cell_type": "code",
   "execution_count": 9,
   "metadata": {},
   "outputs": [
    {
     "name": "stdout",
     "output_type": "stream",
     "text": [
      "30\n"
     ]
    }
   ],
   "source": [
    "def mul(**OArgs):\n",
    "    Pro = 1\n",
    "    for i in OArgs:\n",
    "        Pro = Pro * OArgs[i]\n",
    "        \n",
    "    print(Pro)\n",
    "\n",
    "mul(a=2, b=3, c= 5)"
   ]
  },
  {
   "cell_type": "code",
   "execution_count": 2,
   "metadata": {},
   "outputs": [
    {
     "name": "stdout",
     "output_type": "stream",
     "text": [
      "Your sum is: 46\n"
     ]
    }
   ],
   "source": [
    "def alist(*nums):\n",
    "    Sum = sum(nums)\n",
    "    print(f\"Your sum is: {Sum}\")\n",
    "\n",
    "alist(5,4,6,8,2,3,7,5,6)"
   ]
  },
  {
   "cell_type": "code",
   "execution_count": 1,
   "metadata": {
    "scrolled": true
   },
   "outputs": [
    {
     "name": "stdout",
     "output_type": "stream",
     "text": [
      "Enter numbers you want to add separate with comma: 2,3,4,5,6,7,8,9,0\n"
     ]
    },
    {
     "ename": "TypeError",
     "evalue": "int() argument must be a string, a bytes-like object or a number, not 'tuple'",
     "output_type": "error",
     "traceback": [
      "\u001b[1;31m---------------------------------------------------------------------------\u001b[0m",
      "\u001b[1;31mTypeError\u001b[0m                                 Traceback (most recent call last)",
      "\u001b[1;32m<ipython-input-1-d5cae95648f9>\u001b[0m in \u001b[0;36m<module>\u001b[1;34m\u001b[0m\n\u001b[0;32m      4\u001b[0m     \u001b[0mprint\u001b[0m\u001b[1;33m(\u001b[0m\u001b[1;34m\"Your sum is: {s}\"\u001b[0m\u001b[1;33m)\u001b[0m\u001b[1;33m\u001b[0m\u001b[1;33m\u001b[0m\u001b[0m\n\u001b[0;32m      5\u001b[0m \u001b[1;33m\u001b[0m\u001b[0m\n\u001b[1;32m----> 6\u001b[1;33m \u001b[0mSum\u001b[0m\u001b[1;33m(\u001b[0m\u001b[0mlist\u001b[0m\u001b[1;33m(\u001b[0m\u001b[0minput\u001b[0m\u001b[1;33m(\u001b[0m\u001b[1;34m\"Enter numbers you want to add separate with comma: \"\u001b[0m\u001b[1;33m)\u001b[0m\u001b[1;33m)\u001b[0m\u001b[1;33m)\u001b[0m\u001b[1;33m\u001b[0m\u001b[1;33m\u001b[0m\u001b[0m\n\u001b[0m",
      "\u001b[1;32m<ipython-input-1-d5cae95648f9>\u001b[0m in \u001b[0;36mSum\u001b[1;34m(*nums)\u001b[0m\n\u001b[0;32m      1\u001b[0m \u001b[1;32mdef\u001b[0m \u001b[0mSum\u001b[0m\u001b[1;33m(\u001b[0m\u001b[1;33m*\u001b[0m\u001b[0mnums\u001b[0m\u001b[1;33m)\u001b[0m\u001b[1;33m:\u001b[0m\u001b[1;33m\u001b[0m\u001b[1;33m\u001b[0m\u001b[0m\n\u001b[1;32m----> 2\u001b[1;33m     \u001b[0mnums\u001b[0m \u001b[1;33m=\u001b[0m \u001b[0mint\u001b[0m\u001b[1;33m(\u001b[0m\u001b[0mnums\u001b[0m\u001b[1;33m)\u001b[0m\u001b[1;33m\u001b[0m\u001b[1;33m\u001b[0m\u001b[0m\n\u001b[0m\u001b[0;32m      3\u001b[0m     \u001b[0ms\u001b[0m \u001b[1;33m=\u001b[0m \u001b[0msum\u001b[0m\u001b[1;33m(\u001b[0m\u001b[0mnums\u001b[0m\u001b[1;33m)\u001b[0m\u001b[1;33m\u001b[0m\u001b[1;33m\u001b[0m\u001b[0m\n\u001b[0;32m      4\u001b[0m     \u001b[0mprint\u001b[0m\u001b[1;33m(\u001b[0m\u001b[1;34m\"Your sum is: {s}\"\u001b[0m\u001b[1;33m)\u001b[0m\u001b[1;33m\u001b[0m\u001b[1;33m\u001b[0m\u001b[0m\n\u001b[0;32m      5\u001b[0m \u001b[1;33m\u001b[0m\u001b[0m\n",
      "\u001b[1;31mTypeError\u001b[0m: int() argument must be a string, a bytes-like object or a number, not 'tuple'"
     ]
    }
   ],
   "source": [
    "def Sum(*nums):\n",
    "    s = sum(nums)\n",
    "    print(\"Your sum is: {s}\")\n",
    "    \n",
    "Sum(list(input(\"Enter numbers you want to add separate with comma: \")))"
   ]
  },
  {
   "cell_type": "code",
   "execution_count": 4,
   "metadata": {},
   "outputs": [
    {
     "name": "stdout",
     "output_type": "stream",
     "text": [
      "Pakistan, Islamabad\n",
      "Saudi Arabia, Jeddah\n",
      "Turkey, Istanbol\n"
     ]
    }
   ],
   "source": [
    "def country_city(country, city):\n",
    "    return country + \", \" + city\n",
    "\n",
    "print(country_city(\"Pakistan\", \"Islamabad\"))\n",
    "print(country_city(\"Saudi Arabia\", \"Jeddah\"))\n",
    "print(country_city(\"Turkey\", \"Istanbol\"))"
   ]
  },
  {
   "cell_type": "code",
   "execution_count": 4,
   "metadata": {},
   "outputs": [
    {
     "name": "stdout",
     "output_type": "stream",
     "text": [
      "The size of shirt is: 40 and message is: Islam is the Best Religion\n",
      "The size of shirt is: 36 and message is: Islam is the Best Religion\n"
     ]
    }
   ],
   "source": [
    "def make_shirt(size, message):\n",
    "    print(f\"The size of shirt is: {size} and message is: {message}\")\n",
    "\n",
    "make_shirt(40, \"Islam is the Best Religion\")\n",
    "make_shirt(message=\"Islam is the Best Religion\", size=36)"
   ]
  },
  {
   "cell_type": "code",
   "execution_count": 6,
   "metadata": {},
   "outputs": [
    {
     "name": "stdout",
     "output_type": "stream",
     "text": [
      "The Islamabad is in Pakistan\n",
      "The Karachi is in Pakistan\n",
      "The Jeddah is in Saudia Arabia\n",
      "The Delhi is in India\n"
     ]
    }
   ],
   "source": [
    "def describe_city(city, country=\"Pakistan\"):\n",
    "    print(f\"The {city} is in {country}\")\n",
    "\n",
    "describe_city(\"Islamabad\")\n",
    "describe_city(\"Karachi\")\n",
    "describe_city(\"Jeddah\", \"Saudia Arabia\")\n",
    "describe_city(country=\"India\", city=\"Delhi\")"
   ]
  },
  {
   "cell_type": "code",
   "execution_count": 12,
   "metadata": {},
   "outputs": [
    {
     "name": "stdout",
     "output_type": "stream",
     "text": [
      "Enter a number you want to find factorial: 6\n",
      "Factorial of 6: 720\n"
     ]
    }
   ],
   "source": [
    "def fact(n):\n",
    "    if n == 0:\n",
    "        return 1\n",
    "    return n * fact(n-1)\n",
    "    \n",
    "num = int(input(\"Enter a number you want to find factorial: \"))\n",
    "print(f\"Factorial of {num}: {fact(num)}\")"
   ]
  },
  {
   "cell_type": "code",
   "execution_count": 2,
   "metadata": {},
   "outputs": [
    {
     "name": "stdout",
     "output_type": "stream",
     "text": [
      "Enter the range of fibonacci series: 6\n",
      "Fibonacci series till 6 digits:\n",
      "1 1 2 3 5 8 13 21 "
     ]
    }
   ],
   "source": [
    "def fibonacci(n):\n",
    "    a = 1\n",
    "    b = 1\n",
    "    print(a, b, sep=\" \", end=\" \")\n",
    "    for i in range(n):\n",
    "        a, b = b, a+b\n",
    "        print(b, end=\" \")\n",
    "\n",
    "num = int(input(\"Enter the range of fibonacci series: \"))\n",
    "print(f\"Fibonacci series till {num} digits:\")\n",
    "fibonacci(num)"
   ]
  },
  {
   "cell_type": "code",
   "execution_count": 6,
   "metadata": {},
   "outputs": [
    {
     "name": "stdout",
     "output_type": "stream",
     "text": [
      "Enter the range of fibonacci series: 5\n",
      "Fibonacci series till 5 digits:\n"
     ]
    },
    {
     "ename": "TypeError",
     "evalue": "fibonacci() takes 1 positional argument but 2 were given",
     "output_type": "error",
     "traceback": [
      "\u001b[1;31m---------------------------------------------------------------------------\u001b[0m",
      "\u001b[1;31mTypeError\u001b[0m                                 Traceback (most recent call last)",
      "\u001b[1;32m<ipython-input-6-2dd3060f046f>\u001b[0m in \u001b[0;36m<module>\u001b[1;34m\u001b[0m\n\u001b[0;32m      9\u001b[0m \u001b[0mnum\u001b[0m \u001b[1;33m=\u001b[0m \u001b[0mint\u001b[0m\u001b[1;33m(\u001b[0m\u001b[0minput\u001b[0m\u001b[1;33m(\u001b[0m\u001b[1;34m\"Enter the range of fibonacci series: \"\u001b[0m\u001b[1;33m)\u001b[0m\u001b[1;33m)\u001b[0m\u001b[1;33m\u001b[0m\u001b[1;33m\u001b[0m\u001b[0m\n\u001b[0;32m     10\u001b[0m \u001b[0mprint\u001b[0m\u001b[1;33m(\u001b[0m\u001b[1;34mf\"Fibonacci series till {num} digits:\"\u001b[0m\u001b[1;33m)\u001b[0m\u001b[1;33m\u001b[0m\u001b[1;33m\u001b[0m\u001b[0m\n\u001b[1;32m---> 11\u001b[1;33m \u001b[0mfibonacci\u001b[0m\u001b[1;33m(\u001b[0m\u001b[0mnum\u001b[0m\u001b[1;33m,\u001b[0m \u001b[0mn\u001b[0m\u001b[1;33m)\u001b[0m\u001b[1;33m\u001b[0m\u001b[1;33m\u001b[0m\u001b[0m\n\u001b[0m",
      "\u001b[1;31mTypeError\u001b[0m: fibonacci() takes 1 positional argument but 2 were given"
     ]
    }
   ],
   "source": [
    "def fibonacci(n):\n",
    "    a, b = 0, 1\n",
    "    for i in range(n):\n",
    "        print(a, end= \" \")\n",
    "        a, b = b, a+b\n",
    "    print(n, num)\n",
    "    \n",
    "num = int(input(\"Enter the range of fibonacci series: \"))\n",
    "print(f\"Fibonacci series till {num} digits:\")\n",
    "fibonacci(num, n)"
   ]
  },
  {
   "cell_type": "code",
   "execution_count": 35,
   "metadata": {},
   "outputs": [
    {
     "name": "stdout",
     "output_type": "stream",
     "text": [
      "Enter the range of fibonacci series: 10\n",
      "Fibonacci series till 10 digits:\n",
      "0 1 1 2 3 5 8 13 21 34 "
     ]
    }
   ],
   "source": [
    "a, b= 0, 1\n",
    "def fibonacci(n):\n",
    "    if n == 0:\n",
    "        return 1\n",
    "    global a, b\n",
    "    print(a, end=\" \")\n",
    "    a, b = b, a+b\n",
    "    fibonacci(n-1)\n",
    "\n",
    "num = int(input(\"Enter the range of fibonacci series: \"))\n",
    "print(f\"Fibonacci series till {num} digits:\")\n",
    "fibonacci(num)"
   ]
  },
  {
   "cell_type": "code",
   "execution_count": 36,
   "metadata": {},
   "outputs": [
    {
     "name": "stdout",
     "output_type": "stream",
     "text": [
      "Enter limit: 10\n",
      "2\n",
      "3\n",
      "5\n",
      "7\n"
     ]
    }
   ],
   "source": [
    "def prime_numbers(number):\n",
    "    for num in range(2, number+1):\n",
    "        #if num > 1: # No need to check here as num will always be >= 2\n",
    "      for i in range(2, num):\n",
    "        if (num % i) == 0:\n",
    "          break\n",
    "      else:\n",
    "        print(num)\n",
    "num = int(input(\"Enter limit: \"))         \n",
    "prime_numbers(num)\n"
   ]
  },
  {
   "cell_type": "code",
   "execution_count": 37,
   "metadata": {},
   "outputs": [
    {
     "name": "stdout",
     "output_type": "stream",
     "text": [
      "How many elements you enter: 4\n",
      "[1, 2, 3, 4]\n",
      "[1, 4, 9, 16]\n"
     ]
    }
   ],
   "source": [
    "def square_list(lst):\n",
    "    blist = []\n",
    "    for i in lst:\n",
    "        blist.append(i*i)\n",
    "    return blist\n",
    "    \n",
    "    \n",
    "n = int(input(\"How many elements you enter: \"))\n",
    "alist = []\n",
    "for i in range(1, n+1):\n",
    "    alist.append(i)\n",
    "print(alist)\n",
    "print(square_list(alist))"
   ]
  },
  {
   "cell_type": "code",
   "execution_count": 4,
   "metadata": {},
   "outputs": [
    {
     "name": "stdout",
     "output_type": "stream",
     "text": [
      "1\n",
      "1\n"
     ]
    }
   ],
   "source": [
    "def whatever():\n",
    "    print(y)\n",
    "y = 1\n",
    "whatever()\n",
    "print(y)"
   ]
  },
  {
   "cell_type": "code",
   "execution_count": 19,
   "metadata": {},
   "outputs": [
    {
     "ename": "SyntaxError",
     "evalue": "invalid syntax (<ipython-input-19-e7d6e1b99b52>, line 1)",
     "output_type": "error",
     "traceback": [
      "\u001b[1;36m  File \u001b[1;32m\"<ipython-input-19-e7d6e1b99b52>\"\u001b[1;36m, line \u001b[1;32m1\u001b[0m\n\u001b[1;33m    def f(*a=0, b, *y):\u001b[0m\n\u001b[1;37m            ^\u001b[0m\n\u001b[1;31mSyntaxError\u001b[0m\u001b[1;31m:\u001b[0m invalid syntax\n"
     ]
    }
   ],
   "source": [
    "def f():\n",
    "    print(\"hi\")\n",
    "\n",
    "f(\"there\", \"8\")\n"
   ]
  },
  {
   "cell_type": "code",
   "execution_count": 11,
   "metadata": {},
   "outputs": [
    {
     "name": "stdout",
     "output_type": "stream",
     "text": [
      "5\n",
      "2 5\n"
     ]
    }
   ],
   "source": [
    "\n",
    "def A_function(Var1):\n",
    "    print(Var1)\n",
    "    Var1 = 2\n",
    "    print(Var1, Var2)\n",
    "Var2 = 5\n",
    "A_function(Var2)"
   ]
  },
  {
   "cell_type": "code",
   "execution_count": 2,
   "metadata": {},
   "outputs": [
    {
     "name": "stdout",
     "output_type": "stream",
     "text": [
      "1  string\n",
      "2 string\n",
      "3 tring\n",
      "4 ring\n"
     ]
    }
   ],
   "source": [
    "A = \"a string\"\n",
    "B = \"t\"\n",
    "C = 0\n",
    "while B in A:\n",
    "    C += 1\n",
    "    print(C, sep=\" \", end=\" \")\n",
    "    A = A[1:]\n",
    "    print (A)"
   ]
  },
  {
   "cell_type": "code",
   "execution_count": 10,
   "metadata": {},
   "outputs": [
    {
     "name": "stdout",
     "output_type": "stream",
     "text": [
      "[1, 2, 3, 4]\n",
      "[1, 2, 3, 4, '5']\n",
      "False\n"
     ]
    }
   ],
   "source": [
    "def lf(j):\n",
    "    v = list(j)\n",
    "    v.append(\"5\")\n",
    "    return v\n",
    "\n",
    "l =[1,2,3,4]\n",
    "k = lf(l)\n",
    "print(l)\n",
    "print(k)\n",
    "print(l is k)"
   ]
  },
  {
   "cell_type": "code",
   "execution_count": 13,
   "metadata": {},
   "outputs": [
    {
     "name": "stdout",
     "output_type": "stream",
     "text": [
      "(1, 2, 3)\n"
     ]
    }
   ],
   "source": [
    "def abc(*l1):\n",
    "    print(l1)\n",
    "\n",
    "l1=[1,2,3]\n",
    "l2=[4,5,6]\n",
    "a=7\n",
    "b=8\n",
    "c=9\n",
    "abc(*l1)\n"
   ]
  },
  {
   "cell_type": "code",
   "execution_count": null,
   "metadata": {},
   "outputs": [],
   "source": []
  }
 ],
 "metadata": {
  "kernelspec": {
   "display_name": "Python 3",
   "language": "python",
   "name": "python3"
  },
  "language_info": {
   "codemirror_mode": {
    "name": "ipython",
    "version": 3
   },
   "file_extension": ".py",
   "mimetype": "text/x-python",
   "name": "python",
   "nbconvert_exporter": "python",
   "pygments_lexer": "ipython3",
   "version": "3.8.3"
  }
 },
 "nbformat": 4,
 "nbformat_minor": 4
}
