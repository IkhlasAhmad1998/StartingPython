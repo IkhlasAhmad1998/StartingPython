{
 "cells": [
  {
   "cell_type": "markdown",
   "metadata": {},
   "source": [
    "Take three numbers from user  \n",
    "then arrange them in ascending or desending order"
   ]
  },
  {
   "cell_type": "code",
   "execution_count": 5,
   "metadata": {},
   "outputs": [
    {
     "name": "stdout",
     "output_type": "stream",
     "text": [
      "Enter number1: 5\n",
      "Enter number2: 8\n",
      "Enter number3: 5\n",
      "Enter number1: 9\n",
      "Enter number2: 8\n",
      "Enter number3: 7\n",
      "9 > 8 > 7\n"
     ]
    }
   ],
   "source": [
    "num1 = int(input(\"Enter number1: \"))\n",
    "num2 = int(input('Enter number2: '))\n",
    "num3 = int(input('Enter number3: '))\n",
    "\n",
    "if num1==num2 or num1==num3 or num2==num3:\n",
    "    num1 = int(input(\"Enter number1: \"))\n",
    "    num2 = int(input('Enter number2: '))\n",
    "    num3 = int(input('Enter number3: '))\n",
    "\n",
    "if num1>num2 and num1>num3:\n",
    "    if num2>num3:\n",
    "        print(\"{} > {} > {}\".format(num1, num2, num3))\n",
    "    else:\n",
    "        print(\"{} > {} > {}\".format(num1, num3, num2))\n",
    "\n",
    "elif num2>num1 and num2>num3:\n",
    "    if num1>num3:\n",
    "        print(\"{} > {} > {}\".format(num2, num1, num3))\n",
    "    else:\n",
    "        print(\"{} > {} > {}\".format(num2, num3, num1))\n",
    "\n",
    "else:\n",
    "    if num1>num2:\n",
    "        print(\"{} > {} > {}\".format(num3, num1, num2))\n",
    "    else:\n",
    "        print(\"{} > {} > {}\".format(num3, num2, num1))"
   ]
  },
  {
   "cell_type": "code",
   "execution_count": 19,
   "metadata": {},
   "outputs": [
    {
     "name": "stdout",
     "output_type": "stream",
     "text": [
      "True\n",
      "False\n",
      "True\n"
     ]
    }
   ],
   "source": [
    "# in\n",
    "# string in iterator\n",
    "print(\"7\" in \"127\")\n",
    "print(\"8\" in \"127\")\n",
    "print(2 == 2)"
   ]
  },
  {
   "cell_type": "markdown",
   "metadata": {},
   "source": [
    "# Loops  \n",
    "\n",
    "1. for loop  \n",
    "2. while loop  "
   ]
  },
  {
   "cell_type": "code",
   "execution_count": 18,
   "metadata": {},
   "outputs": [
    {
     "name": "stdout",
     "output_type": "stream",
     "text": [
      "5\n",
      "6\n",
      "7\n",
      "8\n",
      "9\n",
      "10\n"
     ]
    }
   ],
   "source": [
    "for i in range(5, 11):\n",
    "    print(i)"
   ]
  },
  {
   "cell_type": "code",
   "execution_count": 21,
   "metadata": {},
   "outputs": [
    {
     "name": "stdout",
     "output_type": "stream",
     "text": [
      "0\n",
      "3\n",
      "6\n",
      "9\n"
     ]
    }
   ],
   "source": [
    "for i in range(0, 10, 3):\n",
    "    print(i)"
   ]
  },
  {
   "cell_type": "code",
   "execution_count": 23,
   "metadata": {
    "scrolled": true
   },
   "outputs": [
    {
     "name": "stdout",
     "output_type": "stream",
     "text": [
      "10\n",
      "9\n",
      "8\n",
      "7\n",
      "6\n",
      "5\n",
      "4\n",
      "3\n",
      "2\n"
     ]
    }
   ],
   "source": [
    "for i in range(10, 1, -1):\n",
    "    print(i)"
   ]
  },
  {
   "cell_type": "code",
   "execution_count": 27,
   "metadata": {},
   "outputs": [
    {
     "name": "stdout",
     "output_type": "stream",
     "text": [
      "5 x 1 = 5\n",
      "5 x 2 = 10\n",
      "5 x 3 = 15\n",
      "5 x 4 = 20\n",
      "5 x 5 = 25\n",
      "5 x 6 = 30\n",
      "5 x 7 = 35\n",
      "5 x 8 = 40\n",
      "5 x 9 = 45\n",
      "5 x 10 = 50\n"
     ]
    }
   ],
   "source": [
    "# 5 x 1 = 5\n",
    "# 5 x 2 = 10\n",
    "# ....\n",
    "# 5 x 10 = 50\n",
    "\n",
    "for i in range(1, 11):\n",
    "    print(\"5 x {} = {}\".format(i, i*5))"
   ]
  },
  {
   "cell_type": "code",
   "execution_count": 29,
   "metadata": {},
   "outputs": [
    {
     "name": "stdout",
     "output_type": "stream",
     "text": [
      "Enter number for table: 55\n",
      "55 x 1 = 55\n",
      "55 x 2 = 110\n",
      "55 x 3 = 165\n",
      "55 x 4 = 220\n",
      "55 x 5 = 275\n",
      "55 x 6 = 330\n",
      "55 x 7 = 385\n",
      "55 x 8 = 440\n",
      "55 x 9 = 495\n",
      "55 x 10 = 550\n"
     ]
    }
   ],
   "source": [
    "x = int(input('Enter number for table: '))\n",
    "for i in range(1, 11):\n",
    "    print(\"{} x {} = {}\".format(x, i, x*i))"
   ]
  },
  {
   "cell_type": "markdown",
   "metadata": {},
   "source": [
    "# Task  \n",
    "take a number from user to print the table  \n",
    "take range of table from user"
   ]
  },
  {
   "cell_type": "markdown",
   "metadata": {},
   "source": [
    "# Data Structure\n",
    "List: hetrogenous data and mutable  "
   ]
  },
  {
   "cell_type": "code",
   "execution_count": 30,
   "metadata": {},
   "outputs": [
    {
     "name": "stdout",
     "output_type": "stream",
     "text": [
      "<class 'list'>\n"
     ]
    }
   ],
   "source": [
    "l = []\n",
    "print(type(l))"
   ]
  },
  {
   "cell_type": "code",
   "execution_count": 31,
   "metadata": {},
   "outputs": [
    {
     "name": "stdout",
     "output_type": "stream",
     "text": [
      "[1, 2, 3, 4, 5, 6, 'a', 'b', 'c', 5.5]\n"
     ]
    }
   ],
   "source": [
    "l = [1,2,3,4,5,6,'a', 'b', 'c', 5.5]\n",
    "print(l)"
   ]
  },
  {
   "cell_type": "code",
   "execution_count": 32,
   "metadata": {},
   "outputs": [
    {
     "name": "stdout",
     "output_type": "stream",
     "text": [
      "5\n"
     ]
    }
   ],
   "source": [
    "fruits = ['mango', 'apple', 'orange', 'grapes', 'banana']\n",
    "print(len(fruits))"
   ]
  },
  {
   "cell_type": "markdown",
   "metadata": {},
   "source": [
    "   0         1        2          3        4  \n",
    "['mango', 'apple', 'orange', 'grapes', 'banana']\n",
    "  -5        -4         -3           -2          -1"
   ]
  },
  {
   "cell_type": "code",
   "execution_count": 36,
   "metadata": {},
   "outputs": [
    {
     "name": "stdout",
     "output_type": "stream",
     "text": [
      "banana\n",
      "banana\n"
     ]
    }
   ],
   "source": [
    "# getting values by index is called indexing\n",
    "print(fruits[4])\n",
    "print(fruits[-1])\n",
    "print(fruits[0])\n",
    "print(fruits[1])\n",
    "print(fruits[2])"
   ]
  },
  {
   "cell_type": "code",
   "execution_count": 38,
   "metadata": {},
   "outputs": [
    {
     "name": "stdout",
     "output_type": "stream",
     "text": [
      "mango\n",
      "apple\n",
      "orange\n",
      "grapes\n",
      "banana\n"
     ]
    }
   ],
   "source": [
    "for i in range(5):\n",
    "    print(fruits[i])"
   ]
  },
  {
   "cell_type": "code",
   "execution_count": 57,
   "metadata": {},
   "outputs": [
    {
     "name": "stdout",
     "output_type": "stream",
     "text": [
      "['mango', 'orange', 'banana']\n",
      "['banana', 'grapes', 'orange']\n",
      "['mango', 'apple', 'orange', 'grapes', 'banana']\n",
      "['grapes', 'banana']\n",
      "['mango', 'apple', 'orange']\n",
      "['banana', 'grapes', 'orange', 'apple', 'mango']\n",
      "grapes\n",
      "grapes\n"
     ]
    }
   ],
   "source": [
    "# Slicing\n",
    "# print(fruits[0], fruits[1])\n",
    "print(fruits[0:5:2])\n",
    "print(fruits[4:1:-1])\n",
    "print(fruits[:])\n",
    "print(fruits[3:])\n",
    "print(fruits[:3])\n",
    "print(fruits[::-1])\n",
    "print(fruits[-2])\n",
    "print(fruits[3])"
   ]
  },
  {
   "cell_type": "code",
   "execution_count": 60,
   "metadata": {},
   "outputs": [
    {
     "name": "stdout",
     "output_type": "stream",
     "text": [
      "['mango', 'apple', 'orange', 'grapes', 'banana']\n",
      "['mango', 'apple', 'orange', 'grapes', 'banana', 'guava']\n"
     ]
    }
   ],
   "source": [
    "print(fruits)\n",
    "fruits.append(\"guava\")\n",
    "print(fruits)"
   ]
  },
  {
   "cell_type": "code",
   "execution_count": 61,
   "metadata": {},
   "outputs": [
    {
     "name": "stdout",
     "output_type": "stream",
     "text": [
      "['mango', 'apple', 'orange', 'grapes', 'banana', 'guava', 'berris']\n"
     ]
    }
   ],
   "source": [
    "fruits.append(\"berris\")\n",
    "print(fruits)"
   ]
  },
  {
   "cell_type": "code",
   "execution_count": 62,
   "metadata": {},
   "outputs": [
    {
     "name": "stdout",
     "output_type": "stream",
     "text": [
      "['mango', 'apple', 'orange', 'grapes', 'banana', 'guava', 'berries']\n"
     ]
    }
   ],
   "source": [
    "fruits[-1] = 'berries'\n",
    "print(fruits)"
   ]
  },
  {
   "cell_type": "code",
   "execution_count": 65,
   "metadata": {},
   "outputs": [],
   "source": [
    "fruits.insert(5, \"abc\")"
   ]
  },
  {
   "cell_type": "code",
   "execution_count": 66,
   "metadata": {},
   "outputs": [
    {
     "name": "stdout",
     "output_type": "stream",
     "text": [
      "['abc', 'mango', 'apple', 'orange', 'grapes', 'abc', 'banana', 'guava', 'berries']\n"
     ]
    }
   ],
   "source": [
    "print(fruits)"
   ]
  },
  {
   "cell_type": "code",
   "execution_count": 67,
   "metadata": {},
   "outputs": [
    {
     "name": "stdout",
     "output_type": "stream",
     "text": [
      "['abc', 'mango', 'apple', 'orange', 'grapes', 'abc', 'banana', 'xyz', 'guava', 'berries']\n"
     ]
    }
   ],
   "source": [
    "fruits.insert(7, 'xyz')\n",
    "print(fruits)"
   ]
  },
  {
   "cell_type": "code",
   "execution_count": 69,
   "metadata": {},
   "outputs": [
    {
     "ename": "SyntaxError",
     "evalue": "invalid syntax (<ipython-input-69-120a0b68e9d0>, line 1)",
     "output_type": "error",
     "traceback": [
      "\u001b[1;36m  File \u001b[1;32m\"<ipython-input-69-120a0b68e9d0>\"\u001b[1;36m, line \u001b[1;32m1\u001b[0m\n\u001b[1;33m    fruits.insert(, 'xyz')\u001b[0m\n\u001b[1;37m                  ^\u001b[0m\n\u001b[1;31mSyntaxError\u001b[0m\u001b[1;31m:\u001b[0m invalid syntax\n"
     ]
    }
   ],
   "source": [
    "fruits.insert(, 'xyz')\n",
    "print(fruits)"
   ]
  },
  {
   "cell_type": "code",
   "execution_count": 70,
   "metadata": {},
   "outputs": [
    {
     "name": "stdout",
     "output_type": "stream",
     "text": [
      "['abc', 'mango', 'apple', 'orange', 'grapes', 'abc', 'banana', 'xyz', 'guava', 'berries', ['a', 'b', 'c', 'd', 'e']]\n"
     ]
    }
   ],
   "source": [
    "# \"a\", \"b\", \"c\", \"d\", \"e\"\n",
    "values = ['a', 'b', 'c', 'd', 'e']\n",
    "fruits.append(values)\n",
    "print(fruits)"
   ]
  },
  {
   "cell_type": "code",
   "execution_count": 71,
   "metadata": {},
   "outputs": [
    {
     "name": "stdout",
     "output_type": "stream",
     "text": [
      "['abc', 'mango', 'apple', 'orange', 'grapes', 'abc', 'banana', 'xyz', 'guava', 'berries', ['a', 'b', 'c', 'd', 'e'], 'a', 'b', 'c', 'd', 'e']\n"
     ]
    }
   ],
   "source": [
    "fruits.extend(values)\n",
    "print(fruits)"
   ]
  },
  {
   "cell_type": "code",
   "execution_count": 74,
   "metadata": {},
   "outputs": [],
   "source": [
    "fruits.extend((2,3,4,5))"
   ]
  },
  {
   "cell_type": "code",
   "execution_count": 75,
   "metadata": {},
   "outputs": [
    {
     "name": "stdout",
     "output_type": "stream",
     "text": [
      "['abc', 'mango', 'apple', 'orange', 'grapes', 'abc', 'banana', 'xyz', 'guava', 'berries', ['a', 'b', 'c', 'd', 'e'], 'a', 'b', 'c', 'd', 'e', 2, 3, 4, 5]\n"
     ]
    }
   ],
   "source": [
    "print(fruits)"
   ]
  },
  {
   "cell_type": "code",
   "execution_count": 76,
   "metadata": {},
   "outputs": [
    {
     "name": "stdout",
     "output_type": "stream",
     "text": [
      "['abc', 'mango', 'apple', 'orange', 'grapes', 'abc', 'banana', 'xyz', 'guava', 'berries', ['a', 'b', 'c', 'd', 'e'], 'a', 'b', 'c', 'd', 'e', 2, 3, 4, 5]\n"
     ]
    }
   ],
   "source": [
    "n = fruits.copy()\n",
    "print(n)"
   ]
  },
  {
   "cell_type": "code",
   "execution_count": 77,
   "metadata": {},
   "outputs": [
    {
     "name": "stdout",
     "output_type": "stream",
     "text": [
      "[]\n"
     ]
    }
   ],
   "source": [
    "n.clear()\n",
    "print(n)"
   ]
  },
  {
   "cell_type": "code",
   "execution_count": 79,
   "metadata": {},
   "outputs": [
    {
     "name": "stdout",
     "output_type": "stream",
     "text": [
      "['abc', 'mango', 'apple', 'orange', 'grapes', 'abc', 'banana', 'xyz', 'guava', 'berries', ['a', 'b', 'c', 'd', 'e'], 'a', 'b', 'c', 'd', 'e', 2, 3, 4, 5]\n",
      "7\n"
     ]
    }
   ],
   "source": [
    "print(fruits)\n",
    "print(fruits.index('xyz'))"
   ]
  },
  {
   "cell_type": "code",
   "execution_count": 81,
   "metadata": {},
   "outputs": [],
   "source": [
    "fruits.remove(\"abc\")"
   ]
  },
  {
   "cell_type": "code",
   "execution_count": 82,
   "metadata": {},
   "outputs": [
    {
     "name": "stdout",
     "output_type": "stream",
     "text": [
      "['mango', 'apple', 'orange', 'grapes', 'abc', 'banana', 'xyz', 'guava', 'berries', ['a', 'b', 'c', 'd', 'e'], 'a', 'b', 'c', 'd', 'e', 2, 3, 4, 5]\n"
     ]
    }
   ],
   "source": [
    "print(fruits)"
   ]
  },
  {
   "cell_type": "code",
   "execution_count": 84,
   "metadata": {},
   "outputs": [
    {
     "name": "stdout",
     "output_type": "stream",
     "text": [
      "6\n",
      "['mango', 'apple', 'orange', 'grapes', 'abc', 'banana', 'guava', 'berries', ['a', 'b', 'c', 'd', 'e'], 'a', 'b', 'c', 'd', 'e', 2, 3, 4, 5]\n"
     ]
    }
   ],
   "source": [
    "print(fruits.index('xyz'))\n",
    "del fruits[6]\n",
    "print(fruits)"
   ]
  },
  {
   "cell_type": "code",
   "execution_count": 85,
   "metadata": {},
   "outputs": [
    {
     "name": "stdout",
     "output_type": "stream",
     "text": [
      "['mango', 'apple', 'orange', 'grapes', 'abc', 'banana', 'guava', 'berries', ['a', 'b', 'c', 'd', 'e'], 'a', 'b', 'c', 'd', 'e', 2, 3, 4]\n"
     ]
    }
   ],
   "source": [
    "fruits.pop()\n",
    "print(fruits)"
   ]
  },
  {
   "cell_type": "code",
   "execution_count": 89,
   "metadata": {},
   "outputs": [
    {
     "name": "stdout",
     "output_type": "stream",
     "text": [
      "['mango', 'apple', 'orange', 'grapes', 'abc', 'guava', 'berries', ['a', 'b', 'c', 'd', 'e'], 'a', 'b', 'c', 'd', 'e', 2, 3]\n"
     ]
    }
   ],
   "source": [
    "print(fruits)"
   ]
  },
  {
   "cell_type": "code",
   "execution_count": 88,
   "metadata": {},
   "outputs": [
    {
     "name": "stdout",
     "output_type": "stream",
     "text": [
      "banana\n"
     ]
    }
   ],
   "source": [
    "a = fruits.pop(5)\n",
    "print(a)"
   ]
  },
  {
   "cell_type": "code",
   "execution_count": 92,
   "metadata": {},
   "outputs": [
    {
     "name": "stdout",
     "output_type": "stream",
     "text": [
      "1\n"
     ]
    }
   ],
   "source": [
    "print(fruits.count('apple'))"
   ]
  },
  {
   "cell_type": "code",
   "execution_count": 97,
   "metadata": {},
   "outputs": [
    {
     "name": "stdout",
     "output_type": "stream",
     "text": [
      "[3, 2, 'e', 'd', 'c', 'b', 'a', ['a', 'b', 'c', 'd', 'e'], 'berries', 'guava', 'abc', 'grapes', 'orange', 'apple', 'mango']\n"
     ]
    }
   ],
   "source": [
    "fruits.reverse()\n",
    "print(fruits)"
   ]
  },
  {
   "cell_type": "code",
   "execution_count": 98,
   "metadata": {},
   "outputs": [
    {
     "name": "stdout",
     "output_type": "stream",
     "text": [
      "[0, 1, 2, 3, 4, 5, 6, 7, 8, 9]\n"
     ]
    }
   ],
   "source": [
    "l = [1,3,5,2,4,9,7,8,6,0]\n",
    "l.sort()\n",
    "print(l)"
   ]
  },
  {
   "cell_type": "code",
   "execution_count": 100,
   "metadata": {},
   "outputs": [
    {
     "name": "stdout",
     "output_type": "stream",
     "text": [
      "[9, 8, 7, 6, 5, 4, 3, 2, 1, 0]\n"
     ]
    }
   ],
   "source": [
    "l.sort(reverse=True)\n",
    "print(l)"
   ]
  }
 ],
 "metadata": {
  "kernelspec": {
   "display_name": "Python 3",
   "language": "python",
   "name": "python3"
  },
  "language_info": {
   "codemirror_mode": {
    "name": "ipython",
    "version": 3
   },
   "file_extension": ".py",
   "mimetype": "text/x-python",
   "name": "python",
   "nbconvert_exporter": "python",
   "pygments_lexer": "ipython3",
   "version": "3.8.3"
  }
 },
 "nbformat": 4,
 "nbformat_minor": 4
}
