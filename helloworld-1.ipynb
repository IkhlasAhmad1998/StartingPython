{
 "cells": [
  {
   "cell_type": "code",
   "execution_count": 4,
   "metadata": {},
   "outputs": [
    {
     "name": "stdout",
     "output_type": "stream",
     "text": [
      "printed 123 456\n",
      "prInted\n",
      "i am in  Mansehra  12345765798792498\n"
     ]
    }
   ],
   "source": [
    "print('printed 123 456')\n",
    "print(\"prInted\")\n",
    "print(\"i am in \", \"Mansehra\", \" 12345765798792498\")\n"
   ]
  },
  {
   "cell_type": "markdown",
   "metadata": {},
   "source": [
    "Data types in python\n",
    "1: int----------- 0-9\n",
    "2: float -------- 0.0 - 9.0         56.9\n",
    "3: char ---------- a, b, y\n",
    "4: string --------- ikhlas, mansehra\n",
    "\n",
    "\n",
    "int x;\n",
    "x=10;\n",
    "\n",
    "float x;\n",
    "x=7.9;\n",
    "\n",
    "char"
   ]
  },
  {
   "cell_type": "code",
   "execution_count": 8,
   "metadata": {},
   "outputs": [
    {
     "name": "stdout",
     "output_type": "stream",
     "text": [
      "x\n"
     ]
    },
    {
     "ename": "NameError",
     "evalue": "name 'y' is not defined",
     "output_type": "error",
     "traceback": [
      "\u001b[1;31m---------------------------------------------------------------------------\u001b[0m",
      "\u001b[1;31mNameError\u001b[0m                                 Traceback (most recent call last)",
      "\u001b[1;32m<ipython-input-8-9af58a865050>\u001b[0m in \u001b[0;36m<module>\u001b[1;34m\u001b[0m\n\u001b[0;32m      1\u001b[0m \u001b[0mx\u001b[0m \u001b[1;33m=\u001b[0m \u001b[1;36m10\u001b[0m\u001b[1;33m\u001b[0m\u001b[1;33m\u001b[0m\u001b[0m\n\u001b[0;32m      2\u001b[0m \u001b[0mprint\u001b[0m\u001b[1;33m(\u001b[0m\u001b[1;34m\"x\"\u001b[0m\u001b[1;33m)\u001b[0m\u001b[1;33m\u001b[0m\u001b[1;33m\u001b[0m\u001b[0m\n\u001b[1;32m----> 3\u001b[1;33m \u001b[0mprint\u001b[0m\u001b[1;33m(\u001b[0m\u001b[0my\u001b[0m\u001b[1;33m)\u001b[0m\u001b[1;33m\u001b[0m\u001b[1;33m\u001b[0m\u001b[0m\n\u001b[0m\u001b[0;32m      4\u001b[0m \u001b[0mprint\u001b[0m\u001b[1;33m(\u001b[0m\u001b[0mx\u001b[0m\u001b[1;33m)\u001b[0m\u001b[1;33m\u001b[0m\u001b[1;33m\u001b[0m\u001b[0m\n",
      "\u001b[1;31mNameError\u001b[0m: name 'y' is not defined"
     ]
    }
   ],
   "source": [
    "x = 10\n",
    "print(\"x\")\n",
    "print(y)\n",
    "print(x)"
   ]
  },
  {
   "cell_type": "code",
   "execution_count": 12,
   "metadata": {},
   "outputs": [
    {
     "name": "stdout",
     "output_type": "stream",
     "text": [
      "<class 'int'>\n",
      "<class 'str'>\n",
      "<class 'float'>\n"
     ]
    }
   ],
   "source": [
    "# type()\n",
    "print(type(x))\n",
    "y = \"10.5\"\n",
    "print(type(y))\n",
    "z = 10.5\n",
    "print(type(z))"
   ]
  },
  {
   "cell_type": "code",
   "execution_count": 20,
   "metadata": {},
   "outputs": [
    {
     "name": "stdout",
     "output_type": "stream",
     "text": [
      "ikhlas\n",
      "ikhlas\n",
      "junaid\n"
     ]
    }
   ],
   "source": [
    "## Variable names\n",
    "name = \"ikhlas\"\n",
    "print(name)\n",
    "na2me45335 = \"ikhlas\"\n",
    "print(na2me45335)\n",
    "my_name = 'ikhlas'\n",
    "_name = 'junaid'\n",
    "print(_name)\n",
    "Name = 'ikhlas'"
   ]
  },
  {
   "cell_type": "code",
   "execution_count": 22,
   "metadata": {},
   "outputs": [
    {
     "name": "stdout",
     "output_type": "stream",
     "text": [
      "Ikhlas\n",
      "Ahmad\n"
     ]
    }
   ],
   "source": [
    "name = \"Ikhlas\"\n",
    "Name = 'Ahmad'\n",
    "print(name)\n",
    "print(Name)"
   ]
  },
  {
   "cell_type": "code",
   "execution_count": 25,
   "metadata": {},
   "outputs": [
    {
     "name": "stdout",
     "output_type": "stream",
     "text": [
      "Your name is:  Ikhlas Ahmad\n"
     ]
    }
   ],
   "source": [
    "name = 'Ikhlas Ahmad'\n",
    "print(\"Your name is: \", name)"
   ]
  },
  {
   "cell_type": "code",
   "execution_count": 28,
   "metadata": {},
   "outputs": [
    {
     "name": "stdout",
     "output_type": "stream",
     "text": [
      "Ikhlas Ahmad  age is:  22  years\n"
     ]
    }
   ],
   "source": [
    "age = 22\n",
    "print(name, \" age is: \", age, ' years')"
   ]
  },
  {
   "cell_type": "code",
   "execution_count": 6,
   "metadata": {},
   "outputs": [
    {
     "name": "stdout",
     "output_type": "stream",
     "text": [
      "Enter your name:\n",
      "ikhlas\n",
      "Enter your age: \n",
      "22\n",
      "Your name is  ikhlas\n",
      "Your age is  22\n",
      "\n",
      "ikhlas  your age is  22  years\n"
     ]
    }
   ],
   "source": [
    "# input()\n",
    "print(\"Enter your name:\")\n",
    "name = input()\n",
    "print(\"Enter your age: \")\n",
    "age = input()\n",
    "print(\"Your name is \", name)\n",
    "print(\"Your age is \", age)\n",
    "print()\n",
    "print(name, \" your age is \", age, \" years\")"
   ]
  },
  {
   "cell_type": "markdown",
   "metadata": {},
   "source": [
    "ikhlas your age is 22 years"
   ]
  },
  {
   "cell_type": "code",
   "execution_count": null,
   "metadata": {},
   "outputs": [],
   "source": [
    "# ikhlas\n",
    "# ahmad\n",
    "# studying"
   ]
  }
 ],
 "metadata": {
  "kernelspec": {
   "display_name": "Python 3",
   "language": "python",
   "name": "python3"
  },
  "language_info": {
   "codemirror_mode": {
    "name": "ipython",
    "version": 3
   },
   "file_extension": ".py",
   "mimetype": "text/x-python",
   "name": "python",
   "nbconvert_exporter": "python",
   "pygments_lexer": "ipython3",
   "version": "3.8.3"
  }
 },
 "nbformat": 4,
 "nbformat_minor": 4
}
