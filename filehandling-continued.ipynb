{
 "cells": [
  {
   "cell_type": "code",
   "execution_count": 1,
   "metadata": {},
   "outputs": [
    {
     "name": "stdout",
     "output_type": "stream",
     "text": [
      "roll no: 46137name: ikhlas\n",
      "ins: HUthis is new linethis is new linethis is new linethis is new linethis is new linethis is new linethis is new line\n"
     ]
    }
   ],
   "source": [
    "file = open(\"student.txt\", 'r')\n",
    "contents = file.read()\n",
    "print(contents)"
   ]
  },
  {
   "cell_type": "code",
   "execution_count": 2,
   "metadata": {},
   "outputs": [
    {
     "data": {
      "text/plain": [
       "9"
      ]
     },
     "execution_count": 2,
     "metadata": {},
     "output_type": "execute_result"
    }
   ],
   "source": [
    "file = open(\"student.txt\", 'w')\n",
    "file.write(\"Something\")"
   ]
  },
  {
   "cell_type": "code",
   "execution_count": 3,
   "metadata": {},
   "outputs": [],
   "source": [
    "file.close()"
   ]
  },
  {
   "cell_type": "code",
   "execution_count": 5,
   "metadata": {},
   "outputs": [
    {
     "name": "stdout",
     "output_type": "stream",
     "text": [
      "Something\n"
     ]
    }
   ],
   "source": [
    "file = open(\"student.txt\", 'r')\n",
    "contents = file.read()\n",
    "print(contents)\n",
    "file.close()"
   ]
  },
  {
   "cell_type": "code",
   "execution_count": 9,
   "metadata": {},
   "outputs": [
    {
     "name": "stdout",
     "output_type": "stream",
     "text": [
      "Something\n"
     ]
    }
   ],
   "source": [
    "with open(\"student.txt\", \"r\") as file:\n",
    "    contents = file.read()\n",
    "    print(contents)"
   ]
  },
  {
   "cell_type": "code",
   "execution_count": 11,
   "metadata": {},
   "outputs": [],
   "source": [
    "with open(\"student.txt\", \"a\") as file:\n",
    "    file.write(\"\\nsomething new here\")"
   ]
  },
  {
   "cell_type": "code",
   "execution_count": 12,
   "metadata": {},
   "outputs": [
    {
     "name": "stdout",
     "output_type": "stream",
     "text": [
      "Something\n",
      "something new here\n"
     ]
    }
   ],
   "source": [
    "with open(\"student.txt\", \"r\") as file:\n",
    "    contents = file.read()\n",
    "    print(contents)"
   ]
  },
  {
   "cell_type": "code",
   "execution_count": 19,
   "metadata": {},
   "outputs": [
    {
     "name": "stdout",
     "output_type": "stream",
     "text": [
      "Twinkle, twinkle, little star\n",
      "How I wonder what you are\n",
      "Up above the world so high\n",
      "Like a diamond in the sky\n",
      "Twinkle, twinkle little star\n",
      "How I wonder what you are\n",
      "\n",
      "When the blazing sun is gone\n",
      "When he nothing shines upon\n",
      "Then you show your little light\n",
      "Twinkle, twinkle, all the night\n",
      "Twinkle, twinkle, little star\n",
      "How I wonder what you are\n",
      "<class 'str'>\n"
     ]
    }
   ],
   "source": [
    "with open(\"poem.txt\", 'r') as file:\n",
    "    contents = file.read()\n",
    "    print(contents)\n",
    "    print(type(contents))"
   ]
  },
  {
   "cell_type": "code",
   "execution_count": 15,
   "metadata": {},
   "outputs": [
    {
     "name": "stdout",
     "output_type": "stream",
     "text": [
      "['Twinkle, twinkle, little star\\n', 'How I wonder what you are\\n', 'Up above the world so high\\n', 'Like a diamond in the sky\\n', 'Twinkle, twinkle little star\\n', 'How I wonder what you are\\n', '\\n', 'When the blazing sun is gone\\n', 'When he nothing shines upon\\n', 'Then you show your little light\\n', 'Twinkle, twinkle, all the night\\n', 'Twinkle, twinkle, little star\\n', 'How I wonder what you are']\n",
      "<class 'list'>\n"
     ]
    }
   ],
   "source": [
    "with open(\"poem.txt\", 'r') as file:\n",
    "    contents = file.readlines()\n",
    "    print(contents)\n",
    "    print(type(contents))"
   ]
  },
  {
   "cell_type": "code",
   "execution_count": 18,
   "metadata": {},
   "outputs": [
    {
     "name": "stdout",
     "output_type": "stream",
     "text": [
      "Twinkle, twinkle, little star\n",
      "<class 'str'>\n"
     ]
    }
   ],
   "source": [
    "with open(\"poem.txt\", 'r') as file:\n",
    "    contents = file.readline()\n",
    "    print(contents, end=\"\")\n",
    "    print(type(contents))"
   ]
  },
  {
   "cell_type": "code",
   "execution_count": 22,
   "metadata": {},
   "outputs": [
    {
     "name": "stdout",
     "output_type": "stream",
     "text": [
      "Twinkle, twinkle, little star\n",
      "How I wonder what you are\n",
      "Up above the world so high\n",
      "Like a diamond in the sky\n",
      "Twinkle, twinkle little star\n",
      "How I wonder what you are\n",
      "\n",
      "When the blazing sun is gone\n",
      "When he nothing shines upon\n",
      "Then you show your little light\n",
      "Twinkle, twinkle, all the night\n",
      "Twinkle, twinkle, little star\n",
      "How I wonder what you are"
     ]
    }
   ],
   "source": [
    "with open(\"poem.txt\", 'r') as file:\n",
    "    contents = file.readlines()\n",
    "    for line in contents:\n",
    "        print(line, end=\"\")"
   ]
  },
  {
   "cell_type": "code",
   "execution_count": 26,
   "metadata": {},
   "outputs": [
    {
     "name": "stdout",
     "output_type": "stream",
     "text": [
      "Twinkle, twinkle, little star\n",
      "How I wonder what you are\n",
      "Up above the world so high\n",
      "Like a diamond in the sky\n",
      "Twinkle, twinkle little star\n",
      "How I wonder what you are\n",
      "\n",
      "When the blazing sun is gone\n",
      "When he nothing shines upon\n",
      "Then you show your little light\n",
      "Twinkle, twinkle, all the night\n",
      "Twinkle, twinkle, little star\n",
      "How I wonder what you are"
     ]
    }
   ],
   "source": [
    "with open(\"poem.txt\", 'r') as file:\n",
    "    while file:\n",
    "        line = file.readline()\n",
    "        print(line, end=\"\")\n",
    "        \n",
    "        if line == \"\":\n",
    "            break"
   ]
  },
  {
   "cell_type": "code",
   "execution_count": 28,
   "metadata": {},
   "outputs": [
    {
     "name": "stdout",
     "output_type": "stream",
     "text": [
      "Twinkle, twinkle, little star\n",
      "How I wonder what you are\n",
      "Up above the world so high\n",
      "Like a diamond in the sky\n",
      "Twinkle, twinkle little star\n",
      "How I wonder what you are\n",
      "\n",
      "When the blazing sun is gone\n",
      "When he nothing shines upon\n",
      "Then you show your little light\n",
      "Twinkle, twinkle, all the night\n",
      "Twinkle, twinkle, little star\n",
      "How I wonder what you are"
     ]
    }
   ],
   "source": [
    "with open(\"poem.txt\", 'r') as file:\n",
    "    line = file.readline()\n",
    "    while line != \"\":\n",
    "        print(line, end=\"\")\n",
    "        line = file.readline()"
   ]
  },
  {
   "cell_type": "code",
   "execution_count": 29,
   "metadata": {},
   "outputs": [
    {
     "name": "stdout",
     "output_type": "stream",
     "text": [
      "era uoy tahw rednow I woH\n",
      "rats elttil ,elkniwt ,elkniwT\n",
      "thgin eht lla ,elkniwt ,elkniwT\n",
      "thgil elttil ruoy wohs uoy nehT\n",
      "nopu senihs gnihton eh nehW\n",
      "enog si nus gnizalb eht nehW\n",
      "\n",
      "era uoy tahw rednow I woH\n",
      "rats elttil elkniwt ,elkniwT\n",
      "yks eht ni dnomaid a ekiL\n",
      "hgih os dlrow eht evoba pU\n",
      "era uoy tahw rednow I woH\n",
      "rats elttil ,elkniwt ,elkniwT\n"
     ]
    }
   ],
   "source": [
    "with open(\"poem.txt\", 'r') as file:\n",
    "    contents = file.read()\n",
    "    print(contents[::-1])"
   ]
  },
  {
   "cell_type": "code",
   "execution_count": 30,
   "metadata": {},
   "outputs": [
    {
     "name": "stdout",
     "output_type": "stream",
     "text": [
      "How I wonder what you areTwinkle, twinkle, little star\n",
      "Twinkle, twinkle, all the night\n",
      "Then you show your little light\n",
      "When he nothing shines upon\n",
      "When the blazing sun is gone\n",
      "\n",
      "How I wonder what you are\n",
      "Twinkle, twinkle little star\n",
      "Like a diamond in the sky\n",
      "Up above the world so high\n",
      "How I wonder what you are\n",
      "Twinkle, twinkle, little star\n"
     ]
    }
   ],
   "source": [
    "with open(\"poem.txt\", 'r') as file:\n",
    "    contents = file.readlines()\n",
    "    for line in contents[::-1]:\n",
    "        print(line, end=\"\")"
   ]
  },
  {
   "cell_type": "markdown",
   "metadata": {},
   "source": [
    "# Task\n",
    "Twinkle, twinkle, little star  \n",
    "star little ,twinkle ,twinkle"
   ]
  },
  {
   "cell_type": "code",
   "execution_count": 20,
   "metadata": {},
   "outputs": [
    {
     "name": "stdout",
     "output_type": "stream",
     "text": [
      "star little twinkle, Twinkle,\n",
      "are you what wonder I How\n",
      "high so world the above Up\n",
      "sky the in diamond a Like\n",
      "star little twinkle Twinkle,\n",
      "are you what wonder I How\n",
      "\n",
      "gone is sun blazing the When\n",
      "upon shines nothing he When\n",
      "light little your show you Then\n",
      "night the all twinkle, Twinkle,\n",
      "star little twinkle, Twinkle,\n",
      "are you what wonder I How\n"
     ]
    }
   ],
   "source": [
    "with open(\"poem.txt\", 'r') as file:\n",
    "    contents = file.readlines()\n",
    "    for line in contents:\n",
    "        print(\" \".join(line.split()[::-1]))"
   ]
  },
  {
   "cell_type": "code",
   "execution_count": 2,
   "metadata": {},
   "outputs": [],
   "source": [
    "poem = ['Twinkle, twinkle, little star', 'How I wonder what you are', 'Up above the world so high', 'Like a diamond in the sky', 'Twinkle, twinkle little star', 'How I wonder what you are', 'When the blazing sun is gone', 'When he nothing shines upon', 'Then you show your little light', 'Twinkle, twinkle, all the night', 'Twinkle, twinkle, little star', 'How I wonder what you are']"
   ]
  },
  {
   "cell_type": "code",
   "execution_count": 3,
   "metadata": {},
   "outputs": [],
   "source": [
    "with open(\"poem_w.txt\", \"w\") as file:\n",
    "    for line in poem:\n",
    "        file.write(line)"
   ]
  },
  {
   "cell_type": "code",
   "execution_count": 4,
   "metadata": {},
   "outputs": [],
   "source": [
    "with open(\"poem_w.txt\", \"w\") as file:\n",
    "    file.writelines(poem)"
   ]
  },
  {
   "cell_type": "code",
   "execution_count": 5,
   "metadata": {},
   "outputs": [],
   "source": [
    "with open(\"poem_w.txt\", \"w\") as file:\n",
    "    for line in poem:\n",
    "        print(line, file=file)"
   ]
  },
  {
   "cell_type": "code",
   "execution_count": 8,
   "metadata": {},
   "outputs": [],
   "source": [
    "with open(\"poem_w.txt\", \"w\") as file:\n",
    "    contents = \"\\n\".join(poem)\n",
    "    file.writelines(contents)"
   ]
  },
  {
   "cell_type": "code",
   "execution_count": 25,
   "metadata": {},
   "outputs": [
    {
     "name": "stdout",
     "output_type": "stream",
     "text": [
      "Enter your name: ayaz\n",
      "Enter your roll no: 46125\n",
      "Name: ikhlas\n",
      "Roll no: 46137\n",
      "Name: junaid\n",
      "Roll no: 46142\n",
      "Name: noman\n",
      "Roll no: 46154\n",
      "Name: ikram\n",
      "Roll no: 46138\n",
      "Name: ayaz\n",
      "Roll no: 46125\n",
      "\n"
     ]
    }
   ],
   "source": [
    "name = input(\"Enter your name: \")\n",
    "roll_no = int(input(\"Enter your roll no: \"))\n",
    "with open(\"Student_record.txt\", \"a+\") as file:\n",
    "    print(\"Name: {}\".format(name), file=file)\n",
    "    print(\"Roll no: {}\".format(roll_no), file=file)\n",
    "    \n",
    "    file.seek(0)\n",
    "    contents = file.read()\n",
    "    print(contents)"
   ]
  },
  {
   "cell_type": "code",
   "execution_count": 32,
   "metadata": {},
   "outputs": [
    {
     "name": "stdout",
     "output_type": "stream",
     "text": [
      "hello how are you\n",
      "nice weather\n",
      "\n"
     ]
    }
   ],
   "source": [
    "with open(\"practice.txt\", 'w+') as file:\n",
    "    print(\"hello how are you\", file=file)\n",
    "    print(\"nice weather\", file=file)\n",
    "    \n",
    "    file.seek(0)\n",
    "    contents = file.read()\n",
    "    print(contents)"
   ]
  },
  {
   "cell_type": "code",
   "execution_count": 35,
   "metadata": {},
   "outputs": [
    {
     "name": "stdout",
     "output_type": "stream",
     "text": [
      "7\n"
     ]
    }
   ],
   "source": [
    "def add(num1, num2):\n",
    "    return num1+num2\n",
    "\n",
    "\n",
    "print(add(5,2))"
   ]
  },
  {
   "cell_type": "code",
   "execution_count": 38,
   "metadata": {},
   "outputs": [
    {
     "name": "stdout",
     "output_type": "stream",
     "text": [
      "7\n"
     ]
    }
   ],
   "source": [
    "## annoynomous or lambda\n",
    "\n",
    "x = lambda num1, num2 : num1+num2\n",
    "\n",
    "print(x(5,2))"
   ]
  },
  {
   "cell_type": "code",
   "execution_count": 36,
   "metadata": {},
   "outputs": [
    {
     "name": "stdout",
     "output_type": "stream",
     "text": [
      "['200', '700', '460', '600', '2600']\n"
     ]
    }
   ],
   "source": [
    "price = [\"$200\", \"$700\", \"$460\", \"$600\", \"$2600\"]\n",
    "\n",
    "def clean(x):\n",
    "    return x.lstrip(\"$\")\n",
    "\n",
    "price = list(map(clean, price))\n",
    "print(price)"
   ]
  },
  {
   "cell_type": "code",
   "execution_count": 39,
   "metadata": {},
   "outputs": [
    {
     "name": "stdout",
     "output_type": "stream",
     "text": [
      "['200', '700', '460', '600', '2600']\n"
     ]
    }
   ],
   "source": [
    "price = [\"$200\", \"$700\", \"$460\", \"$600\", \"$2600\"]\n",
    "\n",
    "price = list(map(lambda x: x.lstrip(\"$\"), price))\n",
    "print(price)"
   ]
  },
  {
   "cell_type": "markdown",
   "metadata": {},
   "source": [
    "CSV (comma separated values)  \n",
    "name, rollno, fnmae,  "
   ]
  },
  {
   "cell_type": "code",
   "execution_count": 45,
   "metadata": {},
   "outputs": [
    {
     "name": "stdout",
     "output_type": "stream",
     "text": [
      "['roll no', 'name', 'institute', 'departement']\n",
      "['46137', 'ikhlas', 'hu', 'IT']\n",
      "['46142', 'junaid', 'hu', 'IT']\n"
     ]
    }
   ],
   "source": [
    "import csv\n",
    "\n",
    "with open(\"student_info.csv\", \"r\") as file:\n",
    "    contents = csv.reader(file)\n",
    "    for line in contents:\n",
    "        print(line)"
   ]
  },
  {
   "cell_type": "code",
   "execution_count": 47,
   "metadata": {},
   "outputs": [
    {
     "data": {
      "text/html": [
       "<div>\n",
       "<style scoped>\n",
       "    .dataframe tbody tr th:only-of-type {\n",
       "        vertical-align: middle;\n",
       "    }\n",
       "\n",
       "    .dataframe tbody tr th {\n",
       "        vertical-align: top;\n",
       "    }\n",
       "\n",
       "    .dataframe thead th {\n",
       "        text-align: right;\n",
       "    }\n",
       "</style>\n",
       "<table border=\"1\" class=\"dataframe\">\n",
       "  <thead>\n",
       "    <tr style=\"text-align: right;\">\n",
       "      <th></th>\n",
       "      <th>roll no</th>\n",
       "      <th>name</th>\n",
       "      <th>institute</th>\n",
       "      <th>departement</th>\n",
       "    </tr>\n",
       "  </thead>\n",
       "  <tbody>\n",
       "    <tr>\n",
       "      <th>0</th>\n",
       "      <td>46137</td>\n",
       "      <td>ikhlas</td>\n",
       "      <td>hu</td>\n",
       "      <td>IT</td>\n",
       "    </tr>\n",
       "    <tr>\n",
       "      <th>1</th>\n",
       "      <td>46142</td>\n",
       "      <td>junaid</td>\n",
       "      <td>hu</td>\n",
       "      <td>IT</td>\n",
       "    </tr>\n",
       "  </tbody>\n",
       "</table>\n",
       "</div>"
      ],
      "text/plain": [
       "   roll no    name institute departement\n",
       "0    46137  ikhlas        hu          IT\n",
       "1    46142  junaid        hu          IT"
      ]
     },
     "execution_count": 47,
     "metadata": {},
     "output_type": "execute_result"
    }
   ],
   "source": [
    "import pandas as pd\n",
    "\n",
    "df = pd.read_csv(\"student_info.csv\")\n",
    "df"
   ]
  },
  {
   "cell_type": "code",
   "execution_count": 48,
   "metadata": {},
   "outputs": [
    {
     "name": "stdout",
     "output_type": "stream",
     "text": [
      "1\n",
      "2\n",
      "3\n",
      "4\n"
     ]
    }
   ],
   "source": [
    "l = [1,2,3,4]\n",
    "for i in l:\n",
    "    print(i)"
   ]
  },
  {
   "cell_type": "markdown",
   "metadata": {},
   "source": [
    "# make a list of 16 items  \n",
    "# display as 2d  \n",
    "1 2 3 4  \n",
    "5 6 7 8  \n",
    "9 10 11 12  \n",
    "13 14 15 16"
   ]
  }
 ],
 "metadata": {
  "kernelspec": {
   "display_name": "Python 3",
   "language": "python",
   "name": "python3"
  },
  "language_info": {
   "codemirror_mode": {
    "name": "ipython",
    "version": 3
   },
   "file_extension": ".py",
   "mimetype": "text/x-python",
   "name": "python",
   "nbconvert_exporter": "python",
   "pygments_lexer": "ipython3",
   "version": "3.8.3"
  }
 },
 "nbformat": 4,
 "nbformat_minor": 4
}
