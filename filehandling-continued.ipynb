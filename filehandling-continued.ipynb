{
 "cells": [
  {
   "cell_type": "code",
   "execution_count": 1,
   "metadata": {},
   "outputs": [
    {
     "name": "stdout",
     "output_type": "stream",
     "text": [
      "roll no: 46137name: ikhlas\n",
      "ins: HUthis is new linethis is new linethis is new linethis is new linethis is new linethis is new linethis is new line\n"
     ]
    }
   ],
   "source": [
    "file = open(\"student.txt\", 'r')\n",
    "contents = file.read()\n",
    "print(contents)"
   ]
  },
  {
   "cell_type": "code",
   "execution_count": 2,
   "metadata": {},
   "outputs": [
    {
     "data": {
      "text/plain": [
       "9"
      ]
     },
     "execution_count": 2,
     "metadata": {},
     "output_type": "execute_result"
    }
   ],
   "source": [
    "file = open(\"student.txt\", 'w')\n",
    "file.write(\"Something\")"
   ]
  },
  {
   "cell_type": "code",
   "execution_count": 3,
   "metadata": {},
   "outputs": [],
   "source": [
    "file.close()"
   ]
  },
  {
   "cell_type": "code",
   "execution_count": 5,
   "metadata": {},
   "outputs": [
    {
     "name": "stdout",
     "output_type": "stream",
     "text": [
      "Something\n"
     ]
    }
   ],
   "source": [
    "file = open(\"student.txt\", 'r')\n",
    "contents = file.read()\n",
    "print(contents)\n",
    "file.close()"
   ]
  },
  {
   "cell_type": "code",
   "execution_count": 9,
   "metadata": {},
   "outputs": [
    {
     "name": "stdout",
     "output_type": "stream",
     "text": [
      "Something\n"
     ]
    }
   ],
   "source": [
    "with open(\"student.txt\", \"r\") as file:\n",
    "    contents = file.read()\n",
    "    print(contents)"
   ]
  },
  {
   "cell_type": "code",
   "execution_count": 11,
   "metadata": {},
   "outputs": [],
   "source": [
    "with open(\"student.txt\", \"a\") as file:\n",
    "    file.write(\"\\nsomething new here\")"
   ]
  },
  {
   "cell_type": "code",
   "execution_count": 12,
   "metadata": {},
   "outputs": [
    {
     "name": "stdout",
     "output_type": "stream",
     "text": [
      "Something\n",
      "something new here\n"
     ]
    }
   ],
   "source": [
    "with open(\"student.txt\", \"r\") as file:\n",
    "    contents = file.read()\n",
    "    print(contents)"
   ]
  },
  {
   "cell_type": "code",
   "execution_count": 19,
   "metadata": {},
   "outputs": [
    {
     "name": "stdout",
     "output_type": "stream",
     "text": [
      "Twinkle, twinkle, little star\n",
      "How I wonder what you are\n",
      "Up above the world so high\n",
      "Like a diamond in the sky\n",
      "Twinkle, twinkle little star\n",
      "How I wonder what you are\n",
      "\n",
      "When the blazing sun is gone\n",
      "When he nothing shines upon\n",
      "Then you show your little light\n",
      "Twinkle, twinkle, all the night\n",
      "Twinkle, twinkle, little star\n",
      "How I wonder what you are\n",
      "<class 'str'>\n"
     ]
    }
   ],
   "source": [
    "with open(\"poem.txt\", 'r') as file:\n",
    "    contents = file.read()\n",
    "    print(contents)\n",
    "    print(type(contents))"
   ]
  },
  {
   "cell_type": "code",
   "execution_count": 15,
   "metadata": {},
   "outputs": [
    {
     "name": "stdout",
     "output_type": "stream",
     "text": [
      "['Twinkle, twinkle, little star\\n', 'How I wonder what you are\\n', 'Up above the world so high\\n', 'Like a diamond in the sky\\n', 'Twinkle, twinkle little star\\n', 'How I wonder what you are\\n', '\\n', 'When the blazing sun is gone\\n', 'When he nothing shines upon\\n', 'Then you show your little light\\n', 'Twinkle, twinkle, all the night\\n', 'Twinkle, twinkle, little star\\n', 'How I wonder what you are']\n",
      "<class 'list'>\n"
     ]
    }
   ],
   "source": [
    "with open(\"poem.txt\", 'r') as file:\n",
    "    contents = file.readlines()\n",
    "    print(contents)\n",
    "    print(type(contents))"
   ]
  },
  {
   "cell_type": "code",
   "execution_count": 18,
   "metadata": {},
   "outputs": [
    {
     "name": "stdout",
     "output_type": "stream",
     "text": [
      "Twinkle, twinkle, little star\n",
      "<class 'str'>\n"
     ]
    }
   ],
   "source": [
    "with open(\"poem.txt\", 'r') as file:\n",
    "    contents = file.readline()\n",
    "    print(contents, end=\"\")\n",
    "    print(type(contents))"
   ]
  },
  {
   "cell_type": "code",
   "execution_count": 22,
   "metadata": {},
   "outputs": [
    {
     "name": "stdout",
     "output_type": "stream",
     "text": [
      "Twinkle, twinkle, little star\n",
      "How I wonder what you are\n",
      "Up above the world so high\n",
      "Like a diamond in the sky\n",
      "Twinkle, twinkle little star\n",
      "How I wonder what you are\n",
      "\n",
      "When the blazing sun is gone\n",
      "When he nothing shines upon\n",
      "Then you show your little light\n",
      "Twinkle, twinkle, all the night\n",
      "Twinkle, twinkle, little star\n",
      "How I wonder what you are"
     ]
    }
   ],
   "source": [
    "with open(\"poem.txt\", 'r') as file:\n",
    "    contents = file.readlines()\n",
    "    for line in contents:\n",
    "        print(line, end=\"\")"
   ]
  },
  {
   "cell_type": "code",
   "execution_count": 26,
   "metadata": {},
   "outputs": [
    {
     "name": "stdout",
     "output_type": "stream",
     "text": [
      "Twinkle, twinkle, little star\n",
      "How I wonder what you are\n",
      "Up above the world so high\n",
      "Like a diamond in the sky\n",
      "Twinkle, twinkle little star\n",
      "How I wonder what you are\n",
      "\n",
      "When the blazing sun is gone\n",
      "When he nothing shines upon\n",
      "Then you show your little light\n",
      "Twinkle, twinkle, all the night\n",
      "Twinkle, twinkle, little star\n",
      "How I wonder what you are"
     ]
    }
   ],
   "source": [
    "with open(\"poem.txt\", 'r') as file:\n",
    "    while file:\n",
    "        line = file.readline()\n",
    "        print(line, end=\"\")\n",
    "        \n",
    "        if line == \"\":\n",
    "            break"
   ]
  },
  {
   "cell_type": "code",
   "execution_count": 28,
   "metadata": {},
   "outputs": [
    {
     "name": "stdout",
     "output_type": "stream",
     "text": [
      "Twinkle, twinkle, little star\n",
      "How I wonder what you are\n",
      "Up above the world so high\n",
      "Like a diamond in the sky\n",
      "Twinkle, twinkle little star\n",
      "How I wonder what you are\n",
      "\n",
      "When the blazing sun is gone\n",
      "When he nothing shines upon\n",
      "Then you show your little light\n",
      "Twinkle, twinkle, all the night\n",
      "Twinkle, twinkle, little star\n",
      "How I wonder what you are"
     ]
    }
   ],
   "source": [
    "with open(\"poem.txt\", 'r') as file:\n",
    "    line = file.readline()\n",
    "    while line != \"\":\n",
    "        print(line, end=\"\")\n",
    "        line = file.readline()"
   ]
  },
  {
   "cell_type": "code",
   "execution_count": 29,
   "metadata": {},
   "outputs": [
    {
     "name": "stdout",
     "output_type": "stream",
     "text": [
      "era uoy tahw rednow I woH\n",
      "rats elttil ,elkniwt ,elkniwT\n",
      "thgin eht lla ,elkniwt ,elkniwT\n",
      "thgil elttil ruoy wohs uoy nehT\n",
      "nopu senihs gnihton eh nehW\n",
      "enog si nus gnizalb eht nehW\n",
      "\n",
      "era uoy tahw rednow I woH\n",
      "rats elttil elkniwt ,elkniwT\n",
      "yks eht ni dnomaid a ekiL\n",
      "hgih os dlrow eht evoba pU\n",
      "era uoy tahw rednow I woH\n",
      "rats elttil ,elkniwt ,elkniwT\n"
     ]
    }
   ],
   "source": [
    "with open(\"poem.txt\", 'r') as file:\n",
    "    contents = file.read()\n",
    "    print(contents[::-1])"
   ]
  },
  {
   "cell_type": "code",
   "execution_count": 30,
   "metadata": {},
   "outputs": [
    {
     "name": "stdout",
     "output_type": "stream",
     "text": [
      "How I wonder what you areTwinkle, twinkle, little star\n",
      "Twinkle, twinkle, all the night\n",
      "Then you show your little light\n",
      "When he nothing shines upon\n",
      "When the blazing sun is gone\n",
      "\n",
      "How I wonder what you are\n",
      "Twinkle, twinkle little star\n",
      "Like a diamond in the sky\n",
      "Up above the world so high\n",
      "How I wonder what you are\n",
      "Twinkle, twinkle, little star\n"
     ]
    }
   ],
   "source": [
    "with open(\"poem.txt\", 'r') as file:\n",
    "    contents = file.readlines()\n",
    "    for line in contents[::-1]:\n",
    "        print(line, end=\"\")"
   ]
  },
  {
   "cell_type": "markdown",
   "metadata": {},
   "source": [
    "# Task\n",
    "Twinkle, twinkle, little star\n",
    "star little ,twinkle ,twinkle"
   ]
  },
  {
   "cell_type": "code",
   "execution_count": 31,
   "metadata": {},
   "outputs": [],
   "source": [
    "poem = ['Twinkle, twinkle, little star', 'How I wonder what you are', 'Up above the world so high', 'Like a diamond in the sky', 'Twinkle, twinkle little star', 'How I wonder what you are', 'When the blazing sun is gone', 'When he nothing shines upon', 'Then you show your little light', 'Twinkle, twinkle, all the night', 'Twinkle, twinkle, little star', 'How I wonder what you are']"
   ]
  },
  {
   "cell_type": "code",
   "execution_count": 35,
   "metadata": {},
   "outputs": [],
   "source": [
    "with open(\"poem_w.txt\", \"w\") as file:\n",
    "    for line in poem:\n",
    "        file.write(line)"
   ]
  },
  {
   "cell_type": "code",
   "execution_count": 38,
   "metadata": {},
   "outputs": [],
   "source": [
    "with open(\"poem_w.txt\", \"w\") as file:\n",
    "    file.writelines(poem)"
   ]
  },
  {
   "cell_type": "code",
   "execution_count": 39,
   "metadata": {},
   "outputs": [],
   "source": [
    "with open(\"poem_w.txt\", \"w\") as file:\n",
    "    for line in poem:\n",
    "        print(line, file=file)"
   ]
  }
 ],
 "metadata": {
  "kernelspec": {
   "display_name": "Python 3",
   "language": "python",
   "name": "python3"
  },
  "language_info": {
   "codemirror_mode": {
    "name": "ipython",
    "version": 3
   },
   "file_extension": ".py",
   "mimetype": "text/x-python",
   "name": "python",
   "nbconvert_exporter": "python",
   "pygments_lexer": "ipython3",
   "version": "3.8.3"
  }
 },
 "nbformat": 4,
 "nbformat_minor": 4
}
